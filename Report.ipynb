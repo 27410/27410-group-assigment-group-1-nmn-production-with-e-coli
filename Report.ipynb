{
 "cells": [
  {
   "cell_type": "markdown",
   "metadata": {},
   "source": [
    "# Enhancing GSM of E.coli for production of NMN"
   ]
  },
  {
   "cell_type": "markdown",
   "metadata": {},
   "source": [
    "## 1. Introduction"
   ]
  },
  {
   "cell_type": "markdown",
   "metadata": {},
   "source": [
    "### 1.1 Literature review of the compound (<500 words)"
   ]
  },
  {
   "cell_type": "markdown",
   "metadata": {},
   "source": [
    "### 1.2 Literature review of the cell factory (<500 words)"
   ]
  },
  {
   "cell_type": "markdown",
   "metadata": {},
   "source": [
    "For this project we have chosen to use the gram-negativ, facultative anaerobic, rod shaped bacterium *Escherichia coli* as a cell factory. *Escherichia coli* is known as one of the most intensively studied chassis in the academic literature, why it is also often referred to as one of the most important model organism in biology. \n",
    "\n",
    "![Escherichia coli](https://class27410.bioengineering.dtu.dk/user/s213169/files/27410-group-assigment-group-1-nmn-production-with-e-coli/pictures/E_coli_at_10000x%2C_original.jpg?_xsrf=2%7Cfce3fdd0%7C7cd35c4978ec0d972a47ddfee522e484%7C1664824041)\n",
    "\n",
    "*Figure: Escherichia coli* Source: https://upload.wikimedia.org/wikipedia/commons/b/bc/E_coli_at_10000x%2C_original.jpg"
   ]
  },
  {
   "cell_type": "markdown",
   "metadata": {},
   "source": [
    "#### 1.2.1\tGeneral Advantages\n",
    "Revelant knowledge is one of the most important values for successfull investigations in science or fruitfull implementation of projects in industry. The huge availibility of data about *E.coli*, generetaded over the last centuries is alone an advantage over new discovered chassis. The reason, why *E.coli* became one of the most abundant studied organism so far was not the fact, that few strains are pathogenic to humans. Morelikely the facts, that *E. coli* is easily accessable, robust and fast growing on different kind of media made *E.coli* responsable for many groundbreaking discoveries like transcription, translation and replication. The ability of *E.coli* to grow in the abscence of oxygen makes the strain ecomical interesting.   \n",
    "The availibility of recent developments in systems biology, synthetic biology and evolutionary engineering within *E.coli*. makes the it the easiest way to increase the production of many chemicals and any metabolites. The usage of *E.coli*K-12 strain as an industrial chassis is already proven through many biotechnological applications. (Chen 2015)\n"
   ]
  },
  {
   "cell_type": "markdown",
   "metadata": {},
   "source": [
    "#### 1.2.2\tGeneral disadvantages\n",
    "In addition to a variety of advantages, the literature states that most of the disadvantages in the use of \n",
    "Escherichia coli K12 strains concerns heterologous protein production. For example, high acetate production and high protease activity inhibit production flux (Zhou, 2017). \n",
    "In particular, accumulated acetate decreases the growth and biomass concentration of E.coli (Lozano, 2019).\n",
    "Acid-mixed fermentation processes involving E. coli are also often hindered by limited NADH availability, poor cell growth, and slow production (Lin, 2005). "
   ]
  },
  {
   "cell_type": "markdown",
   "metadata": {},
   "source": [
    "#### 1.2.3\tSuitability of the cell factory for the product\n",
    "The existing metabolism of E.coli already naturally produces NMN, an important precursor and intermediate of NAD+. \n",
    "Similar studies in which E.coli already produces NMN utilize the NAMPT gene from *Haemophilus ducreyi* and PRPP synthetase from *Bacillus amyloliquefaciens* with an L135I mutation. (marinescu, 2018) \n",
    "The accumulation of extracellular NMN was further increased after the introduction of an NMN transporter (Huang, 2022). \n",
    "Various strains and chassis were carefully evaluated to be selected as our suitable cell factory. Based on the advantages described above and the already promising literature results with E.coli, we chose E.coli as our chassis to avoid limiting the project by potential underperformance of another cell factory, where the knowledge basis not as good as with e.coli producing NMN. \n",
    "\n",
    "![NMN Pathway](https://class27410.bioengineering.dtu.dk/user/s213169/files/27410-group-assigment-group-1-nmn-production-with-e-coli/pictures/Ecoli%20NMN%20Pathway.jpeg?_xsrf=2%7Cfce3fdd0%7C7cd35c4978ec0d972a47ddfee522e484%7C1664824041)\n",
    "*Figure: NMN Pathway with potential modification* Source: (Huang, 2022) \n"
   ]
  },
  {
   "cell_type": "markdown",
   "metadata": {},
   "source": [
    "## 2. Problem definition (<300 words)"
   ]
  },
  {
   "cell_type": "code",
   "execution_count": null,
   "metadata": {},
   "outputs": [],
   "source": []
  },
  {
   "cell_type": "markdown",
   "metadata": {},
   "source": [
    "## 3. Selection and assessment of existing GSM (<500 words)"
   ]
  },
  {
   "cell_type": "markdown",
   "metadata": {},
   "source": [
    "### 3.1. *E. coli* GSM model iML1515"
   ]
  },
  {
   "cell_type": "markdown",
   "metadata": {},
   "source": [
    "The cell factory selected for the production of NMN in this project is the *E. coli* strain K-12. This is a well studied organism and therefore has wide range of genomic scale models available for download and utilization. The BiGG Models database was used to find and compare GSMs for *E. Coli* str. K-12. Multiple options were available with varying number of metabolites, reactions, and genes. The best and most documented model being the iML1515 genomic scale model for the *E. Coli* K-12 substrain MG1665. iML1515 is the most comprehensive and complete metabolic reconstruction *E. Coli* K-12 MG1665 and contains 1877 metabolites, 2712, reactions and 1516 genes. The metabolic pathway for NMN is also incorporated into the model, which allows us to optimize the NMN production. (Monk, iML1515, a knowledgebase that computes Escherichia coli traits)\n",
    "\n"
   ]
  },
  {
   "cell_type": "markdown",
   "metadata": {},
   "source": [
    "### 3.2. Assessment of iML1515"
   ]
  },
  {
   "attachments": {
    "2f9eeaa3-6561-4102-8edd-60899c569915.png": {
     "image/png": "[encoded data removed]"
    }
   },
   "cell_type": "markdown",
   "metadata": {},
   "source": [
    "To further assert the usefulness of the iML1515 we tested the model using MEMOTE. MEMOTE benchmarks metabolic models written in the Systems Biology Markup Language (SBML) using consensus tests for four general areas of a genomic scale model. The four areas are annotation, basic tests, biomass reaction and stoichiometry. MEMOTE quantifies the individual test results and gives an overall score. (Christian Lieven, MEMOTE for standardized genome-scale metabolic model testing)\n",
    "\n",
    "![iML1515_score.png](attachment:2f9eeaa3-6561-4102-8edd-60899c569915.png)\n",
    " \n",
    "The test shows an overall score of 91% which is a very high score and proves that iML1515 is a very comprehensive model. The test had to be run using the JSON format genomic scale model, as the MEMOTE could not handle the size of the SBML format. A similar sized GSM of *E. Coli* K-12 W3110 with the BiGG ID iY75_1357 only got an overall score of 72%. This model was also considered, but with the low MEMOTE score and no validation and documentation describing its capabilities we opted for iML1515.\n"
   ]
  },
  {
   "cell_type": "markdown",
   "metadata": {},
   "source": [
    "## 4. Computer-Aided Cell Factory Engineering (<1500 words if Category II project)"
   ]
  },
  {
   "cell_type": "code",
   "execution_count": null,
   "metadata": {},
   "outputs": [],
   "source": []
  },
  {
   "cell_type": "markdown",
   "metadata": {},
   "source": [
    "## 5. Discussion (<500 words)"
   ]
  },
  {
   "cell_type": "code",
   "execution_count": null,
   "metadata": {},
   "outputs": [],
   "source": []
  },
  {
   "cell_type": "markdown",
   "metadata": {},
   "source": [
    "## 6. Conclusion (<200 words)"
   ]
  },
  {
   "cell_type": "code",
   "execution_count": null,
   "metadata": {},
   "outputs": [],
   "source": []
  },
  {
   "cell_type": "markdown",
   "metadata": {},
   "source": [
    "## References"
   ]
  },
  {
   "cell_type": "markdown",
   "metadata": {},
   "source": [
    "Chen, Xianzhong, et al. \"Metabolic engineering of Escherichia coli: a sustainable industrial platform for bio-based chemical production.\" Biotechnology advances 31.8 (2013): 1200-1223.\n",
    "\n",
    "Zhou, Jizhong, and Daliang Ning. \"Stochastic community assembly: does it matter in microbial ecology?.\" Microbiology and Molecular Biology Reviews 81.4 (2017): e00002-17.\n",
    "\n",
    "Lozano Terol, Gema, et al. \"Engineering protein production by rationally choosing a carbon and nitrogen source using E. coli BL21 acetate metabolism knockout strains.\" Microbial cell factories 18.1 (2019): 1-19.\n",
    "\n",
    "Lin, Henry, George N. Bennett, and Ka‐Yiu San. \"Genetic reconstruction of the aerobic central metabolism in Escherichia coli for the absolute aerobic production of succinate.\" Biotechnology and bioengineering 89.2 (2005): 148-156.\n",
    "\n",
    "Marinescu, George Cătălin, et al. \"β-nicotinamide mononucleotide (NMN) production in Escherichia coli.\" Scientific reports 8.1 (2018): 1-11.\n",
    "\n",
    "Huang, Zhongshi, et al. \"Systematic Engineering of Escherichia coli for Efficient Production of Nicotinamide Mononucleotide From Nicotinamide.\" ACS Synthetic Biology 11.9 (2022): 2979-2988."
   ]
  }
 ],
 "metadata": {
  "kernelspec": {
   "display_name": "python3.6",
   "language": "python",
   "name": "python3.6"
  },
  "language_info": {
   "codemirror_mode": {
    "name": "ipython",
    "version": 3
   },
   "file_extension": ".py",
   "mimetype": "text/x-python",
   "name": "python",
   "nbconvert_exporter": "python",
   "pygments_lexer": "ipython3",
   "version": "3.6.12"
  }
 },
 "nbformat": 4,
 "nbformat_minor": 4
}
