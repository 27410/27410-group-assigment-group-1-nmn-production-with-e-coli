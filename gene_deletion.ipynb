{
 "cells": [
  {
   "cell_type": "markdown",
   "id": "c62cd619-28ce-4c9b-b156-4f08aed0316c",
   "metadata": {},
   "source": [
    "The following script will be used to adjust the already create models further with gene deletions to further increase the similarity to the *e. coli* pathways, that are described in Huang, Zhongshi, et al paper. "
   ]
  },
  {
   "cell_type": "code",
   "execution_count": 2,
   "id": "8a349523-62bb-4368-a400-40ac4bd8f32c",
   "metadata": {},
   "outputs": [],
   "source": [
    "# This is just importing of the model and some tools to work with the GSM.\n",
    "import numpy as np\n",
    "from cobra.io import read_sbml_model\n",
    "from cobra.util import create_stoichiometric_matrix\n",
    "from cobra import Reaction, Metabolite\n",
    "import pandas as pd\n",
    "# Read model (central metabolism model of Escherichia coli)\n",
    "model = read_sbml_model(\"iML1515.xml\")\n",
    "%run -i create_pathway.ipynb #runs script, has "
   ]
  },
  {
   "cell_type": "code",
   "execution_count": 3,
   "id": "6c0df819-4f54-421a-b249-3e1df2c1f676",
   "metadata": {},
   "outputs": [],
   "source": [
    "# creating the models with the respective pathways\n",
    "nam_model = create_pathway(model.copy(),1)\n",
    "na_model = create_pathway(model.copy(),2)\n",
    "nr_model = create_pathway(model.copy(),3)\n",
    "models = [(nam_model,'NAMPT'),(na_model,'NMN Synthetase'),(nr_model,'DeoD')]"
   ]
  },
  {
   "cell_type": "code",
   "execution_count": 4,
   "id": "e1238b12-1d50-4db1-a653-7011ffec40af",
   "metadata": {},
   "outputs": [],
   "source": [
    "import pandas\n",
    "from time import time\n",
    "\n",
    "from cobra.io import load_model\n",
    "from cobra.flux_analysis import (\n",
    "    single_gene_deletion, single_reaction_deletion, double_gene_deletion,\n",
    "    double_reaction_deletion)"
   ]
  },
  {
   "cell_type": "markdown",
   "id": "7720ba14-3bca-4680-84ec-87acd63b35a9",
   "metadata": {},
   "source": [
    "NAM Model: For the Nam Model it is not necessary to Knockout the purR gene, because it is not available in the GSM "
   ]
  },
  {
   "cell_type": "markdown",
   "id": "2f29e310-ec68-44b6-b808-d8efc3db9d9b",
   "metadata": {},
   "source": [
    "NA Model: For the NA Model it is necessary to knock out the pncC gene. The pncC is known as the gene: b2700 in the iML1515 model and is associated to the reaction NMNDA "
   ]
  },
  {
   "cell_type": "code",
   "execution_count": 5,
   "id": "2918d5b0-4181-4faa-8e0c-4330cfe80774",
   "metadata": {},
   "outputs": [
    {
     "name": "stdout",
     "output_type": "stream",
     "text": [
      "complete model:  <Solution 0.877 at 0x7f98622f99a0>\n",
      "pncC knocked out:  <Solution 0.877 at 0x7f98622f9af0>\n"
     ]
    }
   ],
   "source": [
    "print('complete model: ', na_model.optimize())\n",
    "with na_model:\n",
    "    na_model.genes.b2700.knock_out()\n",
    "    print('pncC knocked out: ', na_model.optimize())\n",
    "    "
   ]
  },
  {
   "cell_type": "markdown",
   "id": "7a6c52c4-8ef5-4de0-9c1f-f055c4de1fd5",
   "metadata": {},
   "source": [
    "NR Model: For the NR Model it is imortant to knock out the nadR and ushA genes. The UshA gene is known as the b0480 gene in the iML1515 model and is associated to many different reactions. the nadR is known as the b4390 gene and associated for the NMNAT reaction.  "
   ]
  },
  {
   "cell_type": "code",
   "execution_count": 6,
   "id": "1a504b72-26bc-43bb-b64e-f11ec68b0928",
   "metadata": {},
   "outputs": [
    {
     "name": "stdout",
     "output_type": "stream",
     "text": [
      "complete model:  <Solution 0.877 at 0x7f984f659850>\n",
      "ushA knocked out:  <Solution 0.877 at 0x7f984ed255e0>\n",
      "nadR knocked out:  <Solution 0.877 at 0x7f984f6599d0>\n"
     ]
    }
   ],
   "source": [
    "print('complete model: ', nr_model.optimize())\n",
    "with nr_model:\n",
    "    nr_model.genes.b0480.knock_out()\n",
    "    print('ushA knocked out: ', nr_model.optimize())\n",
    "    nr_model.genes.b4390.knock_out()\n",
    "    print('nadR knocked out: ', nr_model.optimize())"
   ]
  },
  {
   "cell_type": "code",
   "execution_count": 11,
   "id": "c8d8e31e-5547-425a-9615-bd461caa5830",
   "metadata": {},
   "outputs": [],
   "source": [
    "import logging\n",
    "from ast import And, BoolOp, Name, NodeTransformer\n",
    "from functools import partial\n",
    "from typing import TYPE_CHECKING, Iterable, List, Optional, Set, Tuple, Union\n",
    "\n",
    "from cobra.util import get_context"
   ]
  },
  {
   "cell_type": "code",
   "execution_count": 13,
   "id": "6d17e620-53c5-4fc9-8afb-59a85b915f9e",
   "metadata": {},
   "outputs": [],
   "source": [
    "if TYPE_CHECKING:\n",
    "    from cobra import Gene, Metabolite, Model, Reaction"
   ]
  },
  {
   "cell_type": "code",
   "execution_count": 45,
   "id": "7a456c63-e769-46d9-9c40-c6250a60defe",
   "metadata": {},
   "outputs": [
    {
     "ename": "IndentationError",
     "evalue": "expected an indented block (4059293625.py, line 4)",
     "output_type": "error",
     "traceback": [
      "\u001b[0;36m  File \u001b[0;32m\"/var/folders/h3/x6q3yvmn0md8xnt6zchgb1jh0000gn/T/ipykernel_17919/4059293625.py\"\u001b[0;36m, line \u001b[0;32m4\u001b[0m\n\u001b[0;31m    remove_reactions: bool = True,) -> None:\u001b[0m\n\u001b[0m                                            ^\u001b[0m\n\u001b[0;31mIndentationError\u001b[0m\u001b[0;31m:\u001b[0m expected an indented block\n"
     ]
    }
   ],
   "source": [
    "def remove_genes(\n",
    "    model:\"na_model\",\n",
    "    gene_list: Union[List[\"b2700\"],Set[\"Gene\"],List[str],Union[str]],\n",
    "    remove_reactions: bool = True,) -> None:"
   ]
  },
  {
   "cell_type": "code",
   "execution_count": 36,
   "id": "3726fbe0-fd04-41c4-9bf4-d08a5c164133",
   "metadata": {},
   "outputs": [
    {
     "ename": "SyntaxError",
     "evalue": "invalid syntax (1618058666.py, line 3)",
     "output_type": "error",
     "traceback": [
      "\u001b[0;36m  File \u001b[0;32m\"/var/folders/h3/x6q3yvmn0md8xnt6zchgb1jh0000gn/T/ipykernel_17919/1618058666.py\"\u001b[0;36m, line \u001b[0;32m3\u001b[0m\n\u001b[0;31m    gene_list:Union[List[\"b2700\"],Set[\"Gene\"],List[str],Union[str]],\u001b[0m\n\u001b[0m    ^\u001b[0m\n\u001b[0;31mSyntaxError\u001b[0m\u001b[0;31m:\u001b[0m invalid syntax\n"
     ]
    }
   ],
   "source": [
    "def remove_genes(\n",
    "    model: \"na_model\"\n",
    "    gene_list:Union[List[\"b2700\"],Set[\"Gene\"],List[str],Union[str]],\n",
    "    remove_reaction:bool = True,)\n",
    "-> None: "
   ]
  },
  {
   "cell_type": "markdown",
   "id": "cad505c5-7f92-4752-aaa3-1e80b89252be",
   "metadata": {
    "tags": []
   },
   "source": [
    "double_gene_deletion(\n",
    "    nr_model, nr_model.genes[-5:]).round(2)"
   ]
  },
  {
   "cell_type": "code",
   "execution_count": 31,
   "id": "4f37a848-38f5-42eb-982f-cbf09402250f",
   "metadata": {},
   "outputs": [
    {
     "ename": "SyntaxError",
     "evalue": "EOF while scanning triple-quoted string literal (883206811.py, line 17)",
     "output_type": "error",
     "traceback": [
      "\u001b[0;36m  File \u001b[0;32m\"/var/folders/h3/x6q3yvmn0md8xnt6zchgb1jh0000gn/T/ipykernel_17919/883206811.py\"\u001b[0;36m, line \u001b[0;32m17\u001b[0m\n\u001b[0;31m    The list of genes to knock-out.\u001b[0m\n\u001b[0m                                   \n^\u001b[0m\n\u001b[0;31mSyntaxError\u001b[0m\u001b[0;31m:\u001b[0m EOF while scanning triple-quoted string literal\n"
     ]
    }
   ],
   "source": [
    "\n",
    "\n",
    "def knock_out_model_genes(\n",
    "    model: \"Model\",\n",
    "    gene_list: Iterable[Union[\"b2700\", int, str]],\n",
    ") -> List[\"Reaction\"]:\n",
    "    \"\"\"Disable the genes in `gene_list`.\n",
    "\n",
    "    It sets the bounds to \"zero\" for reactions catalysed by the genes in\n",
    "    `gene_list` if deleting the genes would stop the reactions from proceeding.\n",
    "\n",
    "    The changes are reverted upon exit if executed within the model as context.\n",
    "\n",
    "    Parameters\n",
    "    ----------\n",
    "    model: cobra.Model\n",
    "        The model whose reaction bounds are to be set.\n",
    "    gene_list: list of cobra.Gene\n",
    "        The list of genes to knock-out."
   ]
  },
  {
   "cell_type": "markdown",
   "id": "1a25bf42-9180-4b5b-901b-5283f2f4e3d5",
   "metadata": {},
   "source": [
    "double = double_gene_deletion(nr_model)\n",
    "\n",
    "print(double.knockout[{\"b0480\", \"b4390\"}])"
   ]
  },
  {
   "cell_type": "markdown",
   "id": "d60177d0-6402-4b39-bddb-cc707cdce504",
   "metadata": {},
   "source": [
    "b0480 = nr_model.gene.b0480\n",
    "b4390 = nr_model.gene.b4390\n",
    "\n",
    "print(double.knockout[{b0480, b4390}])"
   ]
  },
  {
   "cell_type": "code",
   "execution_count": null,
   "id": "6a114933-f3c2-496f-81a9-93283beb69fa",
   "metadata": {},
   "outputs": [],
   "source": []
  }
 ],
 "metadata": {
  "kernelspec": {
   "display_name": "Python 3 (ipykernel)",
   "language": "python",
   "name": "python3"
  },
  "language_info": {
   "codemirror_mode": {
    "name": "ipython",
    "version": 3
   },
   "file_extension": ".py",
   "mimetype": "text/x-python",
   "name": "python",
   "nbconvert_exporter": "python",
   "pygments_lexer": "ipython3",
   "version": "3.9.13"
  }
 },
 "nbformat": 4,
 "nbformat_minor": 5
}
