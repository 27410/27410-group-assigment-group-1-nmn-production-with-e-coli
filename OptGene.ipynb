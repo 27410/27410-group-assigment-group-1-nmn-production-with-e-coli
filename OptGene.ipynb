{
 "cells": [
  {
   "cell_type": "markdown",
   "id": "6a84991d-af94-4b5c-827f-7970eb5bcc4b",
   "metadata": {},
   "source": [
    "**Note:** most of the code is extracted from [source](https://cameo.bio/05-predict-gene-knockout-strategies.html#optknock).\n",
    "\n",
    "OptGene is an algorithm that tries to optimize production of a target metabolite an minimize production of undesired by-products by simulating the addition of metabolic pathways (Patil 2005)."
   ]
  },
  {
   "cell_type": "markdown",
   "id": "fd80d8bb-e0c3-4b73-a952-ea926751f717",
   "metadata": {},
   "source": [
    "# **OptGene**"
   ]
  },
  {
   "cell_type": "code",
   "execution_count": 2,
   "id": "ed10d217-deb3-47a1-8bea-d20d7a308172",
   "metadata": {},
   "outputs": [],
   "source": [
    "# This is just importing of the model and some tools to work with the GSM.\n",
    "import numpy as np\n",
    "from cobra.io import read_sbml_model\n",
    "from cobra.util import create_stoichiometric_matrix\n",
    "from cobra import Reaction, Metabolite\n",
    "import pandas as pd\n",
    "# Read model (central metabolism model of Escherichia coli)\n",
    "model = read_sbml_model(\"iML1515.xml\")\n",
    "%run -i scripts/create_pathway.ipynb "
   ]
  },
  {
   "cell_type": "code",
   "execution_count": 3,
   "id": "e9c48f72-6653-40cb-803f-2f6f7028ae16",
   "metadata": {},
   "outputs": [
    {
     "name": "stdout",
     "output_type": "stream",
     "text": [
      "Read LP format model from file /var/folders/xm/9p7p9cbx5pl_147c9t396fx40000gp/T/tmpkpwgyzl3.lp\n",
      "Reading time = 0.01 seconds\n",
      ": 1883 rows, 5424 columns, 21150 nonzeros\n",
      "Read LP format model from file /var/folders/xm/9p7p9cbx5pl_147c9t396fx40000gp/T/tmpg2sxfimu.lp\n",
      "Reading time = 0.02 seconds\n",
      ": 1883 rows, 5424 columns, 21150 nonzeros\n",
      "Read LP format model from file /var/folders/xm/9p7p9cbx5pl_147c9t396fx40000gp/T/tmpt571pbru.lp\n",
      "Reading time = 0.02 seconds\n",
      ": 1883 rows, 5424 columns, 21150 nonzeros\n"
     ]
    }
   ],
   "source": [
    "# creating the models with the respective pathways\n",
    "nam_model = create_pathway(model.copy(),1)\n",
    "na_model = create_pathway(model.copy(),2)\n",
    "nr_model = create_pathway(model.copy(),3)\n",
    "models = [(nam_model,'NAMPT'),(na_model,'NMN Synthetase'),(nr_model,'DeoD')]"
   ]
  },
  {
   "cell_type": "code",
   "execution_count": null,
   "id": "ba4c5810-0d0c-4ae7-923c-947cfc1a6194",
   "metadata": {},
   "outputs": [],
   "source": [
    "# creating the models with the respective pathways\n",
    "\n",
    "# path_selector legend\n",
    "# 0 -> no additional reactions\n",
    "#1 -> nicotinamid pathway  \n",
    "#2 -> nicotinic acid pathway  \n",
    "#3 -> nicotinamid riboside pathway\n",
    "\n",
    "nam_model = create_pathway(model.copy(),1)\n",
    "na_model = create_pathway(model.copy(),2)\n",
    "nr_model = create_pathway(model.copy(),3)\n",
    "models = [model, (nam_model,'NAMPT'),(na_model,'NMN Synthetase'),(nr_model,'DeoD')]\n",
    "'done'"
   ]
  },
  {
   "cell_type": "code",
   "execution_count": null,
   "id": "654fec88-e3c6-4ab8-9944-3184691810c9",
   "metadata": {},
   "outputs": [],
   "source": [
    "\n",
    "#Choosing uptake rates\n",
    "medium=model.medium\n",
    "medium['EX_ncam_e'] = 100\n",
    "medium['EX_nr_e'] = 100\n",
    "medium[\"EX_na_e\"] = 100\n",
    "medium[\"EX_glc__D_e\"] = 10"
   ]
  },
  {
   "cell_type": "code",
   "execution_count": null,
   "id": "16e66710-9922-4d6b-9f77-1702c8c9ba1a",
   "metadata": {},
   "outputs": [],
   "source": [
    "# Visualize the initial phenotypic phase plane\n",
    "init_solution = model.optimize()\n",
    "growth = init_solution.fluxes['BIOMASS_Ec_iML1515_core_75p37M']\n",
    "NMN_production = init_solution.fluxes['NAMPT']\n",
    "p = phenotypic_phase_plane(model, variables=['BIOMASS_Ec_iML1515_core_75p37M'], objective=['NAMPT'])\n",
    "p.plot(plotter, points=[(growth, NMN_production)])"
   ]
  },
  {
   "cell_type": "code",
   "execution_count": null,
   "id": "e36905b9-f983-4791-a89e-613f04cc3a7b",
   "metadata": {},
   "outputs": [],
   "source": []
  },
  {
   "cell_type": "code",
   "execution_count": null,
   "id": "1ae41b03-9d2f-4414-96ab-909ae5447e88",
   "metadata": {},
   "outputs": [],
   "source": []
  }
 ],
 "metadata": {
  "kernelspec": {
   "display_name": "Python 3 (ipykernel)",
   "language": "python",
   "name": "python3"
  },
  "language_info": {
   "codemirror_mode": {
    "name": "ipython",
    "version": 3
   },
   "file_extension": ".py",
   "mimetype": "text/x-python",
   "name": "python",
   "nbconvert_exporter": "python",
   "pygments_lexer": "ipython3",
   "version": "3.9.12"
  }
 },
 "nbformat": 4,
 "nbformat_minor": 5
}
