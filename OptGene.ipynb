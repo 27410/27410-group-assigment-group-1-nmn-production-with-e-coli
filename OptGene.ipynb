{
 "cells": [
  {
   "cell_type": "markdown",
   "id": "6a84991d-af94-4b5c-827f-7970eb5bcc4b",
   "metadata": {},
   "source": [
    "**Note:** most of the code is extracted from [source](https://cameo.bio/05-predict-gene-knockout-strategies.html#optknock).\n",
    "\n",
    "OptGene is an algorithm that tries to optimize production of a target metabolite an minimize production of undesired by-products by simulating the addition of metabolic pathways (Patil 2005)."
   ]
  },
  {
   "cell_type": "markdown",
   "id": "fd80d8bb-e0c3-4b73-a952-ea926751f717",
   "metadata": {},
   "source": [
    "# **OptGene**"
   ]
  },
  {
   "cell_type": "code",
   "execution_count": 2,
   "id": "ed10d217-deb3-47a1-8bea-d20d7a308172",
   "metadata": {},
   "outputs": [],
   "source": [
    "# This is just importing of the model and some tools to work with the GSM.\n",
    "import numpy as np\n",
    "from cobra.io import read_sbml_model\n",
    "from cobra.util import create_stoichiometric_matrix\n",
    "from cobra import Reaction, Metabolite\n",
    "import pandas as pd\n",
    "# Read model (central metabolism model of Escherichia coli)\n",
    "model = read_sbml_model(\"iML1515.xml\")\n",
    "%run -i scripts/create_pathway.ipynb "
   ]
  },
  {
   "cell_type": "code",
   "execution_count": 3,
   "id": "e9c48f72-6653-40cb-803f-2f6f7028ae16",
   "metadata": {},
   "outputs": [
    {
     "name": "stdout",
     "output_type": "stream",
     "text": [
      "Read LP format model from file /var/folders/xm/9p7p9cbx5pl_147c9t396fx40000gp/T/tmpkpwgyzl3.lp\n",
      "Reading time = 0.01 seconds\n",
      ": 1883 rows, 5424 columns, 21150 nonzeros\n",
      "Read LP format model from file /var/folders/xm/9p7p9cbx5pl_147c9t396fx40000gp/T/tmpg2sxfimu.lp\n",
      "Reading time = 0.02 seconds\n",
      ": 1883 rows, 5424 columns, 21150 nonzeros\n",
      "Read LP format model from file /var/folders/xm/9p7p9cbx5pl_147c9t396fx40000gp/T/tmpt571pbru.lp\n",
      "Reading time = 0.02 seconds\n",
      ": 1883 rows, 5424 columns, 21150 nonzeros\n"
     ]
    }
   ],
   "source": [
    "# creating the models with the respective pathways\n",
    "nam_model = create_pathway(model.copy(),1)\n",
    "na_model = create_pathway(model.copy(),2)\n",
    "nr_model = create_pathway(model.copy(),3)\n",
    "models = [(nam_model,'NAMPT'),(na_model,'NMN Synthetase'),(nr_model,'DeoD')]"
   ]
  },
  {
   "cell_type": "code",
   "execution_count": 4,
   "id": "ba4c5810-0d0c-4ae7-923c-947cfc1a6194",
   "metadata": {},
   "outputs": [
    {
     "name": "stdout",
     "output_type": "stream",
     "text": [
      "Read LP format model from file /var/folders/xm/9p7p9cbx5pl_147c9t396fx40000gp/T/tmpc96ii8r_.lp\n",
      "Reading time = 0.02 seconds\n",
      ": 1883 rows, 5424 columns, 21150 nonzeros\n",
      "Read LP format model from file /var/folders/xm/9p7p9cbx5pl_147c9t396fx40000gp/T/tmpi8tctejl.lp\n",
      "Reading time = 0.02 seconds\n",
      ": 1883 rows, 5424 columns, 21150 nonzeros\n",
      "Read LP format model from file /var/folders/xm/9p7p9cbx5pl_147c9t396fx40000gp/T/tmpvo42sw4r.lp\n",
      "Reading time = 0.03 seconds\n",
      ": 1883 rows, 5424 columns, 21150 nonzeros\n"
     ]
    },
    {
     "data": {
      "text/plain": [
       "'done'"
      ]
     },
     "execution_count": 4,
     "metadata": {},
     "output_type": "execute_result"
    }
   ],
   "source": [
    "# creating the models with the respective pathways\n",
    "\n",
    "# path_selector legend\n",
    "# 0 -> no additional reactions\n",
    "#1 -> nicotinamid pathway  \n",
    "#2 -> nicotinic acid pathway  \n",
    "#3 -> nicotinamid riboside pathway\n",
    "\n",
    "nam_model = create_pathway(model.copy(),1)\n",
    "na_model = create_pathway(model.copy(),2)\n",
    "nr_model = create_pathway(model.copy(),3)\n",
    "models = [model, (nam_model,'NAMPT'),(na_model,'NMN Synthetase'),(nr_model,'DeoD')]\n",
    "'done'"
   ]
  },
  {
   "cell_type": "code",
   "execution_count": 5,
   "id": "654fec88-e3c6-4ab8-9944-3184691810c9",
   "metadata": {},
   "outputs": [],
   "source": [
    "\n",
    "#Choosing uptake rates\n",
    "medium=model.medium\n",
    "medium['EX_ncam_e'] = 100\n",
    "medium['EX_nr_e'] = 100\n",
    "medium[\"EX_na_e\"] = 100\n",
    "medium[\"EX_glc__D_e\"] = 10"
   ]
  },
  {
   "cell_type": "code",
   "execution_count": 6,
   "id": "16e66710-9922-4d6b-9f77-1702c8c9ba1a",
   "metadata": {},
   "outputs": [
    {
     "ename": "KeyError",
     "evalue": "'NAMPT'",
     "output_type": "error",
     "traceback": [
      "\u001b[0;31m---------------------------------------------------------------------------\u001b[0m",
      "\u001b[0;31mKeyError\u001b[0m                                  Traceback (most recent call last)",
      "File \u001b[0;32m~/opt/anaconda3/lib/python3.9/site-packages/pandas/core/indexes/base.py:3621\u001b[0m, in \u001b[0;36mIndex.get_loc\u001b[0;34m(self, key, method, tolerance)\u001b[0m\n\u001b[1;32m   3620\u001b[0m \u001b[38;5;28;01mtry\u001b[39;00m:\n\u001b[0;32m-> 3621\u001b[0m     \u001b[38;5;28;01mreturn\u001b[39;00m \u001b[38;5;28;43mself\u001b[39;49m\u001b[38;5;241;43m.\u001b[39;49m\u001b[43m_engine\u001b[49m\u001b[38;5;241;43m.\u001b[39;49m\u001b[43mget_loc\u001b[49m\u001b[43m(\u001b[49m\u001b[43mcasted_key\u001b[49m\u001b[43m)\u001b[49m\n\u001b[1;32m   3622\u001b[0m \u001b[38;5;28;01mexcept\u001b[39;00m \u001b[38;5;167;01mKeyError\u001b[39;00m \u001b[38;5;28;01mas\u001b[39;00m err:\n",
      "File \u001b[0;32m~/opt/anaconda3/lib/python3.9/site-packages/pandas/_libs/index.pyx:136\u001b[0m, in \u001b[0;36mpandas._libs.index.IndexEngine.get_loc\u001b[0;34m()\u001b[0m\n",
      "File \u001b[0;32m~/opt/anaconda3/lib/python3.9/site-packages/pandas/_libs/index.pyx:163\u001b[0m, in \u001b[0;36mpandas._libs.index.IndexEngine.get_loc\u001b[0;34m()\u001b[0m\n",
      "File \u001b[0;32mpandas/_libs/hashtable_class_helper.pxi:5198\u001b[0m, in \u001b[0;36mpandas._libs.hashtable.PyObjectHashTable.get_item\u001b[0;34m()\u001b[0m\n",
      "File \u001b[0;32mpandas/_libs/hashtable_class_helper.pxi:5206\u001b[0m, in \u001b[0;36mpandas._libs.hashtable.PyObjectHashTable.get_item\u001b[0;34m()\u001b[0m\n",
      "\u001b[0;31mKeyError\u001b[0m: 'NAMPT'",
      "\nThe above exception was the direct cause of the following exception:\n",
      "\u001b[0;31mKeyError\u001b[0m                                  Traceback (most recent call last)",
      "Input \u001b[0;32mIn [6]\u001b[0m, in \u001b[0;36m<cell line: 4>\u001b[0;34m()\u001b[0m\n\u001b[1;32m      2\u001b[0m init_solution \u001b[38;5;241m=\u001b[39m model\u001b[38;5;241m.\u001b[39moptimize()\n\u001b[1;32m      3\u001b[0m growth \u001b[38;5;241m=\u001b[39m init_solution\u001b[38;5;241m.\u001b[39mfluxes[\u001b[38;5;124m'\u001b[39m\u001b[38;5;124mBIOMASS_Ec_iML1515_core_75p37M\u001b[39m\u001b[38;5;124m'\u001b[39m]\n\u001b[0;32m----> 4\u001b[0m NMN_production \u001b[38;5;241m=\u001b[39m \u001b[43minit_solution\u001b[49m\u001b[38;5;241;43m.\u001b[39;49m\u001b[43mfluxes\u001b[49m\u001b[43m[\u001b[49m\u001b[38;5;124;43m'\u001b[39;49m\u001b[38;5;124;43mNAMPT\u001b[39;49m\u001b[38;5;124;43m'\u001b[39;49m\u001b[43m]\u001b[49m\n\u001b[1;32m      5\u001b[0m p \u001b[38;5;241m=\u001b[39m phenotypic_phase_plane(model, variables\u001b[38;5;241m=\u001b[39m[\u001b[38;5;124m'\u001b[39m\u001b[38;5;124mBIOMASS_Ec_iML1515_core_75p37M\u001b[39m\u001b[38;5;124m'\u001b[39m], objective\u001b[38;5;241m=\u001b[39m[\u001b[38;5;124m'\u001b[39m\u001b[38;5;124mNAMPT\u001b[39m\u001b[38;5;124m'\u001b[39m])\n\u001b[1;32m      6\u001b[0m p\u001b[38;5;241m.\u001b[39mplot(plotter, points\u001b[38;5;241m=\u001b[39m[(growth, NMN_production)])\n",
      "File \u001b[0;32m~/opt/anaconda3/lib/python3.9/site-packages/pandas/core/series.py:958\u001b[0m, in \u001b[0;36mSeries.__getitem__\u001b[0;34m(self, key)\u001b[0m\n\u001b[1;32m    955\u001b[0m     \u001b[38;5;28;01mreturn\u001b[39;00m \u001b[38;5;28mself\u001b[39m\u001b[38;5;241m.\u001b[39m_values[key]\n\u001b[1;32m    957\u001b[0m \u001b[38;5;28;01melif\u001b[39;00m key_is_scalar:\n\u001b[0;32m--> 958\u001b[0m     \u001b[38;5;28;01mreturn\u001b[39;00m \u001b[38;5;28;43mself\u001b[39;49m\u001b[38;5;241;43m.\u001b[39;49m\u001b[43m_get_value\u001b[49m\u001b[43m(\u001b[49m\u001b[43mkey\u001b[49m\u001b[43m)\u001b[49m\n\u001b[1;32m    960\u001b[0m \u001b[38;5;28;01mif\u001b[39;00m is_hashable(key):\n\u001b[1;32m    961\u001b[0m     \u001b[38;5;66;03m# Otherwise index.get_value will raise InvalidIndexError\u001b[39;00m\n\u001b[1;32m    962\u001b[0m     \u001b[38;5;28;01mtry\u001b[39;00m:\n\u001b[1;32m    963\u001b[0m         \u001b[38;5;66;03m# For labels that don't resolve as scalars like tuples and frozensets\u001b[39;00m\n",
      "File \u001b[0;32m~/opt/anaconda3/lib/python3.9/site-packages/pandas/core/series.py:1069\u001b[0m, in \u001b[0;36mSeries._get_value\u001b[0;34m(self, label, takeable)\u001b[0m\n\u001b[1;32m   1066\u001b[0m     \u001b[38;5;28;01mreturn\u001b[39;00m \u001b[38;5;28mself\u001b[39m\u001b[38;5;241m.\u001b[39m_values[label]\n\u001b[1;32m   1068\u001b[0m \u001b[38;5;66;03m# Similar to Index.get_value, but we do not fall back to positional\u001b[39;00m\n\u001b[0;32m-> 1069\u001b[0m loc \u001b[38;5;241m=\u001b[39m \u001b[38;5;28;43mself\u001b[39;49m\u001b[38;5;241;43m.\u001b[39;49m\u001b[43mindex\u001b[49m\u001b[38;5;241;43m.\u001b[39;49m\u001b[43mget_loc\u001b[49m\u001b[43m(\u001b[49m\u001b[43mlabel\u001b[49m\u001b[43m)\u001b[49m\n\u001b[1;32m   1070\u001b[0m \u001b[38;5;28;01mreturn\u001b[39;00m \u001b[38;5;28mself\u001b[39m\u001b[38;5;241m.\u001b[39mindex\u001b[38;5;241m.\u001b[39m_get_values_for_loc(\u001b[38;5;28mself\u001b[39m, loc, label)\n",
      "File \u001b[0;32m~/opt/anaconda3/lib/python3.9/site-packages/pandas/core/indexes/base.py:3623\u001b[0m, in \u001b[0;36mIndex.get_loc\u001b[0;34m(self, key, method, tolerance)\u001b[0m\n\u001b[1;32m   3621\u001b[0m     \u001b[38;5;28;01mreturn\u001b[39;00m \u001b[38;5;28mself\u001b[39m\u001b[38;5;241m.\u001b[39m_engine\u001b[38;5;241m.\u001b[39mget_loc(casted_key)\n\u001b[1;32m   3622\u001b[0m \u001b[38;5;28;01mexcept\u001b[39;00m \u001b[38;5;167;01mKeyError\u001b[39;00m \u001b[38;5;28;01mas\u001b[39;00m err:\n\u001b[0;32m-> 3623\u001b[0m     \u001b[38;5;28;01mraise\u001b[39;00m \u001b[38;5;167;01mKeyError\u001b[39;00m(key) \u001b[38;5;28;01mfrom\u001b[39;00m \u001b[38;5;21;01merr\u001b[39;00m\n\u001b[1;32m   3624\u001b[0m \u001b[38;5;28;01mexcept\u001b[39;00m \u001b[38;5;167;01mTypeError\u001b[39;00m:\n\u001b[1;32m   3625\u001b[0m     \u001b[38;5;66;03m# If we have a listlike key, _check_indexing_error will raise\u001b[39;00m\n\u001b[1;32m   3626\u001b[0m     \u001b[38;5;66;03m#  InvalidIndexError. Otherwise we fall through and re-raise\u001b[39;00m\n\u001b[1;32m   3627\u001b[0m     \u001b[38;5;66;03m#  the TypeError.\u001b[39;00m\n\u001b[1;32m   3628\u001b[0m     \u001b[38;5;28mself\u001b[39m\u001b[38;5;241m.\u001b[39m_check_indexing_error(key)\n",
      "\u001b[0;31mKeyError\u001b[0m: 'NAMPT'"
     ]
    }
   ],
   "source": [
    "# Visualize the initial phenotypic phase plane\n",
    "init_solution = model.optimize()\n",
    "growth = init_solution.fluxes['BIOMASS_Ec_iML1515_core_75p37M']\n",
    "NMN_production = init_solution.fluxes['NAMPT']\n",
    "p = phenotypic_phase_plane(model, variables=['BIOMASS_Ec_iML1515_core_75p37M'], objective=['NAMPT'])\n",
    "p.plot(plotter, points=[(growth, NMN_production)])"
   ]
  },
  {
   "cell_type": "code",
   "execution_count": null,
   "id": "e36905b9-f983-4791-a89e-613f04cc3a7b",
   "metadata": {},
   "outputs": [],
   "source": []
  },
  {
   "cell_type": "code",
   "execution_count": null,
   "id": "1ae41b03-9d2f-4414-96ab-909ae5447e88",
   "metadata": {},
   "outputs": [],
   "source": []
  }
 ],
 "metadata": {
  "kernelspec": {
   "display_name": "Python 3 (ipykernel)",
   "language": "python",
   "name": "python3"
  },
  "language_info": {
   "codemirror_mode": {
    "name": "ipython",
    "version": 3
   },
   "file_extension": ".py",
   "mimetype": "text/x-python",
   "name": "python",
   "nbconvert_exporter": "python",
   "pygments_lexer": "ipython3",
   "version": "3.9.12"
  }
 },
 "nbformat": 4,
 "nbformat_minor": 5
}
