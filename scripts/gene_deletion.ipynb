{
 "cells": [
  {
   "cell_type": "markdown",
   "id": "5d30fc8c-ea72-4fc5-bae6-f19f019d3566",
   "metadata": {},
   "source": [
    "### Gene deletions "
   ]
  },
  {
   "cell_type": "markdown",
   "id": "c62cd619-28ce-4c9b-b156-4f08aed0316c",
   "metadata": {},
   "source": [
    "The following script is used to further fit the already created models with gene deletions to further increase the similarity to the *e. coli* metabolic pathways described in the work of Huang, Zhongshi, et al.. \n",
    "First, we will see if these knockouts alter the growth rate and second, we will knock out the reactions that are linked to the deleted genes in our 3 different pathways.\n",
    "\n"
   ]
  },
  {
   "cell_type": "code",
   "execution_count": 21,
   "id": "8a349523-62bb-4368-a400-40ac4bd8f32c",
   "metadata": {},
   "outputs": [],
   "source": [
    "# This is just importing of the model and some tools to work with the GSM.\n",
    "import numpy as np\n",
    "from cobra.io import read_sbml_model\n",
    "from cobra.util import create_stoichiometric_matrix\n",
    "from cobra import Reaction, Metabolite\n",
    "import pandas as pd\n",
    "from typing import Union\n",
    "# Read model (central metabolism model of Escherichia coli)\n",
    "model = read_sbml_model(\"iML1515.xml\")\n",
    "%run -i create_pathway.ipynb #runs script, has "
   ]
  },
  {
   "cell_type": "code",
   "execution_count": 34,
   "id": "6c0df819-4f54-421a-b249-3e1df2c1f676",
   "metadata": {},
   "outputs": [],
   "source": [
    "# creating the models with the respective pathways\n",
    "nam_model = create_pathway(model.copy(),1)\n",
    "na_model = create_pathway(model.copy(),2)\n",
    "nr_model = create_pathway(model.copy(),3)\n",
    "models = [(nam_model,'NAMPT'),(na_model,'NMN Synthetase'),(nr_model,'DeoD')]"
   ]
  },
  {
   "cell_type": "code",
   "execution_count": 35,
   "id": "e1238b12-1d50-4db1-a653-7011ffec40af",
   "metadata": {},
   "outputs": [],
   "source": [
    "import pandas\n",
    "from time import time\n",
    "\n",
    "from cobra.io import load_model\n",
    "from cobra.flux_analysis import (\n",
    "    single_gene_deletion, single_reaction_deletion, double_gene_deletion,\n",
    "    double_reaction_deletion)"
   ]
  },
  {
   "cell_type": "markdown",
   "id": "7720ba14-3bca-4680-84ec-87acd63b35a9",
   "metadata": {},
   "source": [
    "### NAM Model: \n",
    "For the NAM Model it is not necessary to Knockout the purR gene, because it is not present in our GSM "
   ]
  },
  {
   "cell_type": "markdown",
   "id": "2f29e310-ec68-44b6-b808-d8efc3db9d9b",
   "metadata": {},
   "source": [
    "### NA Model: \n",
    "For the NA Model it is necessary to knock out the pncC gene. The pncC is known as the gene: b2700 in the iML1515 model and is associated to the reaction NMNDA "
   ]
  },
  {
   "cell_type": "code",
   "execution_count": 36,
   "id": "2918d5b0-4181-4faa-8e0c-4330cfe80774",
   "metadata": {},
   "outputs": [
    {
     "name": "stdout",
     "output_type": "stream",
     "text": [
      "complete model:  <Solution 0.877 at 0x7ff72a139bb0>\n",
      "pncC knocked out:  None\n"
     ]
    }
   ],
   "source": [
    "print('complete model: ', na_model.optimize())\n",
    "with na_model:\n",
    "    na_model.genes.b2700.knock_out()\n",
    "    print('pncC knocked out: ', na_model.genes.b2700.knock_out())\n",
    "    "
   ]
  },
  {
   "cell_type": "markdown",
   "id": "7a6c52c4-8ef5-4de0-9c1f-f055c4de1fd5",
   "metadata": {},
   "source": [
    "### NR Model: \n",
    "For the NR Model it is important to knock out the nadR and ushA genes, according to the paper by Huang. The UshA gene is known as the b0480 gene in the iML1515 model and is associated to many different reactions. The nadR gene is known as the b4390 gene in our GSM and associated to the NMNAT reaction.  After doing those knock outs we actually found out, that the genes ushA and nadR are as described present in the GSM but catalyse not the reaction, that were described by Huang. "
   ]
  },
  {
   "cell_type": "code",
   "execution_count": 40,
   "id": "1a504b72-26bc-43bb-b64e-f11ec68b0928",
   "metadata": {},
   "outputs": [
    {
     "name": "stdout",
     "output_type": "stream",
     "text": [
      "complete model:  <Solution 0.877 at 0x7ff72a139c10>\n",
      "ushA knocked out:  None\n",
      "nadR knocked out:  None\n"
     ]
    }
   ],
   "source": [
    "print('complete model: ', nr_model.optimize())\n",
    "with nr_model:\n",
    "    nr_model.genes.b0480.knock_out()\n",
    "    print('ushA knocked out: ', nr_model.genes.b0480.knock_out())\n",
    "    nr_model.genes.b4390.knock_out()\n",
    "    print('nadR knocked out: ', nr_model.genes.b4390.knock_out())\n",
    "          "
   ]
  },
  {
   "cell_type": "markdown",
   "id": "fbdf83f8-fa41-4131-9a05-e48a40be8ad4",
   "metadata": {},
   "source": [
    "In the next step we would like to change our models according to the gene deletions. "
   ]
  },
  {
   "cell_type": "markdown",
   "id": "ca27a4bf-96b3-4968-a26b-9faf08c0321a",
   "metadata": {},
   "source": [
    "### NA Pathway: deleting gene b2700 (PncC) from the NA Model "
   ]
  },
  {
   "cell_type": "code",
   "execution_count": 41,
   "id": "7a456c63-e769-46d9-9c40-c6250a60defe",
   "metadata": {
    "tags": []
   },
   "outputs": [
    {
     "ename": "NameError",
     "evalue": "name 'List' is not defined",
     "output_type": "error",
     "traceback": [
      "\u001b[0;31m---------------------------------------------------------------------------\u001b[0m",
      "\u001b[0;31mNameError\u001b[0m                                 Traceback (most recent call last)",
      "\u001b[0;32m/var/folders/h3/x6q3yvmn0md8xnt6zchgb1jh0000gn/T/ipykernel_65001/3353247192.py\u001b[0m in \u001b[0;36m<module>\u001b[0;34m\u001b[0m\n\u001b[1;32m      1\u001b[0m def remove_genes(\n\u001b[1;32m      2\u001b[0m     \u001b[0mmodel\u001b[0m\u001b[0;34m:\u001b[0m\u001b[0;34m\"na_model\"\u001b[0m\u001b[0;34m,\u001b[0m\u001b[0;34m\u001b[0m\u001b[0;34m\u001b[0m\u001b[0m\n\u001b[0;32m----> 3\u001b[0;31m     \u001b[0mgene_list\u001b[0m\u001b[0;34m:\u001b[0m \u001b[0mUnion\u001b[0m\u001b[0;34m[\u001b[0m\u001b[0mList\u001b[0m\u001b[0;34m[\u001b[0m\u001b[0;34m\"b2700\"\u001b[0m\u001b[0;34m]\u001b[0m\u001b[0;34m,\u001b[0m\u001b[0mSet\u001b[0m\u001b[0;34m[\u001b[0m\u001b[0;34m\"Gene\"\u001b[0m\u001b[0;34m]\u001b[0m\u001b[0;34m,\u001b[0m\u001b[0mList\u001b[0m\u001b[0;34m[\u001b[0m\u001b[0mstr\u001b[0m\u001b[0;34m]\u001b[0m\u001b[0;34m,\u001b[0m\u001b[0mUnion\u001b[0m\u001b[0;34m[\u001b[0m\u001b[0mstr\u001b[0m\u001b[0;34m]\u001b[0m\u001b[0;34m]\u001b[0m\u001b[0;34m,\u001b[0m\u001b[0;34m\u001b[0m\u001b[0;34m\u001b[0m\u001b[0m\n\u001b[0m\u001b[1;32m      4\u001b[0m     \u001b[0mremove_reactions\u001b[0m\u001b[0;34m:\u001b[0m \u001b[0mbool\u001b[0m \u001b[0;34m=\u001b[0m \u001b[0;32mTrue\u001b[0m\u001b[0;34m,\u001b[0m\u001b[0;34m\u001b[0m\u001b[0;34m\u001b[0m\u001b[0m\n\u001b[1;32m      5\u001b[0m ) -> None:\n",
      "\u001b[0;31mNameError\u001b[0m: name 'List' is not defined"
     ]
    }
   ],
   "source": [
    "def remove_genes(\n",
    "    model:\"na_model\",\n",
    "    gene_list: Union[List[\"b2700\"],Set[\"Gene\"],List[str],Union[str]],\n",
    "    remove_reactions: bool = True,\n",
    ") -> None:\n",
    "    \n",
    "    rxn_set = set()\n",
    "    for gene in model.genes.get_by_any(gene_list):\n",
    "        gene.knock_out()\n",
    "        rxn_set.update(gene.reactions)\n",
    "    return [rxn for rxn in rxn_set if not rxn.functional]\n"
   ]
  },
  {
   "cell_type": "markdown",
   "id": "e618f6ca-86f4-4bf9-af60-13b055402085",
   "metadata": {},
   "source": [
    "### NAR Pathway: deleting gene b4390 (NadR)and the gene b0480 (UshA) from the NR Model "
   ]
  },
  {
   "cell_type": "code",
   "execution_count": null,
   "id": "4f37a848-38f5-42eb-982f-cbf09402250f",
   "metadata": {
    "tags": []
   },
   "outputs": [],
   "source": [
    "from cobra.util import get_context\n",
    "def delete_model_genes(\n",
    "    model: \"nr_model\",\n",
    "    gene_list: Union[List[ \"b4390\" ], Set[\"Gene\"], List[str], Set[str]],\n",
    "    cumulative_deletions: bool = True,\n",
    "    disable_orphans: bool = \n",
    "    False,\n",
    ") ->None:\n",
    "    \n",
    "    rxn_set = set()\n",
    "    for gene in model.genes.get_by_any(gene_list):\n",
    "        gene.knock_out()\n",
    "        rxn_set.update(gene.reactions)\n",
    "    return [rxn for rxn in rxn_set if not rxn.functional]"
   ]
  },
  {
   "cell_type": "code",
   "execution_count": null,
   "id": "f429b952-d1ee-45ee-bff3-63322b6272b1",
   "metadata": {
    "tags": []
   },
   "outputs": [],
   "source": [
    "from cobra.util import get_context\n",
    "def delete_model_genes(\n",
    "    model: \"nr_model\",\n",
    "    gene_list: Union[List[ \"b0480\" ], Set[\"Gene\"], List[str], Set[str]],\n",
    "    cumulative_deletions: bool = True,\n",
    "    disable_orphans: bool = \n",
    "    False,\n",
    ") ->None:\n",
    "    \n",
    "    rxn_set = set()\n",
    "    for gene in model.genes.get_by_any(gene_list):\n",
    "        gene.knock_out()\n",
    "        rxn_set.update(gene.reactions)\n",
    "    return [rxn for rxn in rxn_set if not rxn.functional]"
   ]
  },
  {
   "cell_type": "markdown",
   "id": "0a0b7bac-aeb8-4e6c-be46-639c89379ad7",
   "metadata": {},
   "source": [
    "### Because the above described code didnt work, we knocked out the PncC gene in the script [NR_pathway](https://github.com/27410/27410-group-assigment-group-1-nmn-production-with-e-coli/blob/main/scripts/NR_pathway.ipynb) and [NA_pathway](https://github.com/27410/27410-group-assigment-group-1-nmn-production-with-e-coli/blob/main/scripts/NA_pathway.ipynb)."
   ]
  },
  {
   "cell_type": "markdown",
   "id": "68a899a0-177a-478b-81f5-19095a5db3ac",
   "metadata": {},
   "source": [
    "## Conlcusion: \n",
    "To create three different GSM models, that are similiar to the pathways deschribed by Huang, Zhongshi, et al., it is not necessary to delete all the genes in the GSM, that were knocked out in the lab by Huang, Zhongshi, et. because they were either not present in the GSM or the genes were associated to different reactions, which played no role for the NMN pathways.  \n",
    "\n",
    "Interprating the zero growth of *e.coli* that results in the only gene knock out, it is to be said, that according to the GSM the host will not have any growth and therefore no imporoved NMN prouction. \n",
    "\n",
    "Moreover it must be said, that the above code, which was meant to include the deletions into the GSM is not running due to an unsolvable error."
   ]
  },
  {
   "cell_type": "code",
   "execution_count": null,
   "id": "d206f8ac-dd6e-473b-b92b-ce9be8033279",
   "metadata": {},
   "outputs": [],
   "source": []
  }
 ],
 "metadata": {
  "kernelspec": {
   "display_name": "Python 3 (ipykernel)",
   "language": "python",
   "name": "python3"
  },
  "language_info": {
   "codemirror_mode": {
    "name": "ipython",
    "version": 3
   },
   "file_extension": ".py",
   "mimetype": "text/x-python",
   "name": "python",
   "nbconvert_exporter": "python",
   "pygments_lexer": "ipython3",
   "version": "3.9.13"
  }
 },
 "nbformat": 4,
 "nbformat_minor": 5
}
