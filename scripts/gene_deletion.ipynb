{
 "cells": [
  {
   "cell_type": "markdown",
   "id": "5d30fc8c-ea72-4fc5-bae6-f19f019d3566",
   "metadata": {},
   "source": [
    "### Gene deletions "
   ]
  },
  {
   "cell_type": "markdown",
   "id": "c62cd619-28ce-4c9b-b156-4f08aed0316c",
   "metadata": {},
   "source": [
    "Main idea, that did not work as initally planed: \n",
    "\n",
    "The following script will be used to adjust the already created models further with gene deletions to further increase the similarity to the *e. coli* pathways, that are described in Huang, Zhongshi, et al paper. \n",
    "First we will see, if those knockouts change the growth rate and secondly we will set those genes to zero in our 3 different pathways. \n",
    "\n"
   ]
  },
  {
   "cell_type": "code",
   "execution_count": 109,
   "id": "8a349523-62bb-4368-a400-40ac4bd8f32c",
   "metadata": {},
   "outputs": [],
   "source": [
    "# This is just importing of the model and some tools to work with the GSM.\n",
    "import numpy as np\n",
    "from cobra.io import read_sbml_model\n",
    "from cobra.util import create_stoichiometric_matrix\n",
    "from cobra import Reaction, Metabolite\n",
    "import pandas as pd\n",
    "# Read model (central metabolism model of Escherichia coli)\n",
    "model = read_sbml_model(\"iML1515.xml\")\n",
    "%run -i create_pathway.ipynb #runs script, has "
   ]
  },
  {
   "cell_type": "code",
   "execution_count": 110,
   "id": "6c0df819-4f54-421a-b249-3e1df2c1f676",
   "metadata": {},
   "outputs": [],
   "source": [
    "# creating the models with the respective pathways\n",
    "nam_model = create_pathway(model.copy(),1)\n",
    "na_model = create_pathway(model.copy(),2)\n",
    "nr_model = create_pathway(model.copy(),3)\n",
    "models = [(nam_model,'NAMPT'),(na_model,'NMN Synthetase'),(nr_model,'DeoD')]"
   ]
  },
  {
   "cell_type": "code",
   "execution_count": 111,
   "id": "e1238b12-1d50-4db1-a653-7011ffec40af",
   "metadata": {},
   "outputs": [],
   "source": [
    "import pandas\n",
    "from time import time\n",
    "\n",
    "from cobra.io import load_model\n",
    "from cobra.flux_analysis import (\n",
    "    single_gene_deletion, single_reaction_deletion, double_gene_deletion,\n",
    "    double_reaction_deletion)"
   ]
  },
  {
   "cell_type": "markdown",
   "id": "7720ba14-3bca-4680-84ec-87acd63b35a9",
   "metadata": {},
   "source": [
    "NAM Model: For the Nam Model it is not necessary to Knockout the purR gene, because it is not available in the GSM "
   ]
  },
  {
   "cell_type": "markdown",
   "id": "2f29e310-ec68-44b6-b808-d8efc3db9d9b",
   "metadata": {},
   "source": [
    "NA Model: For the NA Model it is necessary to knock out the pncC gene. The pncC is known as the gene: b2700 in the iML1515 model and is associated to the reaction NMNDA "
   ]
  },
  {
   "cell_type": "code",
   "execution_count": 112,
   "id": "2918d5b0-4181-4faa-8e0c-4330cfe80774",
   "metadata": {},
   "outputs": [
    {
     "name": "stdout",
     "output_type": "stream",
     "text": [
      "complete model:  <Solution 0.877 at 0x7f7ff1cd71c0>\n",
      "pncC knocked out:  <Solution 0.877 at 0x7f7ff1cd7190>\n"
     ]
    }
   ],
   "source": [
    "print('complete model: ', na_model.optimize())\n",
    "with na_model:\n",
    "    na_model.genes.b2700.knock_out()\n",
    "    print('pncC knocked out: ', na_model.optimize())\n",
    "    "
   ]
  },
  {
   "cell_type": "markdown",
   "id": "7a6c52c4-8ef5-4de0-9c1f-f055c4de1fd5",
   "metadata": {},
   "source": [
    "NR Model: For the NR Model it is important to knock out the nadR and ushA genes. The UshA gene is known as the b0480 gene in the iML1515 model and is associated to many different reactions. the nadR is known as the b4390 gene and associated to the NMNAT reaction.  "
   ]
  },
  {
   "cell_type": "code",
   "execution_count": 113,
   "id": "1a504b72-26bc-43bb-b64e-f11ec68b0928",
   "metadata": {},
   "outputs": [
    {
     "name": "stdout",
     "output_type": "stream",
     "text": [
      "complete model:  <Solution 0.877 at 0x7f7fd4588910>\n",
      "ushA knocked out:  <Solution 0.877 at 0x7f7fd45888b0>\n",
      "nadR knocked out:  <Solution 0.877 at 0x7f7fd4588850>\n"
     ]
    }
   ],
   "source": [
    "print('complete model: ', nr_model.optimize())\n",
    "with nr_model:\n",
    "    nr_model.genes.b0480.knock_out()\n",
    "    print('ushA knocked out: ', nr_model.optimize())\n",
    "    nr_model.genes.b4390.knock_out()\n",
    "    print('nadR knocked out: ', nr_model.optimize())"
   ]
  },
  {
   "cell_type": "markdown",
   "id": "fbdf83f8-fa41-4131-9a05-e48a40be8ad4",
   "metadata": {},
   "source": [
    "In the next step we would like to change our models according to the gene deletions. "
   ]
  },
  {
   "cell_type": "markdown",
   "id": "ca27a4bf-96b3-4968-a26b-9faf08c0321a",
   "metadata": {},
   "source": [
    "### NA Pathway: deleting gene b2700 (PncC) from the NA Model "
   ]
  },
  {
   "cell_type": "code",
   "execution_count": 114,
   "id": "7a456c63-e769-46d9-9c40-c6250a60defe",
   "metadata": {},
   "outputs": [],
   "source": [
    "def remove_genes(\n",
    "    model:\"na_model\",\n",
    "    gene_list: Union[List[\"b2700\"],Set[\"Gene\"],List[str],Union[str]],\n",
    "    remove_reactions: bool = True,\n",
    ") -> None:\n",
    "    \n",
    "    rxn_set = set()\n",
    "    for gene in model.genes.get_by_any(gene_list):\n",
    "        gene.knock_out()\n",
    "        rxn_set.update(gene.reactions)\n",
    "    return [rxn for rxn in rxn_set if not rxn.functional]\n",
    "    "
   ]
  },
  {
   "cell_type": "markdown",
   "id": "e618f6ca-86f4-4bf9-af60-13b055402085",
   "metadata": {},
   "source": [
    "### NAR Pathway: deleting gene b4390 (NadR)and the gene b0480 (UshA) from the NR Model "
   ]
  },
  {
   "cell_type": "code",
   "execution_count": 115,
   "id": "4f37a848-38f5-42eb-982f-cbf09402250f",
   "metadata": {
    "tags": []
   },
   "outputs": [],
   "source": [
    "from cobra.util import get_context\n",
    "def delete_model_genes(\n",
    "    model: \"nr_model\",\n",
    "    gene_list: Union[List[ \"b4390\" ], Set[\"Gene\"], List[str], Set[str]],\n",
    "    cumulative_deletions: bool = True,\n",
    "    disable_orphans: bool = \n",
    "    False,\n",
    ") ->None:\n",
    "    \n",
    "    rxn_set = set()\n",
    "    for gene in model.genes.get_by_any(gene_list):\n",
    "        gene.knock_out()\n",
    "        rxn_set.update(gene.reactions)\n",
    "    return [rxn for rxn in rxn_set if not rxn.functional]"
   ]
  },
  {
   "cell_type": "code",
   "execution_count": 116,
   "id": "f429b952-d1ee-45ee-bff3-63322b6272b1",
   "metadata": {
    "tags": []
   },
   "outputs": [],
   "source": [
    "from cobra.util import get_context\n",
    "def delete_model_genes(\n",
    "    model: \"nr_model\",\n",
    "    gene_list: Union[List[ \"b0480\" ], Set[\"Gene\"], List[str], Set[str]],\n",
    "    cumulative_deletions: bool = True,\n",
    "    disable_orphans: bool = \n",
    "    False,\n",
    ") ->None:\n",
    "    \n",
    "    rxn_set = set()\n",
    "    for gene in model.genes.get_by_any(gene_list):\n",
    "        gene.knock_out()\n",
    "        rxn_set.update(gene.reactions)\n",
    "    return [rxn for rxn in rxn_set if not rxn.functional]"
   ]
  },
  {
   "cell_type": "code",
   "execution_count": 117,
   "id": "1b5bf238-e839-430d-b82e-f3257fc5dfdf",
   "metadata": {},
   "outputs": [
    {
     "data": {
      "text/html": [
       "\n",
       "        <table>\n",
       "            <tr>\n",
       "                <td><strong>Gene identifier</strong></td><td>b2700</td>\n",
       "            </tr><tr>\n",
       "                <td><strong>Name</strong></td><td>pncC</td>\n",
       "            </tr><tr>\n",
       "                <td><strong>Memory address</strong></td>\n",
       "                <td>0x7f7fd878d820</td>\n",
       "            </tr><tr>\n",
       "                <td><strong>Functional</strong></td><td>True</td>\n",
       "            </tr><tr>\n",
       "                <td><strong>In 1 reaction(s)</strong></td><td>\n",
       "                    NMNDA\n",
       "                    </td>\n",
       "            </tr>\n",
       "        </table>"
      ],
      "text/plain": [
       "<Gene b2700 at 0x7f7fd878d820>"
      ]
     },
     "execution_count": 117,
     "metadata": {},
     "output_type": "execute_result"
    }
   ],
   "source": [
    "nr_model.genes.b2700"
   ]
  },
  {
   "cell_type": "code",
   "execution_count": 118,
   "id": "47a477dd-d307-44a8-92a8-99bdf1f94797",
   "metadata": {},
   "outputs": [
    {
     "data": {
      "text/html": [
       "\n",
       "        <table>\n",
       "            <tr>\n",
       "                <td><strong>Gene identifier</strong></td><td>b2551</td>\n",
       "            </tr><tr>\n",
       "                <td><strong>Name</strong></td><td>glyA</td>\n",
       "            </tr><tr>\n",
       "                <td><strong>Memory address</strong></td>\n",
       "                <td>0x7f7febdf2c70</td>\n",
       "            </tr><tr>\n",
       "                <td><strong>Functional</strong></td><td>True</td>\n",
       "            </tr><tr>\n",
       "                <td><strong>In 6 reaction(s)</strong></td><td>\n",
       "                    ALATA_D2, ALATA_L2, THFAT, THRA2, THRA, GHMT2r\n",
       "                    </td>\n",
       "            </tr>\n",
       "        </table>"
      ],
      "text/plain": [
       "<Gene b2551 at 0x7f7febdf2c70>"
      ]
     },
     "execution_count": 118,
     "metadata": {},
     "output_type": "execute_result"
    }
   ],
   "source": [
    "na_model.genes. b2551"
   ]
  },
  {
   "cell_type": "code",
   "execution_count": 119,
   "id": "e5a3ce15-7aaa-4f71-abb8-fa11d5cbf5a2",
   "metadata": {},
   "outputs": [
    {
     "data": {
      "text/html": [
       "\n",
       "        <table>\n",
       "            <tr>\n",
       "                <td><strong>Reaction identifier</strong></td><td>NMNDA</td>\n",
       "            </tr><tr>\n",
       "                <td><strong>Name</strong></td><td>Nicotinamide-nucleotide amidase</td>\n",
       "            </tr><tr>\n",
       "                <td><strong>Memory address</strong></td>\n",
       "                <td>0x7f7febb9bdf0</td>\n",
       "            </tr><tr>\n",
       "                <td><strong>Stoichiometry</strong></td>\n",
       "                <td>\n",
       "                    <p style='text-align:right'>h2o_c + nmn_c --> nh4_c + nicrnt_c</p>\n",
       "                    <p style='text-align:right'>H2O H2O + NMN C11H14N2O8P --> Ammonium + Nicotinate D-ribonucleotide</p>\n",
       "                </td>\n",
       "            </tr><tr>\n",
       "                <td><strong>GPR</strong></td><td>b2700</td>\n",
       "            </tr><tr>\n",
       "                <td><strong>Lower bound</strong></td><td>0.0</td>\n",
       "            </tr><tr>\n",
       "                <td><strong>Upper bound</strong></td><td>1000.0</td>\n",
       "            </tr>\n",
       "        </table>\n",
       "        "
      ],
      "text/plain": [
       "<Reaction NMNDA at 0x7f7febb9bdf0>"
      ]
     },
     "execution_count": 119,
     "metadata": {},
     "output_type": "execute_result"
    }
   ],
   "source": [
    "na_model.reactions.NMNDA"
   ]
  },
  {
   "cell_type": "markdown",
   "id": "0a0b7bac-aeb8-4e6c-be46-639c89379ad7",
   "metadata": {},
   "source": [
    "### Because the above described way didnt work, we are gonna set the bounds to 0 for the reaction NMNAD for all 3 models, which is linked to the gene b2700 (in the report) "
   ]
  },
  {
   "cell_type": "markdown",
   "id": "bb9c55e8-4642-4f3e-bbec-4d0a14ed3879",
   "metadata": {},
   "source": [
    "In the end we found out, that the genes b4390 (NadR)and b0480 (UshA), that were described in Huang, Zhongshi, et al paper. which convert NAM to NR are not associated to this distinct reaction in our GSM, which was proven with the BiGG database. "
   ]
  },
  {
   "cell_type": "code",
   "execution_count": null,
   "id": "a30e116f-a12f-45e4-8f37-120ccceb8364",
   "metadata": {},
   "outputs": [],
   "source": []
  }
 ],
 "metadata": {
  "kernelspec": {
   "display_name": "Python 3 (ipykernel)",
   "language": "python",
   "name": "python3"
  },
  "language_info": {
   "codemirror_mode": {
    "name": "ipython",
    "version": 3
   },
   "file_extension": ".py",
   "mimetype": "text/x-python",
   "name": "python",
   "nbconvert_exporter": "python",
   "pygments_lexer": "ipython3",
   "version": "3.9.13"
  }
 },
 "nbformat": 4,
 "nbformat_minor": 5
}
