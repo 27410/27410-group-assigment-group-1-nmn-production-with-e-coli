{
 "cells": [
  {
   "cell_type": "markdown",
   "id": "11db7240-3f72-406a-b81a-dfd489a61788",
   "metadata": {},
   "source": [
    "### Import model"
   ]
  },
  {
   "cell_type": "code",
   "execution_count": 1,
   "id": "00e0003e-ffb0-46f3-ac5d-1d625c0dd93e",
   "metadata": {},
   "outputs": [],
   "source": [
    "from cobra.io import read_sbml_model\n",
    "from cobra import Reaction, Metabolite\n",
    "import pandas as pd\n",
    "import matplotlib.pyplot as plt\n",
    "model = read_sbml_model('iML1515.xml')"
   ]
  },
  {
   "cell_type": "markdown",
   "id": "c904c04c-8eb2-4b63-a18f-e616bc606136",
   "metadata": {},
   "source": [
    "### Create metabolites"
   ]
  },
  {
   "cell_type": "code",
   "execution_count": 2,
   "id": "f4bf265a-a469-4647-933e-79a7b2af3451",
   "metadata": {},
   "outputs": [],
   "source": [
    "ncam_e=Metabolite('ncam_e', name='nicotineamide', compartment='e', formula = 'C6H6N2O'  ),\n",
    "na_c=Metabolite('na_c', name='Nicotinic acid',  compartment='c', formula = 'C6H5NO2' ),\n",
    "namn_c=Metabolite('namn_c', name='nicotinic acid mononucleotide',  compartment='c', formula = 'C11H14NO9P' ),\n",
    "nr_c=Metabolite('nr_c', name='nicotineamide riboside',  compartment='c', formula = 'C11H15N2O5' ),\n",
    "nr_e=Metabolite('nr_e', name='nicotineamide riboside',  compartment='e',formula = 'C11H15N2O5' ),\n",
    "na_e=Metabolite('na_e', name='Nicotinic acid',  compartment='e', formula = 'C6H5NO2' ),\n",
    "nh3_c=Metabolite('nh3_c', name='Ammonia',  compartment='c', formula = 'NH3' ),\n",
    "mets=[ncam_e,na_c,namn_c,nr_c,nr_e,na_e,nh3_c]\n",
    "for i in range(7):\n",
    "    model.add_metabolites(mets[i])"
   ]
  },
  {
   "cell_type": "code",
   "execution_count": 3,
   "id": "66312990-52cb-4348-82a6-8e6d3a11a030",
   "metadata": {},
   "outputs": [],
   "source": [
    "# NA Pathway\n",
    "\n",
    "# NA <=> NAMN https://www.kegg.jp/entry/6.3.4.21\n",
    "nico_acid_phosp_trans = Reaction ('PNCB')\n",
    "nico_acid_phosp_trans.name = 'nicotinic acid phosphoribosyl transferase'\n",
    "\n",
    "nico_acid_phosp_trans.add_metabolites  (({model.metabolites.na_c: -1,\n",
    "                                          model.metabolites.h2o_c: -1,\n",
    "                                          model.metabolites.prpp_c: -1,\n",
    "                                          model.metabolites.ppi_c: 1,\n",
    "                                          model.metabolites.adp_c: 1,\n",
    "                                          model.metabolites.pi_c: 1,\n",
    "                                          model.metabolites.namn_c: 1})) \n",
    "#NAMN <=> NMN https://www.kegg.jp/entry/6.3.1.5\n",
    "nico_syntase= Reaction ('FtNadE')\n",
    "nico_syntase.name = 'nicotineamide mononucleotide synthetase'\n",
    "                                        \n",
    "nico_syntase.add_metabolites (({model.metabolites.namn_c:-1,\n",
    "                                model.metabolites.atp_c:-1,\n",
    "                                model.metabolites.nh3_c:-1,\n",
    "                                model.metabolites.amp_c:1,\n",
    "                                model.metabolites.ppi_c:1,\n",
    "                                model.metabolites.nmn_c: 1})) \n",
    "#EX_NA -> NA https://tcdb.org/search/result.php?tc=9.A.23\n",
    "nicotinic_acid_trans = Reaction('NiaP2')\n",
    "nicotinic_acid_trans.name = 'nicotinic acid transporter'\n",
    "\n",
    "nicotinic_acid_trans.add_metabolites (({model.metabolites.na_c: 1, \n",
    "                                  model.metabolites.na_e: -1}))\n",
    "\n",
    "# Transport reaction cytosol -> extracellular \n",
    "\n",
    "nmn_ctoe = Reaction('BMpnuC')\n",
    "nmn_ctoe.name = 'NMN transporter'\n",
    "nmn_ctoe.add_metabolites({ model.metabolites.nmn_c: -1,\n",
    "                          model.metabolites.nmn_e: 1})\n"
   ]
  },
  {
   "cell_type": "code",
   "execution_count": 4,
   "id": "e8f08bf0-e642-4de3-9675-f340474152c5",
   "metadata": {},
   "outputs": [
    {
     "name": "stderr",
     "output_type": "stream",
     "text": [
      "C:\\Users\\Aljosha\\anaconda3\\lib\\site-packages\\cobra\\core\\reaction.py:810: UserWarning: Setting reaction reversibility is ignored\n",
      "  warn(\"Setting reaction reversibility is ignored\")\n"
     ]
    }
   ],
   "source": [
    "# Set up pathway\n",
    "na_path = [nico_acid_phosp_trans,nico_syntase,nicotinic_acid_trans,nmn_ctoe ]\n",
    "model.add_reactions(na_path)\n",
    "model.reactions.PNCB.lower_bound=-10\n",
    "model.reactions.FtNadE.lower_bound=-10\n",
    "model.reactions.NiaP2.lower_bound=-10\n",
    "model.reactions.BMpnuC.lower_bound=-10\n",
    "model.reactions.PNCB.reversibility= True\n",
    "model.reactions.FtNadE.reversibility= True\n",
    "model.reactions.NiaP2.reversibility= True\n",
    "model.reactions.BMpnuC.reversibility= True\n",
    "model.reactions.NMNDA.knock_out()"
   ]
  },
  {
   "cell_type": "code",
   "execution_count": 5,
   "id": "87c99f5d-1253-4ec9-ac6e-b812740407a1",
   "metadata": {},
   "outputs": [],
   "source": [
    "model.add_boundary(model.metabolites.get_by_id(\"ncam_e\"), type=\"exchange\")\n",
    "model.add_boundary(model.metabolites.get_by_id(\"nr_e\"), type=\"exchange\")\n",
    "model.add_boundary(model.metabolites.get_by_id(\"na_e\"), type=\"exchange\")\n",
    "model.reactions.EX_ncam_e.lower_bound=-10\n",
    "model.reactions.EX_nr_e.lower_bound=-10\n",
    "model.reactions.EX_na_e.lower_bound=-10\n",
    "medium=model.medium\n",
    "medium['EX_ncam_e'] = 10\n",
    "medium['EX_nr_e'] = 10\n",
    "medium[\"EX_na_e\"] = 10\n",
    "medium[\"EX_glc__D_e\"] = 10\n",
    "model.medium=medium"
   ]
  },
  {
   "cell_type": "code",
   "execution_count": 6,
   "id": "9f9d74f5-613b-4e50-94df-ccc2116a329d",
   "metadata": {},
   "outputs": [
    {
     "name": "stdout",
     "output_type": "stream",
     "text": [
      "NA-pathway biomass growth 0.8769972144269806 mmol/gDW*h\n"
     ]
    }
   ],
   "source": [
    "with model:\n",
    "    growth = model.optimize()\n",
    "    max_growth_rate = growth.fluxes['BIOMASS_Ec_iML1515_core_75p37M']\n",
    "    print('NA-pathway biomass growth', max_growth_rate,'mmol/gDW*h')"
   ]
  },
  {
   "cell_type": "code",
   "execution_count": 7,
   "id": "f91f11ce-13b0-47bc-86fa-9dda72f8c23f",
   "metadata": {},
   "outputs": [
    {
     "name": "stdout",
     "output_type": "stream",
     "text": [
      "With NA pathway:\n",
      "Maximum productivity of NMN = 4.473345935727788 mmol/gDW*h\n",
      "Maximum theoretical yield = 0.44733459357277877 mmol-NMN/mmol-glc\n"
     ]
    }
   ],
   "source": [
    "with model:\n",
    "    print('With NA pathway:')\n",
    "    model.objective = model.reactions.EX_nmn_e #Setting the objective to the reaction, which is producing NMN\n",
    "    nmn_production = model.optimize().objective_value\n",
    "    print('Maximum productivity of NMN =', nmn_production, 'mmol/gDW*h')\n",
    "\n",
    "    glc_uptake_flux = model.reactions.EX_glc__D_e.flux \n",
    "    max_yield = nmn_production / (-1*glc_uptake_flux)\n",
    "    print('Maximum theoretical yield =', max_yield, 'mmol-NMN/mmol-glc') "
   ]
  },
  {
   "cell_type": "code",
   "execution_count": 8,
   "id": "cbc71f0c-b0c9-4173-9ba2-a6c519b025df",
   "metadata": {},
   "outputs": [
    {
     "name": "stdout",
     "output_type": "stream",
     "text": [
      "Optimized for 1/2 of max. Biomass\n",
      "NMN production: 2.242050599929578 [mmol gDW^-1 h^-1]\n",
      "Biomass growth 0.43849860721348133 [mmol gDW^-1 h^-1]\n"
     ]
    }
   ],
   "source": [
    "# Run double optimization, both biomass and product.\n",
    "solution=model.optimize()\n",
    "\n",
    "with model:\n",
    "    \n",
    "    # Objective set to NMN\n",
    "    model.reactions.BIOMASS_Ec_iML1515_core_75p37M.lower_bound=(solution.fluxes['BIOMASS_Ec_iML1515_core_75p37M'])/2\n",
    "    model.objective = model.reactions.EX_nmn_e\n",
    "    solution = model.optimize()\n",
    "    print('Optimized for 1/2 of max. Biomass')\n",
    "    print('NMN production:', solution.fluxes['EX_nmn_e'],'[mmol gDW^-1 h^-1]')\n",
    "    print('Biomass growth',solution.fluxes['BIOMASS_Ec_iML1515_core_75p37M'],'[mmol gDW^-1 h^-1]')"
   ]
  },
  {
   "cell_type": "raw",
   "id": "5770ba9f-578f-43d7-8d3a-9467dbbd7b15",
   "metadata": {},
   "source": [
    "from cobra.flux_analysis import production_envelope\n",
    "prod_env = production_envelope(\n",
    "    model, [\"BIOMASS_Ec_iML1515_core_75p37M\"], objective=\"EX_nmn_e\", carbon_sources=\"EX_glc__D_e\")\n",
    "prod_env.head()"
   ]
  },
  {
   "cell_type": "raw",
   "id": "89f1863d-ce2e-4370-a8f3-192f8a0d3604",
   "metadata": {},
   "source": [
    "from cameo import models\n",
    "from cameo.visualization.plotting.with_plotly import PlotlyPlotter\n",
    "from cameo.flux_analysis.analysis import phenotypic_phase_plane\n",
    "from cameo.strain_design.deterministic import DifferentialFVA"
   ]
  },
  {
   "cell_type": "raw",
   "id": "3ac7c695-0780-40e5-8437-ada4d0ce975e",
   "metadata": {},
   "source": [
    "plotter = PlotlyPlotter()"
   ]
  },
  {
   "cell_type": "raw",
   "id": "9129cab0-1999-49eb-957e-6ad77ee4d3d0",
   "metadata": {},
   "source": [
    "production_envelope = phenotypic_phase_plane(model,\n",
    "                                             variables=[model.reactions.BIOMASS_Ec_iML1515_core_75p37M],\n",
    "                                             objective=model.reactions.EX_nmn_e)\n",
    "production_envelope.plot(plotter, height=400)"
   ]
  },
  {
   "cell_type": "code",
   "execution_count": null,
   "id": "12e450d9-4914-4394-b62c-a339a15d7472",
   "metadata": {},
   "outputs": [],
   "source": []
  }
 ],
 "metadata": {
  "kernelspec": {
   "display_name": "Python 3 (ipykernel)",
   "language": "python",
   "name": "python3"
  },
  "language_info": {
   "codemirror_mode": {
    "name": "ipython",
    "version": 3
   },
   "file_extension": ".py",
   "mimetype": "text/x-python",
   "name": "python",
   "nbconvert_exporter": "python",
   "pygments_lexer": "ipython3",
   "version": "3.9.13"
  }
 },
 "nbformat": 4,
 "nbformat_minor": 5
}
