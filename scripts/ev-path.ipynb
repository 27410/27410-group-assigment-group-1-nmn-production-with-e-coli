{
 "cells": [
  {
   "cell_type": "markdown",
   "id": "7f96fe48-9c60-414b-b70f-06b982f5b8f0",
   "metadata": {},
   "source": [
    "### Pathway Evaluation:\n",
    "\n",
    "The goal is to analyse the behaviour of the different pathway when they are fed with the chosen substrate NAM and Glucose. They are judged by their maximum production and the maximum MA flux in relation to the biomass growth rate."
   ]
  },
  {
   "cell_type": "markdown",
   "id": "1155a4ee-f561-4e36-839c-692675af35a0",
   "metadata": {},
   "source": [
    "## Simulating pathways and visualizing results\n",
    "The pathways are one by one simulated with the set medium flux. They are analyzed for NMN production in relation to the biomass growth. The phenotypic phase planes show the relation of the carbon yield for NMN on NAM as a function of the growth rate."
   ]
  },
  {
   "cell_type": "code",
   "execution_count": 9,
   "id": "dae4951d-b616-42bc-a3c8-30c6e8eac21d",
   "metadata": {},
   "outputs": [],
   "source": [
    "models = [(NAM_model,'NAM'),(NA_model,'NA'),(NR_model,'NR')]"
   ]
  },
  {
   "cell_type": "code",
   "execution_count": 11,
   "id": "a30e20f3-6bd8-4a7e-a330-53d68b192162",
   "metadata": {},
   "outputs": [
    {
     "name": "stdout",
     "output_type": "stream",
     "text": [
      "General maximum biomass growth 14.482589667309739\n"
     ]
    },
    {
     "data": {
      "text/html": [
       "<div>\n",
       "<style scoped>\n",
       "    .dataframe tbody tr th:only-of-type {\n",
       "        vertical-align: middle;\n",
       "    }\n",
       "\n",
       "    .dataframe tbody tr th {\n",
       "        vertical-align: top;\n",
       "    }\n",
       "\n",
       "    .dataframe thead th {\n",
       "        text-align: right;\n",
       "    }\n",
       "</style>\n",
       "<table border=\"1\" class=\"dataframe\">\n",
       "  <thead>\n",
       "    <tr style=\"text-align: right;\">\n",
       "      <th></th>\n",
       "      <th>NAM</th>\n",
       "      <th>NA</th>\n",
       "      <th>NR</th>\n",
       "    </tr>\n",
       "  </thead>\n",
       "  <tbody>\n",
       "    <tr>\n",
       "      <th>max carbon yield</th>\n",
       "      <td>1.000000</td>\n",
       "      <td>0.820113</td>\n",
       "      <td>7.710270</td>\n",
       "    </tr>\n",
       "    <tr>\n",
       "      <th>max production</th>\n",
       "      <td>10.909091</td>\n",
       "      <td>4.473346</td>\n",
       "      <td>119.158717</td>\n",
       "    </tr>\n",
       "  </tbody>\n",
       "</table>\n",
       "</div>"
      ],
      "text/plain": [
       "                        NAM        NA          NR\n",
       "max carbon yield   1.000000  0.820113    7.710270\n",
       "max production    10.909091  4.473346  119.158717"
      ]
     },
     "metadata": {},
     "output_type": "display_data"
    },
    {
     "data": {
      "image/png": "[encoded data removed]",
      "text/plain": [
       "<Figure size 432x288 with 1 Axes>"
      ]
     },
     "metadata": {
      "needs_background": "light"
     },
     "output_type": "display_data"
    }
   ],
   "source": [
    "from cobra.flux_analysis.phenotype_phase_plane import production_envelope\n",
    "import pandas as pd\n",
    "\n",
    "model.medium = medium\n",
    "model.objective = model.reactions.get_by_id('BIOMASS_Ec_iML1515_core_75p37M')\n",
    "\n",
    "df_yields = pd.DataFrame()\n",
    "df_max = pd.DataFrame(index=['max carbon yield','max production'])\n",
    "max_growth = model.slim_optimize()\n",
    "print('General maximum biomass growth',max_growth)\n",
    "\n",
    "for pairing in models:\n",
    "    pathway_model = pairing[0]\n",
    "    with pathway_model:\n",
    "        pathway_model.medium = medium\n",
    "        pathway_model.objective = pathway_model.reactions.get_by_id('EX_nmn_e')\n",
    "        ppp = production_envelope(pathway_model,\n",
    "                    reactions='BIOMASS_Ec_iML1515_core_75p37M',\n",
    "                    objective='EX_nmn_e')\n",
    "        df_yields[pairing[1]]=ppp.carbon_yield_maximum\n",
    "        df_max[pairing[1]]=[ppp.carbon_yield_maximum.max(),ppp.flux_maximum.max()]\n",
    "\n",
    "display(df_max)\n",
    "#display (df_yields)\n",
    "\n",
    "df_yields.plot\n",
    "df_yields['BIOMASS_Ec_iML1515_core_75p37M'] = ppp.BIOMASS_Ec_iML1515_core_75p37M\n",
    "Pathway_carbon_yields = df_yields.plot(x='BIOMASS_Ec_iML1515_core_75p37M', y=[pairing[1] for pairing in models], title='Pathway carbon yields').set_ylabel('Carbon yield NMN / Substrate')\n"
   ]
  }
 ],
 "metadata": {
  "kernelspec": {
   "display_name": "Python 3 (ipykernel)",
   "language": "python",
   "name": "python3"
  },
  "language_info": {
   "codemirror_mode": {
    "name": "ipython",
    "version": 3
   },
   "file_extension": ".py",
   "mimetype": "text/x-python",
   "name": "python",
   "nbconvert_exporter": "python",
   "pygments_lexer": "ipython3",
   "version": "3.9.12"
  }
 },
 "nbformat": 4,
 "nbformat_minor": 5
}
