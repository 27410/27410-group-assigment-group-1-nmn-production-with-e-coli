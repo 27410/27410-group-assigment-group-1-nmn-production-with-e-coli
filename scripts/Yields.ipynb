{
 "cells": [
  {
   "cell_type": "markdown",
   "id": "fe3ec369-4cc3-482c-9582-43ab8251ba71",
   "metadata": {
    "tags": []
   },
   "source": [
    "### 1. Import\n",
    "Importing the SBML and running the \"create_pathway\" script and loading cobra and pandas."
   ]
  },
  {
   "cell_type": "code",
   "execution_count": 1,
   "id": "8402f1b0-268d-44c5-9c96-f6663b22cbc2",
   "metadata": {},
   "outputs": [],
   "source": [
    "# Importing used packages and model\n",
    "from cobra.io import read_sbml_model\n",
    "from cobra import Reaction, Metabolite\n",
    "import pandas as pd\n",
    "import matplotlib.pyplot as plt\n",
    "model = read_sbml_model('iML1515.xml')\n",
    "%run -i create_pathway_latest.ipynb"
   ]
  },
  {
   "cell_type": "markdown",
   "id": "79d0325f-45ce-453a-9e5a-add6f714822c",
   "metadata": {},
   "source": [
    "### 2. Defining media\n",
    "The exchange reactions for substrate for all 3 pathways are added to the model their concentration in the medium is set."
   ]
  },
  {
   "cell_type": "code",
   "execution_count": 3,
   "id": "48573068-16e2-4abc-9739-fd188937bcb8",
   "metadata": {
    "tags": []
   },
   "outputs": [],
   "source": [
    "model.add_boundary(model.metabolites.get_by_id(\"ncam_e\"), type=\"exchange\")\n",
    "model.add_boundary(model.metabolites.get_by_id(\"nr_e\"), type=\"exchange\")\n",
    "model.add_boundary(model.metabolites.get_by_id(\"na_e\"), type=\"exchange\")\n",
    "model.reactions.EX_ncam_e.lower_bound=-10\n",
    "model.reactions.EX_nr_e.lower_bound=-10\n",
    "model.reactions.EX_na_e.lower_bound=-10\n",
    "medium=model.medium\n",
    "medium['EX_ncam_e'] = 10\n",
    "medium['EX_nr_e'] = 10\n",
    "medium[\"EX_na_e\"] = 10\n",
    "medium[\"EX_glc__D_e\"] = 10\n",
    "model.medium=medium"
   ]
  },
  {
   "cell_type": "markdown",
   "id": "3f2ae2dc-80d4-4819-bf3d-28a7ca9b561c",
   "metadata": {},
   "source": [
    "### 3. Table of media composition"
   ]
  },
  {
   "cell_type": "code",
   "execution_count": 4,
   "id": "4572bf35-8e87-400d-b05d-493d1fd1f848",
   "metadata": {},
   "outputs": [
    {
     "name": "stdout",
     "output_type": "stream",
     "text": [
      "Add table number and name\n"
     ]
    },
    {
     "data": {
      "text/html": [
       "<div>\n",
       "<style scoped>\n",
       "    .dataframe tbody tr th:only-of-type {\n",
       "        vertical-align: middle;\n",
       "    }\n",
       "\n",
       "    .dataframe tbody tr th {\n",
       "        vertical-align: top;\n",
       "    }\n",
       "\n",
       "    .dataframe thead th {\n",
       "        text-align: right;\n",
       "    }\n",
       "</style>\n",
       "<table border=\"1\" class=\"dataframe\">\n",
       "  <thead>\n",
       "    <tr style=\"text-align: right;\">\n",
       "      <th></th>\n",
       "      <th>EX_pi_e</th>\n",
       "      <th>EX_co2_e</th>\n",
       "      <th>EX_fe3_e</th>\n",
       "      <th>EX_h_e</th>\n",
       "      <th>EX_mn2_e</th>\n",
       "      <th>EX_fe2_e</th>\n",
       "      <th>EX_glc__D_e</th>\n",
       "      <th>EX_zn2_e</th>\n",
       "      <th>EX_mg2_e</th>\n",
       "      <th>EX_ca2_e</th>\n",
       "      <th>...</th>\n",
       "      <th>EX_nh4_e</th>\n",
       "      <th>EX_k_e</th>\n",
       "      <th>EX_na1_e</th>\n",
       "      <th>EX_cl_e</th>\n",
       "      <th>EX_o2_e</th>\n",
       "      <th>EX_tungs_e</th>\n",
       "      <th>EX_slnt_e</th>\n",
       "      <th>EX_ncam_e</th>\n",
       "      <th>EX_nr_e</th>\n",
       "      <th>EX_na_e</th>\n",
       "    </tr>\n",
       "  </thead>\n",
       "  <tbody>\n",
       "    <tr>\n",
       "      <th>name</th>\n",
       "      <td>Phosphate</td>\n",
       "      <td>CO2 CO2</td>\n",
       "      <td>Iron (Fe3+)</td>\n",
       "      <td>H+</td>\n",
       "      <td>Manganese</td>\n",
       "      <td>Fe2+ mitochondria</td>\n",
       "      <td>D-Glucose</td>\n",
       "      <td>Zinc</td>\n",
       "      <td>Magnesium</td>\n",
       "      <td>Calcium</td>\n",
       "      <td>...</td>\n",
       "      <td>Ammonium</td>\n",
       "      <td>Potassium</td>\n",
       "      <td>Sodium</td>\n",
       "      <td>Chloride</td>\n",
       "      <td>O2 O2</td>\n",
       "      <td>Tungstate</td>\n",
       "      <td>Selenite</td>\n",
       "      <td>nicotineamide</td>\n",
       "      <td>nicotineamide riboside</td>\n",
       "      <td>Nicotinic acid</td>\n",
       "    </tr>\n",
       "    <tr>\n",
       "      <th>uptake</th>\n",
       "      <td>1000.0</td>\n",
       "      <td>1000.0</td>\n",
       "      <td>1000.0</td>\n",
       "      <td>1000.0</td>\n",
       "      <td>1000.0</td>\n",
       "      <td>1000.0</td>\n",
       "      <td>10</td>\n",
       "      <td>1000.0</td>\n",
       "      <td>1000.0</td>\n",
       "      <td>1000.0</td>\n",
       "      <td>...</td>\n",
       "      <td>1000.0</td>\n",
       "      <td>1000.0</td>\n",
       "      <td>1000.0</td>\n",
       "      <td>1000.0</td>\n",
       "      <td>1000.0</td>\n",
       "      <td>1000.0</td>\n",
       "      <td>1000.0</td>\n",
       "      <td>10</td>\n",
       "      <td>10</td>\n",
       "      <td>10</td>\n",
       "    </tr>\n",
       "  </tbody>\n",
       "</table>\n",
       "<p>2 rows × 27 columns</p>\n",
       "</div>"
      ],
      "text/plain": [
       "          EX_pi_e EX_co2_e     EX_fe3_e  EX_h_e   EX_mn2_e           EX_fe2_e  \\\n",
       "name    Phosphate  CO2 CO2  Iron (Fe3+)      H+  Manganese  Fe2+ mitochondria   \n",
       "uptake     1000.0   1000.0       1000.0  1000.0     1000.0             1000.0   \n",
       "\n",
       "       EX_glc__D_e EX_zn2_e   EX_mg2_e EX_ca2_e  ...  EX_nh4_e     EX_k_e  \\\n",
       "name     D-Glucose     Zinc  Magnesium  Calcium  ...  Ammonium  Potassium   \n",
       "uptake          10   1000.0     1000.0   1000.0  ...    1000.0     1000.0   \n",
       "\n",
       "       EX_na1_e   EX_cl_e EX_o2_e EX_tungs_e EX_slnt_e      EX_ncam_e  \\\n",
       "name     Sodium  Chloride   O2 O2  Tungstate  Selenite  nicotineamide   \n",
       "uptake   1000.0    1000.0  1000.0     1000.0    1000.0             10   \n",
       "\n",
       "                       EX_nr_e         EX_na_e  \n",
       "name    nicotineamide riboside  Nicotinic acid  \n",
       "uptake                      10              10  \n",
       "\n",
       "[2 rows x 27 columns]"
      ]
     },
     "metadata": {},
     "output_type": "display_data"
    }
   ],
   "source": [
    "print('Add table number and name')\n",
    "# create a data frame to plot a table\n",
    "med_names = dict()\n",
    "for flux in medium:\n",
    "    meta = model.reactions.get_by_id(flux).metabolites\n",
    "    for element in meta:\n",
    "        med_names[flux] = element.name\n",
    "df_med = pd.DataFrame(medium, index=['uptake'])\n",
    "df_names = pd.DataFrame(med_names, index=['name'])\n",
    "display(pd.concat([df_names,df_med]))"
   ]
  },
  {
   "cell_type": "code",
   "execution_count": 6,
   "id": "7635673f-133d-4233-82f5-392e44f3ea11",
   "metadata": {},
   "outputs": [
    {
     "data": {
      "text/html": [
       "\n",
       "        <table>\n",
       "            <tr>\n",
       "                <td><strong>Metabolite identifier</strong></td><td>ncam_e</td>\n",
       "            </tr><tr>\n",
       "                <td><strong>Name</strong></td><td>nicotineamide</td>\n",
       "            </tr><tr>\n",
       "                <td><strong>Memory address</strong></td>\n",
       "                <td>0x1bd121c3490</td>\n",
       "            </tr><tr>\n",
       "                <td><strong>Formula</strong></td><td>C6H6N2O</td>\n",
       "            </tr><tr>\n",
       "                <td><strong>Compartment</strong></td><td>e</td>\n",
       "            </tr><tr>\n",
       "                <td><strong>In 1 reaction(s)</strong></td><td>\n",
       "                    EX_ncam_e\n",
       "                    </td>\n",
       "            </tr>\n",
       "        </table>"
      ],
      "text/plain": [
       "<Metabolite ncam_e at 0x1bd121c3490>"
      ]
     },
     "execution_count": 6,
     "metadata": {},
     "output_type": "execute_result"
    }
   ],
   "source": [
    "model.metabolites.ncam_e"
   ]
  },
  {
   "cell_type": "markdown",
   "id": "b674bccd-6f52-434f-a4b4-ef699d32edfa",
   "metadata": {},
   "source": [
    "### Creating models for each pathway"
   ]
  },
  {
   "cell_type": "code",
   "execution_count": 7,
   "id": "c9d03ca9-6189-48b5-97a0-4544fad8ecf7",
   "metadata": {},
   "outputs": [
    {
     "ename": "NameError",
     "evalue": "name 'create_pathway_latest' is not defined",
     "output_type": "error",
     "traceback": [
      "\u001b[1;31m---------------------------------------------------------------------------\u001b[0m",
      "\u001b[1;31mNameError\u001b[0m                                 Traceback (most recent call last)",
      "Input \u001b[1;32mIn [7]\u001b[0m, in \u001b[0;36m<cell line: 2>\u001b[1;34m()\u001b[0m\n\u001b[0;32m      1\u001b[0m \u001b[38;5;66;03m# creating the models with the respective pathways\u001b[39;00m\n\u001b[1;32m----> 2\u001b[0m nam_model \u001b[38;5;241m=\u001b[39m \u001b[43mcreate_pathway_latest\u001b[49m(model\u001b[38;5;241m.\u001b[39mcopy(),\u001b[38;5;241m1\u001b[39m)\n\u001b[0;32m      3\u001b[0m na_model \u001b[38;5;241m=\u001b[39m create_pathway_latest(model\u001b[38;5;241m.\u001b[39mcopy(),\u001b[38;5;241m2\u001b[39m)\n\u001b[0;32m      4\u001b[0m nr_model \u001b[38;5;241m=\u001b[39m create_pathway_latest(model\u001b[38;5;241m.\u001b[39mcopy(),\u001b[38;5;241m3\u001b[39m)\n",
      "\u001b[1;31mNameError\u001b[0m: name 'create_pathway_latest' is not defined"
     ]
    }
   ],
   "source": [
    "# creating the models with the respective pathways\n",
    "nam_model = create_pathway_latest(model.copy(),1)\n",
    "na_model = create_pathway_latest(model.copy(),2)\n",
    "nr_model = create_pathway_latest(model.copy(),3)\n",
    "models = [model, (nam_model,'NAMPT'),(na_model,'NMN Synthetase'),(nr_model,'DeoD')]"
   ]
  },
  {
   "cell_type": "code",
   "execution_count": null,
   "id": "104c3e1b-45c9-4be2-ac2b-aa7f610964b8",
   "metadata": {},
   "outputs": [],
   "source": []
  },
  {
   "cell_type": "markdown",
   "id": "9d9eff82-ffd6-43c6-beea-8bcc7b96d040",
   "metadata": {},
   "source": [
    "### Gene knockout of NMNDA"
   ]
  },
  {
   "cell_type": "code",
   "execution_count": null,
   "id": "036ed932-c9aa-4d07-bce0-dfc02b2c7286",
   "metadata": {},
   "outputs": [],
   "source": [
    "\n"
   ]
  },
  {
   "cell_type": "markdown",
   "id": "6c9f5e63-c7aa-4fe8-8a22-7207527e4706",
   "metadata": {},
   "source": [
    "### Maximum biomass growth of the cell with the implemented pathways"
   ]
  },
  {
   "cell_type": "code",
   "execution_count": 5,
   "id": "f242ac4d-435b-47a8-b29a-6b00114b4984",
   "metadata": {},
   "outputs": [
    {
     "name": "stdout",
     "output_type": "stream",
     "text": [
      "NAM-pathway biomass growth 1.3845699440948451 mmol/gDW*h\n",
      "NA-pathway biomass growth 0.8769972144269672 mmol/gDW*h\n",
      "NR-pathway biomass growth 14.48258966730981 mmol/gDW*h\n"
     ]
    }
   ],
   "source": [
    "with nam_model:\n",
    "    growth = nam_model.optimize()\n",
    "    max_growth_rate = growth.fluxes['BIOMASS_Ec_iML1515_core_75p37M']\n",
    "    print('NAM-pathway biomass growth', max_growth_rate,'mmol/gDW*h')\n",
    "with na_model:\n",
    "    growth = na_model.optimize()\n",
    "    max_growth_rate = growth.fluxes['BIOMASS_Ec_iML1515_core_75p37M']\n",
    "    print('NA-pathway biomass growth', max_growth_rate,'mmol/gDW*h')\n",
    "with nr_model:\n",
    "    growth = nr_model.optimize()\n",
    "    max_growth_rate = growth.fluxes['BIOMASS_Ec_iML1515_core_75p37M']\n",
    "    print('NR-pathway biomass growth', max_growth_rate,'mmol/gDW*h')"
   ]
  },
  {
   "cell_type": "markdown",
   "id": "2cb496eb-7e03-4732-bed6-19075784b6cc",
   "metadata": {},
   "source": [
    "### Max productivity and yield"
   ]
  },
  {
   "cell_type": "code",
   "execution_count": 6,
   "id": "d37c2cca-40c9-4384-81de-c76da0666851",
   "metadata": {},
   "outputs": [
    {
     "name": "stdout",
     "output_type": "stream",
     "text": [
      "With NAM pathway:\n",
      "Maximum productivity of NMN = 212.50666666666754 mmol/gDW*h\n",
      "Maximum theoretical yield = 21.250666666666753 mmol-NMN/mmol-glc\n",
      "With NR pathway:\n",
      "Maximum productivity of NMN = 380.5361185983827 mmol/gDW*h\n",
      "Maximum theoretical yield = 38.05361185983827 mmol-NMN/mmol-glc\n"
     ]
    }
   ],
   "source": [
    "with nam_model:\n",
    "    print('With NAM pathway:')\n",
    "    nam_model.objective = nam_model.reactions.NAMPT #Setting the objective to the reaction, which is producing NMN\n",
    "    nmn_production = nam_model.optimize().objective_value\n",
    "    print('Maximum productivity of NMN =', nmn_production, 'mmol/gDW*h')\n",
    "\n",
    "    glc_uptake_flux = nam_model.reactions.EX_glc__D_e.flux \n",
    "    max_yield = nmn_production / (-1*glc_uptake_flux)\n",
    "    print('Maximum theoretical yield =', max_yield, 'mmol-NMN/mmol-glc') \n",
    "    \n",
    "with nr_model:\n",
    "    print('With NR pathway:')\n",
    "    nr_model.objective = nr_model.reactions.FtNadE #Setting the objective to the reaction, which is producing NMN\n",
    "    nmn_production = nr_model.optimize().objective_value\n",
    "    print('Maximum productivity of NMN =', nmn_production, 'mmol/gDW*h')\n",
    "\n",
    "    glc_uptake_flux = nr_model.reactions.EX_glc__D_e.flux \n",
    "    max_yield = nmn_production / (-1*glc_uptake_flux)\n",
    "    print('Maximum theoretical yield =', max_yield, 'mmol-NMN/mmol-glc')"
   ]
  },
  {
   "cell_type": "markdown",
   "id": "0d838ebf-fa68-45c2-94ba-f2ef17b2a230",
   "metadata": {},
   "source": [
    "### Error with the NA pathway\n",
    "When FBA is run with the NA with the objective of optimal NMN production it crashes the kernel."
   ]
  },
  {
   "cell_type": "raw",
   "id": "10ffe88b-5f2b-490a-a640-91319195effd",
   "metadata": {},
   "source": [
    "with na_model:\n",
    "    na_model.objective = na_model.reactions.FtNadE #Setting the objective to the reaction, which is producing NMN\n",
    "    nmn_production = na_model.optimize().objective_value\n",
    "    print('Maximum productivity of NMN =', nmn_production, 'mmol/gDW*h')\n",
    "\n",
    "    glc_uptake_flux = na_model.reactions.EX_glc__D_e.flux \n",
    "    max_yield = nmn_production / (-1*glc_uptake_flux)\n",
    "    print('Maximum theoretical yield =', max_yield, 'mmol-NMN/mmol-glc')\n"
   ]
  },
  {
   "cell_type": "markdown",
   "id": "80d9fab8-6274-4aa0-b94b-a9bc7b58e169",
   "metadata": {},
   "source": [
    "### Optimize for NMN production with cell growth\n",
    "A double optimization with NMN production as the main target and with still some biomass, so to not kill the cell."
   ]
  },
  {
   "cell_type": "code",
   "execution_count": 7,
   "id": "a0a51093-8572-4aeb-9119-5c888b82c033",
   "metadata": {},
   "outputs": [
    {
     "name": "stdout",
     "output_type": "stream",
     "text": [
      "Max. NMN production: 212.50666666666754 [mmol gDW^-1 h^-1]\n",
      "Biomass growth: 14.48258966730976 [mmol gDW^-1 h^-1]\n"
     ]
    }
   ],
   "source": [
    "# Run double optimization, both biomass and product.\n",
    "with nam_model:\n",
    "    \n",
    "    # Objective set to NMN\n",
    "    nam_model.objective = nam_model.reactions.NAMPT\n",
    "    solution = nam_model.optimize()\n",
    "    \n",
    "    # Objective set to Biomass\n",
    "    nam_model.reactions.BIOMASS_Ec_iML1515_core_75p37M.lower_bound=0.5\n",
    "    nam_model.objective = nam_model.reactions.BIOMASS_Ec_iML1515_core_75p37M\n",
    "    growth = nam_model.optimize().objective_value\n",
    "    \n",
    "    print('Max. NMN production:', solution.fluxes['NAMPT'],'[mmol gDW^-1 h^-1]')\n",
    "    print('Biomass growth:',nr_model.optimize().fluxes['BIOMASS_Ec_iML1515_core_75p37M'],'[mmol gDW^-1 h^-1]')\n",
    "\n"
   ]
  },
  {
   "cell_type": "code",
   "execution_count": 8,
   "id": "b791b4a2-f531-435f-adbc-ade81bc7baa5",
   "metadata": {},
   "outputs": [
    {
     "name": "stdout",
     "output_type": "stream",
     "text": [
      "Max. NMN production: 0.0 [mmol gDW^-1 h^-1]\n",
      "Biomass growth: 14.48258966730976 [mmol gDW^-1 h^-1]\n"
     ]
    }
   ],
   "source": [
    "with nr_model:\n",
    "    \n",
    "    # Objective set to NMN\n",
    "    nr_model.objective = na_model.reactions.FtNadE\n",
    "    solution = na_model.optimize()\n",
    "    \n",
    "    # Objective set to Biomass\n",
    "    nr_model.reactions.BIOMASS_Ec_iML1515_core_75p37M.lower_bound\n",
    "    nr_model.objective = nr_model.reactions.BIOMASS_Ec_iML1515_core_75p37M\n",
    "    growth = nr_model.optimize().objective_value\n",
    "    \n",
    "    print('Max. NMN production:', solution.fluxes['FtNadE'],'[mmol gDW^-1 h^-1]')\n",
    "    print('Biomass growth:',nr_model.optimize().fluxes['BIOMASS_Ec_iML1515_core_75p37M'],'[mmol gDW^-1 h^-1]')\n"
   ]
  },
  {
   "cell_type": "raw",
   "id": "00601a3d-18ab-406d-ae6e-e9ac00551585",
   "metadata": {},
   "source": [
    "with na_model:\n",
    "    \n",
    "    # Objective set to NMN\n",
    "    na_model.objective = na_model.reactions.FtNadE\n",
    "    solution = na_model.optimize()\n",
    "    \n",
    "    # Objective set to Biomass\n",
    "    na_model.reactions.BIOMASS_Ec_iML1515_core_75p37M.lower_bound=0.5\n",
    "    na_model.objective = na_model.reactions.BIOMASS_Ec_iML1515_core_75p37M\n",
    "    growth = na_model.optimize().objective_value\n",
    "    \n",
    "    print('Max. NMN secretion [mmol gDW^-1 h^-1]:', solution.fluxes['FtNadE'])\n",
    "    print(na_model.optimize().fluxes['BIOMASS_Ec_iML1515_core_75p37M'])"
   ]
  },
  {
   "cell_type": "markdown",
   "id": "2044a551-8789-4dde-bdfb-1718dc8d9a14",
   "metadata": {},
   "source": [
    "### For 4. Computer-Aided Cell Factory Engineering (<1500 words if Category II project; <500 words for Category I project)\n",
    "The 3 pathways were recreated and made in to 3 seperate models called nam_model, na_model and nr_model using the the 3 scripts NAM_pathway, NA_pathway and NR_pathway. The metabolites that took part in the reactions in the 3 pathways that were not present in iML1515 were added to the model. After the reactions were added to each pathway and these could be called for further engineering and Flux Balance Analysis.\n",
    "\n",
    "For the reactions to take place the medium also had to be altered as these pathways testes by Huang et al. used NAM, NA and NR as substrate which were not in the model medium already. Table 1 shows the medium composition after the additions which shows a that they are present in the model.\n",
    "\n",
    "For the 3 pathways a couple of knockout were also done to resemble the pathways from Huang et al., but a screening of the model showed that only one of the knocked out genes and the corresponding reactions were present in iML1515. These were knocked out using the knock_out function of cobrapy.\n",
    "\n",
    "An FBA was run on all 3 models showing the maximum theoretical NMN production and the maximum theoretical yield with regards to the carbon source which in this simulation is glucose.\n",
    "\n",
    "For the 3 pathways and FSEOF and phase plane were tried to be run but the result were difficult to interpret."
   ]
  },
  {
   "cell_type": "markdown",
   "id": "cc407659-0654-4a7d-961b-7af9e7685451",
   "metadata": {},
   "source": [
    "### Discussion\n",
    "For the productivity and yields of the 3 pathways added to the model we got some results that were difficult to understand. First of all the biomass growth for the 3 models was quite different from each other when running an FBA. The NR pathway shoed more than a 10-fold increase compared to the NAM and NA pathways. This is somewhat unrealistic when comparing the similarity of the NA and NR models. This also takes us to the maxiumum productivity and yield which is extremly high compared to the biomass growth of the cell. Yields of 21 mmol NMN/mmol glucose and 38 mmol NMN/mmol glucose for the NAM an NR pathways respectively is unrealistically high. For the NA pathway the FBA caused a kernel crash when trying to optimize for NMN production, which we were not able to fix as it didn't give any kind of error code. We also tried to do a double optimization the FBA objective was set as NMN production but, without the total loss of biomass. For the NAM pathway this result showed that the maximum production was the same as the theoretical maxiumum and a biomass growth exceeding the theoretical maximum running an FBA solely on biomass. The NR pathway showed no NMN production and the biomass growth was at the same theoretical high. The unrealistic FBA results and the kernel error implies that there may be trouble with the new pathways, which we are not able to discover and fix ourselves.\n",
    "\n",
    "The substrate for the 3 pathways also seem to not have been added in incorrectly. The cobra documentation does not state any way that has functioned for us, and multiple discussion forums also imply that there seem to be an error when adding new substrate, but not editing excisting."
   ]
  },
  {
   "cell_type": "markdown",
   "id": "fe835228-fe8c-4f1a-8e91-5f1666b78664",
   "metadata": {},
   "source": []
  }
 ],
 "metadata": {
  "kernelspec": {
   "display_name": "Python 3 (ipykernel)",
   "language": "python",
   "name": "python3"
  },
  "language_info": {
   "codemirror_mode": {
    "name": "ipython",
    "version": 3
   },
   "file_extension": ".py",
   "mimetype": "text/x-python",
   "name": "python",
   "nbconvert_exporter": "python",
   "pygments_lexer": "ipython3",
   "version": "3.9.12"
  }
 },
 "nbformat": 4,
 "nbformat_minor": 5
}
