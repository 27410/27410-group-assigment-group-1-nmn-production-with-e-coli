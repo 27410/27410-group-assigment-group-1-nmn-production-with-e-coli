{
 "cells": [
  {
   "cell_type": "markdown",
   "id": "171a708b-aa3c-4e57-b26a-ccc52c1ed577",
   "metadata": {},
   "source": [
    "### Import model"
   ]
  },
  {
   "cell_type": "code",
   "execution_count": 1,
   "id": "00e0003e-ffb0-46f3-ac5d-1d625c0dd93e",
   "metadata": {},
   "outputs": [],
   "source": [
    "from cobra.io import read_sbml_model\n",
    "from cobra import Reaction, Metabolite\n",
    "import pandas as pd\n",
    "import matplotlib.pyplot as plt\n",
    "model = read_sbml_model('iML1515.xml')"
   ]
  },
  {
   "cell_type": "markdown",
   "id": "7af5786c-b3e1-4b37-906d-41ca40b47bec",
   "metadata": {},
   "source": [
    "### Create metabolites"
   ]
  },
  {
   "cell_type": "code",
   "execution_count": 2,
   "id": "f4bf265a-a469-4647-933e-79a7b2af3451",
   "metadata": {},
   "outputs": [],
   "source": [
    "ncam_e=Metabolite('ncam_e', name='nicotineamide', compartment='e', formula = 'C6H6N2O'  ),\n",
    "na_c=Metabolite('na_c', name='Nicotinic acid',  compartment='c', formula = 'C6H5NO2' ),\n",
    "namn_c=Metabolite('namn_c', name='nicotinic acid mononucleotide',  compartment='c', formula = 'C11H14NO9P' ),\n",
    "nr_c=Metabolite('nr_c', name='nicotineamide riboside',  compartment='c', formula = 'C11H15N2O5' ),\n",
    "nr_e=Metabolite('nr_e', name='nicotineamide riboside',  compartment='e',formula = 'C11H15N2O5' ),\n",
    "na_e=Metabolite('na_e', name='Nicotinic acid',  compartment='e', formula = 'C6H5NO2' ),\n",
    "nh3_c=Metabolite('nh3_c', name='Ammonia',  compartment='c', formula = 'NH3' ),\n",
    "mets=[ncam_e,na_c,namn_c,nr_c,nr_e,na_e,nh3_c]\n",
    "for i in range(7):\n",
    "    model.add_metabolites(mets[i])"
   ]
  },
  {
   "cell_type": "markdown",
   "id": "0bccd5f0-cf45-4b8d-abad-b4a9412949ca",
   "metadata": {},
   "source": [
    "### Add Pathways"
   ]
  },
  {
   "cell_type": "code",
   "execution_count": 3,
   "id": "66312990-52cb-4348-82a6-8e6d3a11a030",
   "metadata": {},
   "outputs": [],
   "source": [
    "# NR Pathway\n",
    "\n",
    "\n",
    "#NR to NAM https://www.kegg.jp/entry/R02294\n",
    "Pur_nuc_phosph = Reaction ('DeoD')\n",
    "Pur_nuc_phosph.name = 'purine-nucleoside phosphorylase'\n",
    "\n",
    "Pur_nuc_phosph.add_metabolites  (({model.metabolites.nr_c: -1,\n",
    "                                   model.metabolites.pi_c: -1,\n",
    "                                 model.metabolites.ncam_c: 1,\n",
    "                                  model.metabolites.r1p_c: 1})) \n",
    "#is reversibel\n",
    "\n",
    "# NAM to NA https://www.kegg.jp/entry/3.5.1.19\n",
    "Pyr_dase = Reaction ('PncA')\n",
    "Pyr_dase.name = 'Nicotinamidase' \n",
    "\n",
    "Pyr_dase.add_metabolites  (({model.metabolites.ncam_c: -1,\n",
    "                             model.metabolites.h2o_c: -1,\n",
    "                             model.metabolites.nh3_c: 1,\n",
    "                                model.metabolites.na_c: 1})) \n",
    "#is reversibel\n",
    "#EX_NR -> NR\n",
    "nicotineamide_riboside_trans = Reaction('PnuC')\n",
    "nicotineamide_riboside_trans.name = 'nicotineamide riboside transporter'\n",
    "\n",
    "nicotineamide_riboside_trans.add_metabolites (({model.metabolites.nr_c: 1, \n",
    "                                  model.metabolites.nr_e: -1}))\n",
    "\n",
    "# NA <=> NAMN https://www.kegg.jp/entry/6.3.4.21\n",
    "nico_acid_phosp_trans = Reaction ('PNCB')\n",
    "nico_acid_phosp_trans.name = 'nicotinic acid phosphoribosyl transferase'\n",
    "\n",
    "nico_acid_phosp_trans.add_metabolites  (({model.metabolites.na_c: -1,\n",
    "                                          model.metabolites.h2o_c: -1,\n",
    "                                          model.metabolites.prpp_c: -1,\n",
    "                                          model.metabolites.ppi_c: 1,\n",
    "                                          model.metabolites.adp_c: 1,\n",
    "                                          model.metabolites.pi_c: 1,\n",
    "                                          model.metabolites.namn_c: 1})) \n",
    "#is reversibel\n",
    "\n",
    "#NAMN <=> NMN https://www.kegg.jp/entry/6.3.1.5\n",
    "nico_syntase= Reaction ('FtNadE')\n",
    "nico_syntase.name = 'nicotineamide mononucleotide synthetase'\n",
    "                                        \n",
    "nico_syntase.add_metabolites (({model.metabolites.namn_c:-1,\n",
    "                                model.metabolites.atp_c:-1,\n",
    "                                model.metabolites.nh3_c:-1,\n",
    "                                model.metabolites.amp_c:1,\n",
    "                                model.metabolites.ppi_c:1,\n",
    "                                model.metabolites.nmn_c: 1})) \n",
    "#is reversibel\n",
    "# Transport reaction cytosol -> extracellular \n",
    "\n",
    "nmn_ctoe = Reaction('BMpnuC')\n",
    "nmn_ctoe.name = 'NMN transporter'\n",
    "nmn_ctoe.add_metabolites({ model.metabolites.nmn_c: -1,\n",
    "                          model.metabolites.nmn_e: 1})\n"
   ]
  },
  {
   "cell_type": "markdown",
   "id": "c774d028-d33e-405d-860b-ce9460b6a927",
   "metadata": {},
   "source": [
    "### Add models and add reversibility and knockout of gene"
   ]
  },
  {
   "cell_type": "code",
   "execution_count": 4,
   "id": "e8f08bf0-e642-4de3-9675-f340474152c5",
   "metadata": {},
   "outputs": [
    {
     "name": "stderr",
     "output_type": "stream",
     "text": [
      "C:\\Users\\Aljosha\\anaconda3\\lib\\site-packages\\cobra\\core\\reaction.py:810: UserWarning: Setting reaction reversibility is ignored\n",
      "  warn(\"Setting reaction reversibility is ignored\")\n"
     ]
    }
   ],
   "source": [
    "# Set up pathway\n",
    "nr_path = [Pur_nuc_phosph,Pyr_dase,nicotineamide_riboside_trans,nico_acid_phosp_trans,nico_syntase,nmn_ctoe]\n",
    "model.add_reactions(nr_path)\n",
    "model.reactions.DeoD.lower_bound=-10\n",
    "model.reactions.PncA.lower_bound=-10\n",
    "model.reactions.PnuC.lower_bound=-10\n",
    "model.reactions.PNCB.lower_bound=-10\n",
    "model.reactions.FtNadE.lower_bound=-10\n",
    "model.reactions.BMpnuC.lower_bound=-10\n",
    "model.reactions.DeoD.reversibility= True\n",
    "model.reactions.PncA.reversibility= True\n",
    "model.reactions.PnuC.reversibility= True\n",
    "model.reactions.PNCB.reversibility= True\n",
    "model.reactions.FtNadE.reversibility= True\n",
    "model.reactions.BMpnuC.reversibility= True\n",
    "model.reactions.NMNDA.knock_out()"
   ]
  },
  {
   "cell_type": "markdown",
   "id": "24c2dbac-2949-46d7-bed3-079b64a849fe",
   "metadata": {},
   "source": [
    "### Define medium and boundaries"
   ]
  },
  {
   "cell_type": "code",
   "execution_count": 5,
   "id": "87c99f5d-1253-4ec9-ac6e-b812740407a1",
   "metadata": {},
   "outputs": [],
   "source": [
    "model.add_boundary(model.metabolites.get_by_id(\"ncam_e\"), type=\"exchange\")\n",
    "model.add_boundary(model.metabolites.get_by_id(\"nr_e\"), type=\"exchange\")\n",
    "model.add_boundary(model.metabolites.get_by_id(\"na_e\"), type=\"exchange\")\n",
    "model.reactions.EX_ncam_e.lower_bound=-10\n",
    "model.reactions.EX_nr_e.lower_bound=-10\n",
    "model.reactions.EX_na_e.lower_bound=-10\n",
    "medium=model.medium\n",
    "medium['EX_ncam_e'] = 10\n",
    "medium['EX_nr_e'] = 10\n",
    "medium[\"EX_na_e\"] = 10\n",
    "medium[\"EX_glc__D_e\"] = 10\n",
    "model.medium=medium"
   ]
  },
  {
   "cell_type": "markdown",
   "id": "115747ac-7d87-4f8c-b543-1101c531c567",
   "metadata": {},
   "source": [
    "### Maximum biomass growth"
   ]
  },
  {
   "cell_type": "code",
   "execution_count": 6,
   "id": "9f9d74f5-613b-4e50-94df-ccc2116a329d",
   "metadata": {},
   "outputs": [
    {
     "name": "stdout",
     "output_type": "stream",
     "text": [
      "NR-pathway max. biomass growth 14.482589667309782 mmol/gDW*h\n"
     ]
    }
   ],
   "source": [
    "with model:\n",
    "    growth = model.optimize()\n",
    "    max_growth_rate = growth.fluxes['BIOMASS_Ec_iML1515_core_75p37M']\n",
    "    print('NR-pathway max. biomass growth', max_growth_rate,'mmol/gDW*h')"
   ]
  },
  {
   "cell_type": "markdown",
   "id": "fc943443-6fb6-4a5c-8b19-54025119d52c",
   "metadata": {},
   "source": [
    "### Maximum NMN production and yield"
   ]
  },
  {
   "cell_type": "code",
   "execution_count": 7,
   "id": "f91f11ce-13b0-47bc-86fa-9dda72f8c23f",
   "metadata": {},
   "outputs": [
    {
     "name": "stdout",
     "output_type": "stream",
     "text": [
      "With NR pathway:\n",
      "Maximum productivity of NMN = 119.15871657754008 mmol/gDW*h\n",
      "Maximum theoretical yield = 11.915871657754007 mmol-NMN/mmol-glc\n"
     ]
    }
   ],
   "source": [
    "with model:\n",
    "    print('With NR pathway:')\n",
    "    model.objective = model.reactions.EX_nmn_e #Setting the objective to the reaction, which is producing NMN\n",
    "    nmn_production = model.optimize().objective_value\n",
    "    print('Maximum productivity of NMN =', nmn_production, 'mmol/gDW*h')\n",
    "\n",
    "    glc_uptake_flux = model.reactions.EX_glc__D_e.flux \n",
    "    max_yield = nmn_production / (-1*glc_uptake_flux)\n",
    "    print('Maximum theoretical yield =', max_yield, 'mmol-NMN/mmol-glc') "
   ]
  },
  {
   "cell_type": "markdown",
   "id": "28d53b2c-c752-4163-8ecf-35a5368228e9",
   "metadata": {},
   "source": [
    "### NMN production with 1/2 of max biomass"
   ]
  },
  {
   "cell_type": "code",
   "execution_count": 8,
   "id": "cbc71f0c-b0c9-4173-9ba2-a6c519b025df",
   "metadata": {},
   "outputs": [
    {
     "name": "stdout",
     "output_type": "stream",
     "text": [
      "Optimized for 1/2 of max. Biomass\n",
      "NMN production: 65.65585154027679 [mmol gDW^-1 h^-1]\n",
      "Biomass growth 7.241294833654902 [mmol gDW^-1 h^-1]\n"
     ]
    }
   ],
   "source": [
    "# Run double optimization, both biomass and product.\n",
    "solution=model.optimize()\n",
    "\n",
    "with model:\n",
    "    \n",
    "    # Objective set to NMN\n",
    "    model.reactions.BIOMASS_Ec_iML1515_core_75p37M.lower_bound=(solution.fluxes['BIOMASS_Ec_iML1515_core_75p37M'])/2\n",
    "    model.objective = model.reactions.EX_nmn_e\n",
    "    solution = model.optimize()\n",
    "    print('Optimized for 1/2 of max. Biomass')\n",
    "    print('NMN production:', solution.fluxes['EX_nmn_e'],'[mmol gDW^-1 h^-1]')\n",
    "    print('Biomass growth',solution.fluxes['BIOMASS_Ec_iML1515_core_75p37M'],'[mmol gDW^-1 h^-1]')"
   ]
  },
  {
   "cell_type": "markdown",
   "id": "e4a6e7d5-aef3-483a-9ac7-2322db163115",
   "metadata": {},
   "source": [
    "### Some envelope thing"
   ]
  },
  {
   "cell_type": "raw",
   "id": "a490f76b-281e-46a0-86f6-846f91b4a5fa",
   "metadata": {},
   "source": [
    "from cobra.flux_analysis import production_envelope\n",
    "prod_env = production_envelope(\n",
    "    model, [\"BIOMASS_Ec_iML1515_core_75p37M\"], objective=\"EX_nmn_e\", carbon_sources=\"EX_glc__D_e\")\n",
    "prod_env.head()"
   ]
  },
  {
   "cell_type": "raw",
   "id": "69d55c1e-f334-412e-b77a-0ae9db00caa9",
   "metadata": {},
   "source": [
    "from cameo import models\n",
    "from cameo.visualization.plotting.with_plotly import PlotlyPlotter\n",
    "from cameo.flux_analysis.analysis import phenotypic_phase_plane\n",
    "from cameo.strain_design.deterministic import DifferentialFVA"
   ]
  },
  {
   "cell_type": "raw",
   "id": "26b76280-b293-491b-aa0e-9256b392733e",
   "metadata": {},
   "source": [
    "plotter = PlotlyPlotter()"
   ]
  },
  {
   "cell_type": "raw",
   "id": "66c9d1d9-a4c8-48bf-a565-30de42e6457f",
   "metadata": {},
   "source": [
    "production_envelope = phenotypic_phase_plane(model,\n",
    "                                             variables=[model.reactions.BIOMASS_Ec_iML1515_core_75p37M],\n",
    "                                             objective=model.reactions.EX_nmn_e)\n",
    "production_envelope.plot(plotter, height=400)"
   ]
  }
 ],
 "metadata": {
  "kernelspec": {
   "display_name": "Python 3 (ipykernel)",
   "language": "python",
   "name": "python3"
  },
  "language_info": {
   "codemirror_mode": {
    "name": "ipython",
    "version": 3
   },
   "file_extension": ".py",
   "mimetype": "text/x-python",
   "name": "python",
   "nbconvert_exporter": "python",
   "pygments_lexer": "ipython3",
   "version": "3.9.12"
  }
 },
 "nbformat": 4,
 "nbformat_minor": 5
}
