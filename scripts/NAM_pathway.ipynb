{
 "cells": [
  {
   "cell_type": "code",
   "execution_count": 1,
   "id": "00e0003e-ffb0-46f3-ac5d-1d625c0dd93e",
   "metadata": {},
   "outputs": [],
   "source": [
    "from cobra.io import read_sbml_model\n",
    "from cobra import Reaction, Metabolite\n",
    "import pandas as pd\n",
    "import matplotlib.pyplot as plt\n",
    "model = read_sbml_model('iML1515.xml')"
   ]
  },
  {
   "cell_type": "code",
   "execution_count": 2,
   "id": "f4bf265a-a469-4647-933e-79a7b2af3451",
   "metadata": {},
   "outputs": [],
   "source": [
    "ncam_e=Metabolite('ncam_e', name='nicotineamide', compartment='e', formula = 'C6H6N2O'  ),\n",
    "na_c=Metabolite('na_c', name='Nicotinic acid',  compartment='c', formula = 'C6H5NO2' ),\n",
    "namn_c=Metabolite('namn_c', name='nicotinic acid mononucleotide',  compartment='c', formula = 'C11H14NO9P' ),\n",
    "nr_c=Metabolite('nr_c', name='nicotineamide riboside',  compartment='c', formula = 'C11H15N2O5' ),\n",
    "nr_e=Metabolite('nr_e', name='nicotineamide riboside',  compartment='e',formula = 'C11H15N2O5' ),\n",
    "na_e=Metabolite('na_e', name='Nicotinic acid',  compartment='e', formula = 'C6H5NO2' ),\n",
    "nh3_c=Metabolite('nh3_c', name='Ammonia',  compartment='c', formula = 'NH3' ),\n",
    "mets=[ncam_e,na_c,namn_c,nr_c,nr_e,na_e,nh3_c]\n",
    "for i in range(7):\n",
    "    model.add_metabolites(mets[i])"
   ]
  },
  {
   "cell_type": "code",
   "execution_count": 3,
   "id": "66312990-52cb-4348-82a6-8e6d3a11a030",
   "metadata": {},
   "outputs": [],
   "source": [
    "# NAM Pathway\n",
    "\n",
    "# NAM + PRPP <=> NMN + PPi https://www.kegg.jp/entry/2.4.2.12\n",
    "nico_phos_trans = Reaction('NAMPT')\n",
    "nico_phos_trans.name = 'nicotinamide-phosphoribosyl transferase'\n",
    "\n",
    "# NMN = Metabolite (id='nmn_c', compartment = 'c')\n",
    "# NMN.name = 'Nicotinamide mononucleotide'\n",
    "# NMN.formula = 'C11H15N2O8P'\n",
    "\n",
    "nico_phos_trans.add_metabolites (({model.metabolites.prpp_c: -1, \n",
    "                                 model.metabolites.ncam_c: -1,\n",
    "                                 model.metabolites.nmn_c: 1,\n",
    "                                 model.metabolites.ppi_c: 1}))\n",
    "\n",
    "#R5P->PRPP https://www.kegg.jp/entry/2.7.6.1\n",
    "R5P_prpp=Reaction('BaPRS')\n",
    "R5P_prpp.name= ('Ribose 5 phosphate to PRPP')\n",
    "R5P_prpp.add_metabolites (({model.metabolites.prpp_c: 1,\n",
    "                            model.metabolites.amp_c:1,\n",
    "                            model.metabolites.atp_c:-1,\n",
    "                                 model.metabolites.r5p_c: -1}))\n",
    "\n",
    "# Ex_NAM -> NAM https://tcdb.org/search/result.php?tc=9.A.23\n",
    "nicotine_trans = Reaction('NiaP')\n",
    "nicotine_trans.name = 'nicotine transporter'\n",
    "\n",
    "nicotine_trans.add_metabolites (({model.metabolites.ncam_c: 1, \n",
    "                                  model.metabolites.ncam_e: -1}))\n",
    "\n",
    "# Transport reaction cytosol -> extracellular \n",
    "\n",
    "nmn_ctoe = Reaction('BMpnuC')\n",
    "nmn_ctoe.name = 'NMN transporter'\n",
    "nmn_ctoe.add_metabolites({ model.metabolites.nmn_c: -1,\n",
    "                          model.metabolites.nmn_e: 1})\n"
   ]
  },
  {
   "cell_type": "code",
   "execution_count": 4,
   "id": "e8f08bf0-e642-4de3-9675-f340474152c5",
   "metadata": {},
   "outputs": [],
   "source": [
    "# Set up pathway\n",
    "nam_path = [nico_phos_trans,nicotine_trans,R5P_prpp,nmn_ctoe]\n",
    "model.add_reactions(nam_path)"
   ]
  },
  {
   "cell_type": "code",
   "execution_count": 5,
   "id": "f9d27d0e-7fec-4372-a246-987b710d6407",
   "metadata": {},
   "outputs": [
    {
     "name": "stderr",
     "output_type": "stream",
     "text": [
      "C:\\Users\\Aljosha\\anaconda3\\lib\\site-packages\\cobra\\core\\reaction.py:810: UserWarning: Setting reaction reversibility is ignored\n",
      "  warn(\"Setting reaction reversibility is ignored\")\n"
     ]
    }
   ],
   "source": [
    "model.reactions.NAMPT.lower_bound=-10\n",
    "model.reactions.BaPRS.lower_bound=-10\n",
    "model.reactions.NiaP.lower_bound=-10\n",
    "model.reactions.BMpnuC.lower_bound=-10\n",
    "model.reactions.NAMPT.reversibility= True\n",
    "model.reactions.BaPRS.reversibility= True\n",
    "model.reactions.NiaP.reversibility= True\n",
    "model.reactions.BMpnuC.reversibility= True"
   ]
  },
  {
   "cell_type": "code",
   "execution_count": 13,
   "id": "fcf08cba-a1fc-4757-a847-5efb62f73074",
   "metadata": {},
   "outputs": [
    {
     "data": {
      "text/plain": [
       "(-10, 1000.0)"
      ]
     },
     "execution_count": 13,
     "metadata": {},
     "output_type": "execute_result"
    }
   ],
   "source": [
    "model.reactions.BMpnuC.bounds"
   ]
  },
  {
   "cell_type": "code",
   "execution_count": 6,
   "id": "87c99f5d-1253-4ec9-ac6e-b812740407a1",
   "metadata": {},
   "outputs": [],
   "source": [
    "model.add_boundary(model.metabolites.get_by_id(\"ncam_e\"), type=\"exchange\")\n",
    "model.add_boundary(model.metabolites.get_by_id(\"nr_e\"), type=\"exchange\")\n",
    "model.add_boundary(model.metabolites.get_by_id(\"na_e\"), type=\"exchange\")\n",
    "model.reactions.EX_ncam_e.lower_bound=-10\n",
    "model.reactions.EX_nr_e.lower_bound=-10\n",
    "model.reactions.EX_na_e.lower_bound=-10\n",
    "medium=model.medium\n",
    "medium['EX_ncam_e'] = 10\n",
    "medium['EX_nr_e'] = 10\n",
    "medium[\"EX_na_e\"] = 10\n",
    "medium[\"EX_glc__D_e\"] = 10\n",
    "model.medium=medium"
   ]
  },
  {
   "cell_type": "code",
   "execution_count": 7,
   "id": "9f9d74f5-613b-4e50-94df-ccc2116a329d",
   "metadata": {},
   "outputs": [
    {
     "name": "stdout",
     "output_type": "stream",
     "text": [
      "NAM-pathway biomass growth 1.3845699440948724 mmol/gDW*h\n"
     ]
    }
   ],
   "source": [
    "with model:\n",
    "    growth = model.optimize()\n",
    "    max_growth_rate = growth.fluxes['BIOMASS_Ec_iML1515_core_75p37M']\n",
    "    print('NAM-pathway biomass growth', max_growth_rate,'mmol/gDW*h')"
   ]
  },
  {
   "cell_type": "code",
   "execution_count": 8,
   "id": "f91f11ce-13b0-47bc-86fa-9dda72f8c23f",
   "metadata": {},
   "outputs": [
    {
     "name": "stdout",
     "output_type": "stream",
     "text": [
      "With NAM pathway:\n",
      "Maximum productivity of NMN = 10.909090909090908 mmol/gDW*h\n",
      "Maximum theoretical yield = 1.0909090909090908 mmol-NMN/mmol-glc\n"
     ]
    }
   ],
   "source": [
    "with model:\n",
    "    print('With NAM pathway:')\n",
    "    model.objective = model.reactions.EX_nmn_e #Setting the objective to the reaction, which is producing NMN\n",
    "    nmn_production = model.optimize().objective_value\n",
    "    print('Maximum productivity of NMN =', nmn_production, 'mmol/gDW*h')\n",
    "\n",
    "    glc_uptake_flux = model.reactions.EX_glc__D_e.flux \n",
    "    max_yield = nmn_production / (-1*glc_uptake_flux)\n",
    "    print('Maximum theoretical yield =', max_yield, 'mmol-NMN/mmol-glc') "
   ]
  },
  {
   "cell_type": "code",
   "execution_count": 9,
   "id": "cbc71f0c-b0c9-4173-9ba2-a6c519b025df",
   "metadata": {},
   "outputs": [
    {
     "name": "stdout",
     "output_type": "stream",
     "text": [
      "Max. NMN production: 6.000000000000058 [mmol gDW^-1 h^-1]\n",
      "Biomass growth 0.6922849720474342 [mmol gDW^-1 h^-1]\n"
     ]
    }
   ],
   "source": [
    "# Run double optimization, both biomass and product.\n",
    "solution=model.optimize()\n",
    "\n",
    "\n",
    "with model:\n",
    "    \n",
    "    # Objective set to NMN\n",
    "    model.reactions.BIOMASS_Ec_iML1515_core_75p37M.lower_bound=(solution.fluxes['BIOMASS_Ec_iML1515_core_75p37M'])/2\n",
    "    model.objective = model.reactions.EX_nmn_e\n",
    "    solution = model.optimize()\n",
    "    print('Optimized for 1/2 of max. Biomass')\n",
    "    print('NMN production:', solution.fluxes['EX_nmn_e'],'[mmol gDW^-1 h^-1]')\n",
    "    print('Biomass growth',solution.fluxes['BIOMASS_Ec_iML1515_core_75p37M'],'[mmol gDW^-1 h^-1]')"
   ]
  },
  {
   "cell_type": "raw",
   "id": "3b4fe3e7-0661-4ca6-9420-0a9ffd1b1dcb",
   "metadata": {},
   "source": [
    "from cobra.flux_analysis import production_envelope\n",
    "prod_env = production_envelope(\n",
    "    model, [\"BIOMASS_Ec_iML1515_core_75p37M\"], objective=\"EX_nmn_e\", carbon_sources=\"EX_glc__D_e\")\n",
    "prod_env.head()"
   ]
  },
  {
   "cell_type": "raw",
   "id": "615240ea-6b8e-4b83-aebc-e495175e5301",
   "metadata": {},
   "source": [
    "from cameo import models\n",
    "from cameo.visualization.plotting.with_plotly import PlotlyPlotter\n",
    "from cameo.flux_analysis.analysis import phenotypic_phase_plane\n",
    "from cameo.strain_design.deterministic import DifferentialFVA"
   ]
  },
  {
   "cell_type": "raw",
   "id": "f4ecf107-4e4a-4cc7-bc8b-3d93502b8f74",
   "metadata": {},
   "source": [
    "plotter = PlotlyPlotter()"
   ]
  },
  {
   "cell_type": "raw",
   "id": "953902c8-c686-4f54-bbbc-077b9a19d459",
   "metadata": {},
   "source": [
    "production_envelope = phenotypic_phase_plane(model,\n",
    "                                             variables=[model.reactions.BIOMASS_Ec_iML1515_core_75p37M],\n",
    "                                             objective=model.reactions.EX_nmn_e)\n",
    "production_envelope.plot(plotter, height=400)"
   ]
  }
 ],
 "metadata": {
  "kernelspec": {
   "display_name": "Python 3 (ipykernel)",
   "language": "python",
   "name": "python3"
  },
  "language_info": {
   "codemirror_mode": {
    "name": "ipython",
    "version": 3
   },
   "file_extension": ".py",
   "mimetype": "text/x-python",
   "name": "python",
   "nbconvert_exporter": "python",
   "pygments_lexer": "ipython3",
   "version": "3.9.12"
  }
 },
 "nbformat": 4,
 "nbformat_minor": 5
}
