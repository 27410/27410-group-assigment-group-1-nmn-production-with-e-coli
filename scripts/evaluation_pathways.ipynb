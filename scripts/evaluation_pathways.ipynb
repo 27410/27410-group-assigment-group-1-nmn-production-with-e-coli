{
 "cells": [
  {
   "cell_type": "markdown",
   "metadata": {},
   "source": [
    "# Pathway Evaluation\n",
    "The goal is to analyse the behaviour of the different pathway when they are fed with the chosen substrate Methanol. They are judged by their maximum production and the maximum MA flux in relation to the biomass growth rate."
   ]
  },
  {
   "cell_type": "markdown",
   "metadata": {},
   "source": [
    "### Loading model and defining medium\n",
    "This is only loading the basis model and adding NAM, NA and NR to the medium, aswell as defining their maximum optake rates. It spits out a Table to visualize the media composition."
   ]
  },
  {
   "cell_type": "code",
   "execution_count": 1,
   "metadata": {
    "tags": []
   },
   "outputs": [
    {
     "name": "stdout",
     "output_type": "stream",
     "text": [
      "Set parameter Username\n",
      "Academic license - for non-commercial use only - expires 2023-11-20\n",
      "Table 2: Medium composition\n"
     ]
    },
    {
     "data": {
      "text/html": [
       "<div>\n",
       "<style scoped>\n",
       "    .dataframe tbody tr th:only-of-type {\n",
       "        vertical-align: middle;\n",
       "    }\n",
       "\n",
       "    .dataframe tbody tr th {\n",
       "        vertical-align: top;\n",
       "    }\n",
       "\n",
       "    .dataframe thead th {\n",
       "        text-align: right;\n",
       "    }\n",
       "</style>\n",
       "<table border=\"1\" class=\"dataframe\">\n",
       "  <thead>\n",
       "    <tr style=\"text-align: right;\">\n",
       "      <th></th>\n",
       "      <th>EX_pi_e</th>\n",
       "      <th>EX_co2_e</th>\n",
       "      <th>EX_fe3_e</th>\n",
       "      <th>EX_h_e</th>\n",
       "      <th>EX_mn2_e</th>\n",
       "      <th>EX_fe2_e</th>\n",
       "      <th>EX_glc__D_e</th>\n",
       "      <th>EX_zn2_e</th>\n",
       "      <th>EX_mg2_e</th>\n",
       "      <th>EX_ca2_e</th>\n",
       "      <th>...</th>\n",
       "      <th>EX_nh4_e</th>\n",
       "      <th>EX_k_e</th>\n",
       "      <th>EX_na1_e</th>\n",
       "      <th>EX_cl_e</th>\n",
       "      <th>EX_o2_e</th>\n",
       "      <th>EX_tungs_e</th>\n",
       "      <th>EX_slnt_e</th>\n",
       "      <th>EX_ncam_e</th>\n",
       "      <th>EX_nr_e</th>\n",
       "      <th>EX_na_e</th>\n",
       "    </tr>\n",
       "  </thead>\n",
       "  <tbody>\n",
       "    <tr>\n",
       "      <th>name</th>\n",
       "      <td>Phosphate</td>\n",
       "      <td>CO2 CO2</td>\n",
       "      <td>Iron (Fe3+)</td>\n",
       "      <td>H+</td>\n",
       "      <td>Manganese</td>\n",
       "      <td>Fe2+ mitochondria</td>\n",
       "      <td>D-Glucose</td>\n",
       "      <td>Zinc</td>\n",
       "      <td>Magnesium</td>\n",
       "      <td>Calcium</td>\n",
       "      <td>...</td>\n",
       "      <td>Ammonium</td>\n",
       "      <td>Potassium</td>\n",
       "      <td>Sodium</td>\n",
       "      <td>Chloride</td>\n",
       "      <td>O2 O2</td>\n",
       "      <td>Tungstate</td>\n",
       "      <td>Selenite</td>\n",
       "      <td>nicotineamide</td>\n",
       "      <td>nicotineamide riboside</td>\n",
       "      <td>Nicotinic acid</td>\n",
       "    </tr>\n",
       "    <tr>\n",
       "      <th>uptake</th>\n",
       "      <td>1000.0</td>\n",
       "      <td>1000.0</td>\n",
       "      <td>1000.0</td>\n",
       "      <td>1000.0</td>\n",
       "      <td>1000.0</td>\n",
       "      <td>1000.0</td>\n",
       "      <td>10</td>\n",
       "      <td>1000.0</td>\n",
       "      <td>1000.0</td>\n",
       "      <td>1000.0</td>\n",
       "      <td>...</td>\n",
       "      <td>1000.0</td>\n",
       "      <td>1000.0</td>\n",
       "      <td>1000.0</td>\n",
       "      <td>1000.0</td>\n",
       "      <td>1000.0</td>\n",
       "      <td>1000.0</td>\n",
       "      <td>1000.0</td>\n",
       "      <td>100</td>\n",
       "      <td>100</td>\n",
       "      <td>100</td>\n",
       "    </tr>\n",
       "  </tbody>\n",
       "</table>\n",
       "<p>2 rows × 27 columns</p>\n",
       "</div>"
      ],
      "text/plain": [
       "          EX_pi_e EX_co2_e     EX_fe3_e  EX_h_e   EX_mn2_e           EX_fe2_e  \\\n",
       "name    Phosphate  CO2 CO2  Iron (Fe3+)      H+  Manganese  Fe2+ mitochondria   \n",
       "uptake     1000.0   1000.0       1000.0  1000.0     1000.0             1000.0   \n",
       "\n",
       "       EX_glc__D_e EX_zn2_e   EX_mg2_e EX_ca2_e  ...  EX_nh4_e     EX_k_e  \\\n",
       "name     D-Glucose     Zinc  Magnesium  Calcium  ...  Ammonium  Potassium   \n",
       "uptake          10   1000.0     1000.0   1000.0  ...    1000.0     1000.0   \n",
       "\n",
       "       EX_na1_e   EX_cl_e EX_o2_e EX_tungs_e EX_slnt_e      EX_ncam_e  \\\n",
       "name     Sodium  Chloride   O2 O2  Tungstate  Selenite  nicotineamide   \n",
       "uptake   1000.0    1000.0  1000.0     1000.0    1000.0            100   \n",
       "\n",
       "                       EX_nr_e         EX_na_e  \n",
       "name    nicotineamide riboside  Nicotinic acid  \n",
       "uptake                     100             100  \n",
       "\n",
       "[2 rows x 27 columns]"
      ]
     },
     "metadata": {},
     "output_type": "display_data"
    }
   ],
   "source": [
    "# Importing used packages and model\n",
    "from cobra.io import read_sbml_model\n",
    "from cobra import Reaction, Metabolite\n",
    "import pandas as pd\n",
    "import matplotlib.pyplot as plt\n",
    "\n",
    "model = read_sbml_model('iML1515.xml')\n",
    "%run -i create_pathway.ipynb\n",
    "# flux unit is mmol / [gDW h]\n",
    "\n",
    "#Defining media\n",
    "model.add_boundary(model.metabolites.get_by_id(\"ncam_e\"), type=\"exchange\")\n",
    "model.add_boundary(model.metabolites.get_by_id(\"nr_e\"), type=\"exchange\")\n",
    "model.add_boundary(model.metabolites.get_by_id(\"na_e\"), type=\"exchange\")\n",
    "\n",
    "#Choosing uptake rates\n",
    "medium=model.medium\n",
    "medium['EX_ncam_e'] = 100\n",
    "medium['EX_nr_e'] = 100\n",
    "medium[\"EX_na_e\"] = 100\n",
    "medium[\"EX_glc__D_e\"] = 10\n",
    "print('Table 2: Medium composition')\n",
    "# create a data frame to plot a table\n",
    "med_names = dict()\n",
    "for flux in medium:\n",
    "    meta = model.reactions.get_by_id(flux).metabolites\n",
    "    for element in meta:\n",
    "        med_names[flux] = element.name\n",
    "df_med = pd.DataFrame(medium, index=['uptake'])\n",
    "df_names = pd.DataFrame(med_names, index=['name'])\n",
    "display(pd.concat([df_names,df_med]))"
   ]
  },
  {
   "cell_type": "markdown",
   "metadata": {},
   "source": [
    "### Creating the 3 differint routes/pathways\n",
    "When the pathways need to be used, they should be called as nam_model, na_model or nr_model. This should be put in instead of the normal code where it only says \"model\"."
   ]
  },
  {
   "cell_type": "code",
   "execution_count": 2,
   "metadata": {
    "tags": []
   },
   "outputs": [
    {
     "name": "stdout",
     "output_type": "stream",
     "text": [
      "Read LP format model from file /var/folders/xm/9p7p9cbx5pl_147c9t396fx40000gp/T/tmpij3dthrl.lp\n",
      "Reading time = 0.01 seconds\n",
      ": 1883 rows, 5430 columns, 21156 nonzeros\n",
      "Read LP format model from file /var/folders/xm/9p7p9cbx5pl_147c9t396fx40000gp/T/tmp5h_k75he.lp\n",
      "Reading time = 0.01 seconds\n",
      ": 1883 rows, 5430 columns, 21156 nonzeros\n",
      "Read LP format model from file /var/folders/xm/9p7p9cbx5pl_147c9t396fx40000gp/T/tmp97rq934j.lp\n",
      "Reading time = 0.02 seconds\n",
      ": 1883 rows, 5430 columns, 21156 nonzeros\n"
     ]
    },
    {
     "data": {
      "text/plain": [
       "'done'"
      ]
     },
     "execution_count": 2,
     "metadata": {},
     "output_type": "execute_result"
    }
   ],
   "source": [
    "# creating the models with the respective pathways\n",
    "\n",
    "# path_selector legend\n",
    "# 0 -> no additional reactions\n",
    "#1 -> nicotinamid pathway  \n",
    "#2 -> nicotinic acid pathway  \n",
    "#3 -> nicotinamid riboside pathway\n",
    "\n",
    "nam_model = create_pathway(model.copy(),1)\n",
    "na_model = create_pathway(model.copy(),2)\n",
    "nr_model = create_pathway(model.copy(),3)\n",
    "models = [model, (nam_model,'NAMPT'),(na_model,'NMN Synthetase'),(nr_model,'DeoD')]\n",
    "'done'"
   ]
  },
  {
   "cell_type": "markdown",
   "metadata": {},
   "source": [
    "### Testing for biomass and NMN production\n",
    "The different cells are just different attempts of running an FBA basically."
   ]
  },
  {
   "cell_type": "code",
   "execution_count": 3,
   "metadata": {},
   "outputs": [
    {
     "name": "stdout",
     "output_type": "stream",
     "text": [
      "1.3845699440948591\n",
      "<Solution 1.385 at 0x7f894349e520>\n"
     ]
    }
   ],
   "source": [
    "with nam_model:\n",
    "    growth = nam_model.optimize()\n",
    "    max_growth_rate = growth.fluxes['BIOMASS_Ec_iML1515_core_75p37M']\n",
    "    print(max_growth_rate)\n",
    "    \n",
    "    print(growth)"
   ]
  },
  {
   "cell_type": "code",
   "execution_count": 4,
   "metadata": {},
   "outputs": [
    {
     "data": {
      "text/plain": [
       "1.3845699440948591"
      ]
     },
     "execution_count": 4,
     "metadata": {},
     "output_type": "execute_result"
    }
   ],
   "source": [
    "max_growth_rate"
   ]
  },
  {
   "cell_type": "code",
   "execution_count": 5,
   "metadata": {},
   "outputs": [
    {
     "name": "stdout",
     "output_type": "stream",
     "text": [
      "Max. NMN secretion [mmol gDW^-1 h^-1]: 0.0\n",
      "1.3845699440948591\n"
     ]
    }
   ],
   "source": [
    "# Run double optimization, both biomass and product.\n",
    "with nam_model:\n",
    "    \n",
    "    # Objective set to NMN\n",
    "    nam_model.objective = nam_model.reactions.BMpnuC\n",
    "    solution = nam_model.optimize()\n",
    "    \n",
    "    # Objective set to Biomass\n",
    "    nam_model.reactions.BIOMASS_Ec_iML1515_core_75p37M.lower_bound=0.10\n",
    "    nam_model.objective = nam_model.reactions.BIOMASS_Ec_iML1515_core_75p37M\n",
    "    growth = nam_model.optimize().objective_value\n",
    "    \n",
    "    print('Max. NMN secretion [mmol gDW^-1 h^-1]:', solution.fluxes['BMpnuC'])\n",
    "    print(nam_model.optimize().fluxes['BIOMASS_Ec_iML1515_core_75p37M'])\n"
   ]
  },
  {
   "cell_type": "code",
   "execution_count": 19,
   "metadata": {},
   "outputs": [
    {
     "name": "stderr",
     "output_type": "stream",
     "text": [
      "/Users/shengbaowang/opt/anaconda3/lib/python3.9/site-packages/cobra/util/solver.py:554: UserWarning:\n",
      "\n",
      "Solver status is 'infeasible'.\n",
      "\n"
     ]
    },
    {
     "name": "stdout",
     "output_type": "stream",
     "text": [
      "Max. NMN secretion [mmol gDW^-1 h^-1]: 489.1412568670319\n",
      "0.0\n"
     ]
    },
    {
     "name": "stderr",
     "output_type": "stream",
     "text": [
      "/Users/shengbaowang/opt/anaconda3/lib/python3.9/site-packages/cobra/util/solver.py:554: UserWarning:\n",
      "\n",
      "Solver status is 'infeasible'.\n",
      "\n",
      "/Users/shengbaowang/opt/anaconda3/lib/python3.9/site-packages/cobra/util/solver.py:554: UserWarning:\n",
      "\n",
      "Solver status is 'infeasible'.\n",
      "\n"
     ]
    }
   ],
   "source": [
    "# Run double optimization, both biomass and product.\n",
    "with nam_model:\n",
    "    \n",
    "    # Objective set to NMN\n",
    "    nam_model.reactions.BIOMASS_Ec_iML1515_WT_75p37M.lower_bound=0.01\n",
    "    nam_model.objective = nam_model.reactions.NAMPT\n",
    "    solution = nam_model.optimize()\n",
    "    \n",
    "    # Objective set to Biomass\n",
    "    # nam_model.reactions.BIOMASS_Ec_iML1515_WT_75p37M.lower_bound=0.01\n",
    "    # nam_model.objective = nam_model.reactions.BIOMASS_Ec_iML1515_WT_75p37M\n",
    "    growth = nam_model.optimize().objective_value\n",
    "    \n",
    "    print('Max. NMN secretion [mmol gDW^-1 h^-1]:', solution.fluxes['NAMPT'])\n",
    "    print(nam_model.optimize().fluxes['BIOMASS_Ec_iML1515_core_75p37M'])\n"
   ]
  },
  {
   "cell_type": "code",
   "execution_count": 7,
   "metadata": {},
   "outputs": [
    {
     "name": "stdout",
     "output_type": "stream",
     "text": [
      "Max. NMN secretion [mmol gDW^-1 h^-1]: 0.0\n",
      "Biomass [mmol gDW^-1 h^-1]: 10.0\n"
     ]
    },
    {
     "name": "stderr",
     "output_type": "stream",
     "text": [
      "/Users/shengbaowang/opt/anaconda3/lib/python3.9/site-packages/cobra/util/solver.py:554: UserWarning: Solver status is 'infeasible'.\n",
      "  warn(f\"Solver status is '{status}'.\", UserWarning)\n",
      "/Users/shengbaowang/opt/anaconda3/lib/python3.9/site-packages/cobra/util/solver.py:554: UserWarning: Solver status is 'infeasible'.\n",
      "  warn(f\"Solver status is '{status}'.\", UserWarning)\n"
     ]
    }
   ],
   "source": [
    "with nam_model:\n",
    "    nam_model.reactions.BIOMASS_Ec_iML1515_WT_75p37M.lower_bound=10\n",
    "    solution = nam_model.optimize()\n",
    "    print('Max. NMN secretion [mmol gDW^-1 h^-1]:', solution.fluxes['BMpnuC'])\n",
    "    print('Biomass [mmol gDW^-1 h^-1]:', nam_model.optimize().fluxes['BIOMASS_Ec_iML1515_WT_75p37M'])\n"
   ]
  },
  {
   "cell_type": "code",
   "execution_count": 8,
   "metadata": {},
   "outputs": [
    {
     "name": "stderr",
     "output_type": "stream",
     "text": [
      "/Users/shengbaowang/opt/anaconda3/lib/python3.9/site-packages/cobra/util/solver.py:554: UserWarning: Solver status is 'infeasible'.\n",
      "  warn(f\"Solver status is '{status}'.\", UserWarning)\n"
     ]
    },
    {
     "name": "stdout",
     "output_type": "stream",
     "text": [
      "Max. NMN secretion [mmol gDW^-1 h^-1]: 0.0\n",
      "500.0\n"
     ]
    },
    {
     "name": "stderr",
     "output_type": "stream",
     "text": [
      "/Users/shengbaowang/opt/anaconda3/lib/python3.9/site-packages/cobra/util/solver.py:554: UserWarning: Solver status is 'infeasible'.\n",
      "  warn(f\"Solver status is '{status}'.\", UserWarning)\n"
     ]
    }
   ],
   "source": [
    "\n",
    "with na_model:\n",
    "    na_model.reactions.NMNDA.knock_out() #knockout of the pncC gene reaction.\n",
    "    na_model.reactions.BIOMASS_Ec_iML1515_WT_75p37M.lower_bound=500\n",
    "    na_model.objective = na_model.reactions.BMpnuC\n",
    "    solution = na_model.optimize()\n",
    "    print('Max. NMN secretion [mmol gDW^-1 h^-1]:', solution.fluxes['BMpnuC'])\n",
    "    print(na_model.optimize().fluxes['BIOMASS_Ec_iML1515_WT_75p37M'])\n"
   ]
  },
  {
   "cell_type": "code",
   "execution_count": 9,
   "metadata": {},
   "outputs": [
    {
     "name": "stderr",
     "output_type": "stream",
     "text": [
      "/Users/shengbaowang/opt/anaconda3/lib/python3.9/site-packages/cobra/util/solver.py:554: UserWarning: Solver status is 'infeasible'.\n",
      "  warn(f\"Solver status is '{status}'.\", UserWarning)\n"
     ]
    },
    {
     "name": "stdout",
     "output_type": "stream",
     "text": [
      "None\n"
     ]
    },
    {
     "name": "stderr",
     "output_type": "stream",
     "text": [
      "/Users/shengbaowang/opt/anaconda3/lib/python3.9/site-packages/cobra/util/solver.py:554: UserWarning: Solver status is 'infeasible'.\n",
      "  warn(f\"Solver status is '{status}'.\", UserWarning)\n"
     ]
    },
    {
     "name": "stdout",
     "output_type": "stream",
     "text": [
      "0.5\n"
     ]
    }
   ],
   "source": [
    "with nr_model:\n",
    "    nr_model.reactions.NMNAT.knock_out() #knockout of the nadR gene reaction.\n",
    "    nr_model.reactions.BIOMASS_Ec_iML1515_WT_75p37M.lower_bound=0.5\n",
    "    nr_model.obective=nr_model.reactions.BMpnuC\n",
    "    print(nr_model.optimize().objective_value)\n",
    "    print(nr_model.optimize().fluxes['BIOMASS_Ec_iML1515_WT_75p37M'])\n"
   ]
  },
  {
   "cell_type": "markdown",
   "metadata": {},
   "source": [
    "## Simulating pathways and visualizing results (just ignore for now)\n",
    "The pathways are one by one simulated with the set medium flux. They are analyzed for maximum NMN production in relation to the biomass growth. The phenotypic phase planes show the relation of the carbon yield for malonic acid on methanol as a function of the growth rate."
   ]
  },
  {
   "cell_type": "markdown",
   "metadata": {},
   "source": [
    "### FSEOF + phase plane code and figures\n",
    "Marc should know what to do"
   ]
  },
  {
   "cell_type": "code",
   "execution_count": 13,
   "metadata": {},
   "outputs": [],
   "source": [
    "import cameo\n",
    "from cameo import models\n",
    "from cameo.visualization.plotting.with_plotly import PlotlyPlotter"
   ]
  },
  {
   "cell_type": "code",
   "execution_count": 14,
   "metadata": {},
   "outputs": [],
   "source": [
    "plotter = PlotlyPlotter()\n"
   ]
  },
  {
   "cell_type": "code",
   "execution_count": 25,
   "metadata": {},
   "outputs": [],
   "source": [
    "from cameo.strain_design.deterministic.flux_variability_based import FSEOF\n",
    "fseof = FSEOF(nam_model)\n",
    "result = fseof.run(target=nam_model.reactions.NAMPT)\n",
    "df = result.data_frame"
   ]
  },
  {
   "cell_type": "code",
   "execution_count": 26,
   "metadata": {},
   "outputs": [
    {
     "data": {
      "image/png": "[encoded data removed]",
      "text/plain": [
       "<Figure size 432x288 with 1 Axes>"
      ]
     },
     "metadata": {
      "needs_background": "light"
     },
     "output_type": "display_data"
    }
   ],
   "source": [
    "result.data_frame.T.plot()\n",
    "plt.legend(loc='center left', bbox_to_anchor = (1, 0.5))\n",
    "plt.show()"
   ]
  },
  {
   "cell_type": "code",
   "execution_count": 27,
   "metadata": {},
   "outputs": [
    {
     "data": {
      "text/html": [
       "<div>\n",
       "<style scoped>\n",
       "    .dataframe tbody tr th:only-of-type {\n",
       "        vertical-align: middle;\n",
       "    }\n",
       "\n",
       "    .dataframe tbody tr th {\n",
       "        vertical-align: top;\n",
       "    }\n",
       "\n",
       "    .dataframe thead th {\n",
       "        text-align: right;\n",
       "    }\n",
       "</style>\n",
       "<table border=\"1\" class=\"dataframe\">\n",
       "  <thead>\n",
       "    <tr style=\"text-align: right;\">\n",
       "      <th></th>\n",
       "      <th>1</th>\n",
       "      <th>2</th>\n",
       "      <th>3</th>\n",
       "      <th>4</th>\n",
       "      <th>5</th>\n",
       "      <th>6</th>\n",
       "      <th>7</th>\n",
       "      <th>8</th>\n",
       "      <th>9</th>\n",
       "      <th>10</th>\n",
       "    </tr>\n",
       "  </thead>\n",
       "  <tbody>\n",
       "    <tr>\n",
       "      <th>PItex</th>\n",
       "      <td>-1000.000000</td>\n",
       "      <td>-1000.000000</td>\n",
       "      <td>-1000.000000</td>\n",
       "      <td>-1000.000000</td>\n",
       "      <td>-1000.000000</td>\n",
       "      <td>-1000.000000</td>\n",
       "      <td>-1000.000000</td>\n",
       "      <td>-1000.000000</td>\n",
       "      <td>-1000.000000</td>\n",
       "      <td>-1000.000000</td>\n",
       "    </tr>\n",
       "    <tr>\n",
       "      <th>Htex</th>\n",
       "      <td>-557.511894</td>\n",
       "      <td>-601.637178</td>\n",
       "      <td>-645.762463</td>\n",
       "      <td>-689.887747</td>\n",
       "      <td>-734.013032</td>\n",
       "      <td>-778.138317</td>\n",
       "      <td>-822.263601</td>\n",
       "      <td>-864.441074</td>\n",
       "      <td>-904.967539</td>\n",
       "      <td>-945.391078</td>\n",
       "    </tr>\n",
       "    <tr>\n",
       "      <th>ATPS4rpp</th>\n",
       "      <td>-142.030607</td>\n",
       "      <td>-153.061928</td>\n",
       "      <td>-164.093249</td>\n",
       "      <td>-175.124570</td>\n",
       "      <td>-186.155891</td>\n",
       "      <td>-197.187212</td>\n",
       "      <td>-208.218533</td>\n",
       "      <td>-186.289699</td>\n",
       "      <td>-144.535061</td>\n",
       "      <td>-101.293821</td>\n",
       "    </tr>\n",
       "    <tr>\n",
       "      <th>PRPPS</th>\n",
       "      <td>-455.250218</td>\n",
       "      <td>-411.124933</td>\n",
       "      <td>-366.999649</td>\n",
       "      <td>-322.874364</td>\n",
       "      <td>-278.749079</td>\n",
       "      <td>-234.623795</td>\n",
       "      <td>-190.498510</td>\n",
       "      <td>-146.464452</td>\n",
       "      <td>-102.505996</td>\n",
       "      <td>-58.552312</td>\n",
       "    </tr>\n",
       "    <tr>\n",
       "      <th>ADK3</th>\n",
       "      <td>-451.757341</td>\n",
       "      <td>-407.632056</td>\n",
       "      <td>-363.506772</td>\n",
       "      <td>-319.381487</td>\n",
       "      <td>-275.256203</td>\n",
       "      <td>-231.130918</td>\n",
       "      <td>-187.005634</td>\n",
       "      <td>-144.466796</td>\n",
       "      <td>-101.137007</td>\n",
       "      <td>-57.829968</td>\n",
       "    </tr>\n",
       "    <tr>\n",
       "      <th>NDPK1</th>\n",
       "      <td>-450.663511</td>\n",
       "      <td>-406.538227</td>\n",
       "      <td>-362.412942</td>\n",
       "      <td>-318.287658</td>\n",
       "      <td>-274.162373</td>\n",
       "      <td>-230.037088</td>\n",
       "      <td>-185.911804</td>\n",
       "      <td>-143.532161</td>\n",
       "      <td>-100.496503</td>\n",
       "      <td>-57.503566</td>\n",
       "    </tr>\n",
       "    <tr>\n",
       "      <th>CO2tpp</th>\n",
       "      <td>-3.188689</td>\n",
       "      <td>-3.188689</td>\n",
       "      <td>-3.188689</td>\n",
       "      <td>-3.188689</td>\n",
       "      <td>-3.188689</td>\n",
       "      <td>-3.188689</td>\n",
       "      <td>-3.188689</td>\n",
       "      <td>-11.456939</td>\n",
       "      <td>-26.733536</td>\n",
       "      <td>-42.447041</td>\n",
       "    </tr>\n",
       "    <tr>\n",
       "      <th>CO2tex</th>\n",
       "      <td>-3.188689</td>\n",
       "      <td>-3.188689</td>\n",
       "      <td>-3.188689</td>\n",
       "      <td>-3.188689</td>\n",
       "      <td>-3.188689</td>\n",
       "      <td>-3.188689</td>\n",
       "      <td>-3.188689</td>\n",
       "      <td>-11.456939</td>\n",
       "      <td>-26.733536</td>\n",
       "      <td>-42.447041</td>\n",
       "    </tr>\n",
       "    <tr>\n",
       "      <th>PGK</th>\n",
       "      <td>-16.135868</td>\n",
       "      <td>-16.135868</td>\n",
       "      <td>-16.135868</td>\n",
       "      <td>-16.135868</td>\n",
       "      <td>-16.135868</td>\n",
       "      <td>-16.135868</td>\n",
       "      <td>-16.135868</td>\n",
       "      <td>-14.954687</td>\n",
       "      <td>-17.629198</td>\n",
       "      <td>-18.972010</td>\n",
       "    </tr>\n",
       "    <tr>\n",
       "      <th>PGM</th>\n",
       "      <td>-15.198485</td>\n",
       "      <td>-15.198485</td>\n",
       "      <td>-15.198485</td>\n",
       "      <td>-15.198485</td>\n",
       "      <td>-15.198485</td>\n",
       "      <td>-15.198485</td>\n",
       "      <td>-15.198485</td>\n",
       "      <td>-12.986516</td>\n",
       "      <td>-16.236465</td>\n",
       "      <td>-18.237138</td>\n",
       "    </tr>\n",
       "    <tr>\n",
       "      <th>SUCOAS</th>\n",
       "      <td>0.000000</td>\n",
       "      <td>0.000000</td>\n",
       "      <td>0.000000</td>\n",
       "      <td>0.000000</td>\n",
       "      <td>0.000000</td>\n",
       "      <td>0.000000</td>\n",
       "      <td>0.000000</td>\n",
       "      <td>0.000000</td>\n",
       "      <td>-6.911222</td>\n",
       "      <td>-13.316699</td>\n",
       "    </tr>\n",
       "    <tr>\n",
       "      <th>TALA</th>\n",
       "      <td>0.000000</td>\n",
       "      <td>0.000000</td>\n",
       "      <td>0.000000</td>\n",
       "      <td>0.000000</td>\n",
       "      <td>0.000000</td>\n",
       "      <td>0.000000</td>\n",
       "      <td>0.000000</td>\n",
       "      <td>-4.799438</td>\n",
       "      <td>-5.443296</td>\n",
       "      <td>-9.712246</td>\n",
       "    </tr>\n",
       "    <tr>\n",
       "      <th>ASPTA</th>\n",
       "      <td>-6.315865</td>\n",
       "      <td>-6.315865</td>\n",
       "      <td>-6.315865</td>\n",
       "      <td>-6.315865</td>\n",
       "      <td>-6.315865</td>\n",
       "      <td>-6.315865</td>\n",
       "      <td>-6.315865</td>\n",
       "      <td>-3.461099</td>\n",
       "      <td>-2.371884</td>\n",
       "      <td>-1.251518</td>\n",
       "    </tr>\n",
       "    <tr>\n",
       "      <th>ASAD</th>\n",
       "      <td>-3.745454</td>\n",
       "      <td>-3.745454</td>\n",
       "      <td>-3.745454</td>\n",
       "      <td>-3.745454</td>\n",
       "      <td>-3.745454</td>\n",
       "      <td>-3.745454</td>\n",
       "      <td>-3.745454</td>\n",
       "      <td>-1.264782</td>\n",
       "      <td>-0.866753</td>\n",
       "      <td>-0.457340</td>\n",
       "    </tr>\n",
       "    <tr>\n",
       "      <th>RPI</th>\n",
       "      <td>-1.555814</td>\n",
       "      <td>-1.555814</td>\n",
       "      <td>-1.555814</td>\n",
       "      <td>-1.555814</td>\n",
       "      <td>-1.555814</td>\n",
       "      <td>-1.555814</td>\n",
       "      <td>-1.555814</td>\n",
       "      <td>-3.072945</td>\n",
       "      <td>-1.019142</td>\n",
       "      <td>-0.314790</td>\n",
       "    </tr>\n",
       "    <tr>\n",
       "      <th>HSDy</th>\n",
       "      <td>-3.231849</td>\n",
       "      <td>-3.231849</td>\n",
       "      <td>-3.231849</td>\n",
       "      <td>-3.231849</td>\n",
       "      <td>-3.231849</td>\n",
       "      <td>-3.231849</td>\n",
       "      <td>-3.231849</td>\n",
       "      <td>-0.825927</td>\n",
       "      <td>-0.566006</td>\n",
       "      <td>-0.298652</td>\n",
       "    </tr>\n",
       "    <tr>\n",
       "      <th>PTAr</th>\n",
       "      <td>-20.276797</td>\n",
       "      <td>-20.276797</td>\n",
       "      <td>-20.276797</td>\n",
       "      <td>-20.276797</td>\n",
       "      <td>-20.276797</td>\n",
       "      <td>-20.276797</td>\n",
       "      <td>-20.276797</td>\n",
       "      <td>-0.688762</td>\n",
       "      <td>-0.472007</td>\n",
       "      <td>-0.249053</td>\n",
       "    </tr>\n",
       "    <tr>\n",
       "      <th>ALATA_L</th>\n",
       "      <td>-0.805604</td>\n",
       "      <td>-0.805604</td>\n",
       "      <td>-0.805604</td>\n",
       "      <td>-0.805604</td>\n",
       "      <td>-0.805604</td>\n",
       "      <td>-0.805604</td>\n",
       "      <td>-0.805604</td>\n",
       "      <td>-0.688357</td>\n",
       "      <td>-0.471730</td>\n",
       "      <td>-0.248907</td>\n",
       "    </tr>\n",
       "    <tr>\n",
       "      <th>IMPC</th>\n",
       "      <td>-0.751174</td>\n",
       "      <td>-0.751174</td>\n",
       "      <td>-0.751174</td>\n",
       "      <td>-0.751174</td>\n",
       "      <td>-0.751174</td>\n",
       "      <td>-0.751174</td>\n",
       "      <td>-0.751174</td>\n",
       "      <td>-0.641849</td>\n",
       "      <td>-0.439858</td>\n",
       "      <td>-0.232090</td>\n",
       "    </tr>\n",
       "    <tr>\n",
       "      <th>IPPMIa</th>\n",
       "      <td>-0.623792</td>\n",
       "      <td>-0.623792</td>\n",
       "      <td>-0.623792</td>\n",
       "      <td>-0.623792</td>\n",
       "      <td>-0.623792</td>\n",
       "      <td>-0.623792</td>\n",
       "      <td>-0.623792</td>\n",
       "      <td>-0.533006</td>\n",
       "      <td>-0.365268</td>\n",
       "      <td>-0.192733</td>\n",
       "    </tr>\n",
       "    <tr>\n",
       "      <th>IPPMIb</th>\n",
       "      <td>-0.623792</td>\n",
       "      <td>-0.623792</td>\n",
       "      <td>-0.623792</td>\n",
       "      <td>-0.623792</td>\n",
       "      <td>-0.623792</td>\n",
       "      <td>-0.623792</td>\n",
       "      <td>-0.623792</td>\n",
       "      <td>-0.533006</td>\n",
       "      <td>-0.365268</td>\n",
       "      <td>-0.192733</td>\n",
       "    </tr>\n",
       "    <tr>\n",
       "      <th>SDPTA</th>\n",
       "      <td>-0.513605</td>\n",
       "      <td>-0.513605</td>\n",
       "      <td>-0.513605</td>\n",
       "      <td>-0.513605</td>\n",
       "      <td>-0.513605</td>\n",
       "      <td>-0.513605</td>\n",
       "      <td>-0.513605</td>\n",
       "      <td>-0.438855</td>\n",
       "      <td>-0.300747</td>\n",
       "      <td>-0.158688</td>\n",
       "    </tr>\n",
       "    <tr>\n",
       "      <th>ACOAD2f</th>\n",
       "      <td>-0.492741</td>\n",
       "      <td>-0.492741</td>\n",
       "      <td>-0.492741</td>\n",
       "      <td>-0.492741</td>\n",
       "      <td>-0.492741</td>\n",
       "      <td>-0.492741</td>\n",
       "      <td>-0.492741</td>\n",
       "      <td>-0.421028</td>\n",
       "      <td>-0.288530</td>\n",
       "      <td>-0.152242</td>\n",
       "    </tr>\n",
       "    <tr>\n",
       "      <th>ACOAD3f</th>\n",
       "      <td>-0.492741</td>\n",
       "      <td>-0.492741</td>\n",
       "      <td>-0.492741</td>\n",
       "      <td>-0.492741</td>\n",
       "      <td>-0.492741</td>\n",
       "      <td>-0.492741</td>\n",
       "      <td>-0.492741</td>\n",
       "      <td>-0.421028</td>\n",
       "      <td>-0.288530</td>\n",
       "      <td>-0.152242</td>\n",
       "    </tr>\n",
       "    <tr>\n",
       "      <th>DHORTS</th>\n",
       "      <td>-0.458009</td>\n",
       "      <td>-0.458009</td>\n",
       "      <td>-0.458009</td>\n",
       "      <td>-0.458009</td>\n",
       "      <td>-0.458009</td>\n",
       "      <td>-0.458009</td>\n",
       "      <td>-0.458009</td>\n",
       "      <td>-0.391351</td>\n",
       "      <td>-0.268192</td>\n",
       "      <td>-0.141511</td>\n",
       "    </tr>\n",
       "  </tbody>\n",
       "</table>\n",
       "</div>"
      ],
      "text/plain": [
       "                   1            2            3            4            5   \\\n",
       "PItex    -1000.000000 -1000.000000 -1000.000000 -1000.000000 -1000.000000   \n",
       "Htex      -557.511894  -601.637178  -645.762463  -689.887747  -734.013032   \n",
       "ATPS4rpp  -142.030607  -153.061928  -164.093249  -175.124570  -186.155891   \n",
       "PRPPS     -455.250218  -411.124933  -366.999649  -322.874364  -278.749079   \n",
       "ADK3      -451.757341  -407.632056  -363.506772  -319.381487  -275.256203   \n",
       "NDPK1     -450.663511  -406.538227  -362.412942  -318.287658  -274.162373   \n",
       "CO2tpp      -3.188689    -3.188689    -3.188689    -3.188689    -3.188689   \n",
       "CO2tex      -3.188689    -3.188689    -3.188689    -3.188689    -3.188689   \n",
       "PGK        -16.135868   -16.135868   -16.135868   -16.135868   -16.135868   \n",
       "PGM        -15.198485   -15.198485   -15.198485   -15.198485   -15.198485   \n",
       "SUCOAS       0.000000     0.000000     0.000000     0.000000     0.000000   \n",
       "TALA         0.000000     0.000000     0.000000     0.000000     0.000000   \n",
       "ASPTA       -6.315865    -6.315865    -6.315865    -6.315865    -6.315865   \n",
       "ASAD        -3.745454    -3.745454    -3.745454    -3.745454    -3.745454   \n",
       "RPI         -1.555814    -1.555814    -1.555814    -1.555814    -1.555814   \n",
       "HSDy        -3.231849    -3.231849    -3.231849    -3.231849    -3.231849   \n",
       "PTAr       -20.276797   -20.276797   -20.276797   -20.276797   -20.276797   \n",
       "ALATA_L     -0.805604    -0.805604    -0.805604    -0.805604    -0.805604   \n",
       "IMPC        -0.751174    -0.751174    -0.751174    -0.751174    -0.751174   \n",
       "IPPMIa      -0.623792    -0.623792    -0.623792    -0.623792    -0.623792   \n",
       "IPPMIb      -0.623792    -0.623792    -0.623792    -0.623792    -0.623792   \n",
       "SDPTA       -0.513605    -0.513605    -0.513605    -0.513605    -0.513605   \n",
       "ACOAD2f     -0.492741    -0.492741    -0.492741    -0.492741    -0.492741   \n",
       "ACOAD3f     -0.492741    -0.492741    -0.492741    -0.492741    -0.492741   \n",
       "DHORTS      -0.458009    -0.458009    -0.458009    -0.458009    -0.458009   \n",
       "\n",
       "                   6            7            8            9            10  \n",
       "PItex    -1000.000000 -1000.000000 -1000.000000 -1000.000000 -1000.000000  \n",
       "Htex      -778.138317  -822.263601  -864.441074  -904.967539  -945.391078  \n",
       "ATPS4rpp  -197.187212  -208.218533  -186.289699  -144.535061  -101.293821  \n",
       "PRPPS     -234.623795  -190.498510  -146.464452  -102.505996   -58.552312  \n",
       "ADK3      -231.130918  -187.005634  -144.466796  -101.137007   -57.829968  \n",
       "NDPK1     -230.037088  -185.911804  -143.532161  -100.496503   -57.503566  \n",
       "CO2tpp      -3.188689    -3.188689   -11.456939   -26.733536   -42.447041  \n",
       "CO2tex      -3.188689    -3.188689   -11.456939   -26.733536   -42.447041  \n",
       "PGK        -16.135868   -16.135868   -14.954687   -17.629198   -18.972010  \n",
       "PGM        -15.198485   -15.198485   -12.986516   -16.236465   -18.237138  \n",
       "SUCOAS       0.000000     0.000000     0.000000    -6.911222   -13.316699  \n",
       "TALA         0.000000     0.000000    -4.799438    -5.443296    -9.712246  \n",
       "ASPTA       -6.315865    -6.315865    -3.461099    -2.371884    -1.251518  \n",
       "ASAD        -3.745454    -3.745454    -1.264782    -0.866753    -0.457340  \n",
       "RPI         -1.555814    -1.555814    -3.072945    -1.019142    -0.314790  \n",
       "HSDy        -3.231849    -3.231849    -0.825927    -0.566006    -0.298652  \n",
       "PTAr       -20.276797   -20.276797    -0.688762    -0.472007    -0.249053  \n",
       "ALATA_L     -0.805604    -0.805604    -0.688357    -0.471730    -0.248907  \n",
       "IMPC        -0.751174    -0.751174    -0.641849    -0.439858    -0.232090  \n",
       "IPPMIa      -0.623792    -0.623792    -0.533006    -0.365268    -0.192733  \n",
       "IPPMIb      -0.623792    -0.623792    -0.533006    -0.365268    -0.192733  \n",
       "SDPTA       -0.513605    -0.513605    -0.438855    -0.300747    -0.158688  \n",
       "ACOAD2f     -0.492741    -0.492741    -0.421028    -0.288530    -0.152242  \n",
       "ACOAD3f     -0.492741    -0.492741    -0.421028    -0.288530    -0.152242  \n",
       "DHORTS      -0.458009    -0.458009    -0.391351    -0.268192    -0.141511  "
      ]
     },
     "execution_count": 27,
     "metadata": {},
     "output_type": "execute_result"
    }
   ],
   "source": [
    "# Table with ordered negative flux reactions\n",
    "df = df.sort_values([10], ascending = True)\n",
    "df[:25]"
   ]
  },
  {
   "cell_type": "code",
   "execution_count": 30,
   "metadata": {},
   "outputs": [
    {
     "data": {
      "text/html": [
       "<div>\n",
       "<style scoped>\n",
       "    .dataframe tbody tr th:only-of-type {\n",
       "        vertical-align: middle;\n",
       "    }\n",
       "\n",
       "    .dataframe tbody tr th {\n",
       "        vertical-align: top;\n",
       "    }\n",
       "\n",
       "    .dataframe thead th {\n",
       "        text-align: right;\n",
       "    }\n",
       "</style>\n",
       "<table border=\"1\" class=\"dataframe\">\n",
       "  <thead>\n",
       "    <tr style=\"text-align: right;\">\n",
       "      <th></th>\n",
       "      <th>1</th>\n",
       "      <th>2</th>\n",
       "      <th>3</th>\n",
       "      <th>4</th>\n",
       "      <th>5</th>\n",
       "      <th>6</th>\n",
       "      <th>7</th>\n",
       "      <th>8</th>\n",
       "      <th>9</th>\n",
       "      <th>10</th>\n",
       "    </tr>\n",
       "  </thead>\n",
       "  <tbody>\n",
       "    <tr>\n",
       "      <th>PItpp</th>\n",
       "      <td>1000.000000</td>\n",
       "      <td>1000.000000</td>\n",
       "      <td>1000.000000</td>\n",
       "      <td>1000.000000</td>\n",
       "      <td>1000.000000</td>\n",
       "      <td>1000.000000</td>\n",
       "      <td>1000.000000</td>\n",
       "      <td>1000.000000</td>\n",
       "      <td>1000.000000</td>\n",
       "      <td>1000.000000</td>\n",
       "    </tr>\n",
       "    <tr>\n",
       "      <th>H2Otex</th>\n",
       "      <td>961.603136</td>\n",
       "      <td>961.603136</td>\n",
       "      <td>961.603136</td>\n",
       "      <td>961.603136</td>\n",
       "      <td>961.603136</td>\n",
       "      <td>961.603136</td>\n",
       "      <td>961.603136</td>\n",
       "      <td>958.459042</td>\n",
       "      <td>952.649945</td>\n",
       "      <td>946.674709</td>\n",
       "    </tr>\n",
       "    <tr>\n",
       "      <th>H2Otpp</th>\n",
       "      <td>961.218148</td>\n",
       "      <td>961.218148</td>\n",
       "      <td>961.218148</td>\n",
       "      <td>961.218148</td>\n",
       "      <td>961.218148</td>\n",
       "      <td>961.218148</td>\n",
       "      <td>961.218148</td>\n",
       "      <td>958.459042</td>\n",
       "      <td>952.649945</td>\n",
       "      <td>946.674709</td>\n",
       "    </tr>\n",
       "    <tr>\n",
       "      <th>BaPRS</th>\n",
       "      <td>500.667782</td>\n",
       "      <td>500.667782</td>\n",
       "      <td>500.667782</td>\n",
       "      <td>500.667782</td>\n",
       "      <td>500.667782</td>\n",
       "      <td>500.667782</td>\n",
       "      <td>500.667782</td>\n",
       "      <td>500.570594</td>\n",
       "      <td>500.391027</td>\n",
       "      <td>500.206324</td>\n",
       "    </tr>\n",
       "    <tr>\n",
       "      <th>PPA</th>\n",
       "      <td>50.126185</td>\n",
       "      <td>94.251470</td>\n",
       "      <td>138.376754</td>\n",
       "      <td>182.502039</td>\n",
       "      <td>226.627323</td>\n",
       "      <td>270.752608</td>\n",
       "      <td>314.877892</td>\n",
       "      <td>357.142604</td>\n",
       "      <td>399.965912</td>\n",
       "      <td>442.740790</td>\n",
       "    </tr>\n",
       "    <tr>\n",
       "      <th>NAMPT</th>\n",
       "      <td>44.128439</td>\n",
       "      <td>88.253723</td>\n",
       "      <td>132.379008</td>\n",
       "      <td>176.504292</td>\n",
       "      <td>220.629577</td>\n",
       "      <td>264.754861</td>\n",
       "      <td>308.880146</td>\n",
       "      <td>353.005430</td>\n",
       "      <td>397.130715</td>\n",
       "      <td>441.256000</td>\n",
       "    </tr>\n",
       "    <tr>\n",
       "      <th>NMNN</th>\n",
       "      <td>44.125285</td>\n",
       "      <td>88.250569</td>\n",
       "      <td>132.375854</td>\n",
       "      <td>176.501138</td>\n",
       "      <td>220.626423</td>\n",
       "      <td>264.751707</td>\n",
       "      <td>308.876992</td>\n",
       "      <td>353.002735</td>\n",
       "      <td>397.128868</td>\n",
       "      <td>441.255025</td>\n",
       "    </tr>\n",
       "    <tr>\n",
       "      <th>SUCDi</th>\n",
       "      <td>0.457873</td>\n",
       "      <td>0.457873</td>\n",
       "      <td>0.457873</td>\n",
       "      <td>0.457873</td>\n",
       "      <td>0.457873</td>\n",
       "      <td>0.457873</td>\n",
       "      <td>0.457873</td>\n",
       "      <td>17.856682</td>\n",
       "      <td>50.001385</td>\n",
       "      <td>83.065423</td>\n",
       "    </tr>\n",
       "    <tr>\n",
       "      <th>CYTBO3_4pp</th>\n",
       "      <td>0.000000</td>\n",
       "      <td>0.000000</td>\n",
       "      <td>0.000000</td>\n",
       "      <td>0.000000</td>\n",
       "      <td>0.000000</td>\n",
       "      <td>0.000000</td>\n",
       "      <td>0.000000</td>\n",
       "      <td>17.852064</td>\n",
       "      <td>49.998220</td>\n",
       "      <td>83.063753</td>\n",
       "    </tr>\n",
       "    <tr>\n",
       "      <th>FRD2</th>\n",
       "      <td>0.458009</td>\n",
       "      <td>0.458009</td>\n",
       "      <td>0.458009</td>\n",
       "      <td>0.458009</td>\n",
       "      <td>0.458009</td>\n",
       "      <td>0.458009</td>\n",
       "      <td>0.458009</td>\n",
       "      <td>17.856007</td>\n",
       "      <td>42.664091</td>\n",
       "      <td>69.523908</td>\n",
       "    </tr>\n",
       "    <tr>\n",
       "      <th>NADH17pp</th>\n",
       "      <td>0.000000</td>\n",
       "      <td>0.000000</td>\n",
       "      <td>0.000000</td>\n",
       "      <td>0.000000</td>\n",
       "      <td>0.000000</td>\n",
       "      <td>0.000000</td>\n",
       "      <td>0.000000</td>\n",
       "      <td>17.464656</td>\n",
       "      <td>42.395899</td>\n",
       "      <td>69.382397</td>\n",
       "    </tr>\n",
       "    <tr>\n",
       "      <th>O2tex</th>\n",
       "      <td>0.232411</td>\n",
       "      <td>0.232411</td>\n",
       "      <td>0.232411</td>\n",
       "      <td>0.232411</td>\n",
       "      <td>0.232411</td>\n",
       "      <td>0.232411</td>\n",
       "      <td>0.232411</td>\n",
       "      <td>8.930914</td>\n",
       "      <td>25.002456</td>\n",
       "      <td>41.533642</td>\n",
       "    </tr>\n",
       "    <tr>\n",
       "      <th>O2tpp</th>\n",
       "      <td>0.232411</td>\n",
       "      <td>0.232411</td>\n",
       "      <td>0.232411</td>\n",
       "      <td>0.232411</td>\n",
       "      <td>0.232411</td>\n",
       "      <td>0.232411</td>\n",
       "      <td>0.232411</td>\n",
       "      <td>8.930914</td>\n",
       "      <td>25.002456</td>\n",
       "      <td>41.533642</td>\n",
       "    </tr>\n",
       "    <tr>\n",
       "      <th>GAPD</th>\n",
       "      <td>16.135868</td>\n",
       "      <td>16.135868</td>\n",
       "      <td>16.135868</td>\n",
       "      <td>16.135868</td>\n",
       "      <td>16.135868</td>\n",
       "      <td>16.135868</td>\n",
       "      <td>16.135868</td>\n",
       "      <td>14.954687</td>\n",
       "      <td>17.629198</td>\n",
       "      <td>18.972010</td>\n",
       "    </tr>\n",
       "    <tr>\n",
       "      <th>ENO</th>\n",
       "      <td>15.198485</td>\n",
       "      <td>15.198485</td>\n",
       "      <td>15.198485</td>\n",
       "      <td>15.198485</td>\n",
       "      <td>15.198485</td>\n",
       "      <td>15.198485</td>\n",
       "      <td>15.198485</td>\n",
       "      <td>12.986516</td>\n",
       "      <td>16.236465</td>\n",
       "      <td>18.237138</td>\n",
       "    </tr>\n",
       "    <tr>\n",
       "      <th>PDH</th>\n",
       "      <td>3.140822</td>\n",
       "      <td>3.140822</td>\n",
       "      <td>3.140822</td>\n",
       "      <td>3.140822</td>\n",
       "      <td>3.140822</td>\n",
       "      <td>3.140822</td>\n",
       "      <td>3.140822</td>\n",
       "      <td>4.889475</td>\n",
       "      <td>10.775478</td>\n",
       "      <td>15.389972</td>\n",
       "    </tr>\n",
       "    <tr>\n",
       "      <th>ICDHyr</th>\n",
       "      <td>1.488679</td>\n",
       "      <td>1.488679</td>\n",
       "      <td>1.488679</td>\n",
       "      <td>1.488679</td>\n",
       "      <td>1.488679</td>\n",
       "      <td>1.488679</td>\n",
       "      <td>1.488679</td>\n",
       "      <td>1.272018</td>\n",
       "      <td>8.208542</td>\n",
       "      <td>14.001227</td>\n",
       "    </tr>\n",
       "    <tr>\n",
       "      <th>ACONTb</th>\n",
       "      <td>1.488679</td>\n",
       "      <td>1.488679</td>\n",
       "      <td>1.488679</td>\n",
       "      <td>1.488679</td>\n",
       "      <td>1.488679</td>\n",
       "      <td>1.488679</td>\n",
       "      <td>1.488679</td>\n",
       "      <td>1.272018</td>\n",
       "      <td>8.208542</td>\n",
       "      <td>14.001227</td>\n",
       "    </tr>\n",
       "    <tr>\n",
       "      <th>ACONTa</th>\n",
       "      <td>1.488679</td>\n",
       "      <td>1.488679</td>\n",
       "      <td>1.488679</td>\n",
       "      <td>1.488679</td>\n",
       "      <td>1.488679</td>\n",
       "      <td>1.488679</td>\n",
       "      <td>1.488679</td>\n",
       "      <td>1.272018</td>\n",
       "      <td>8.208542</td>\n",
       "      <td>14.001227</td>\n",
       "    </tr>\n",
       "    <tr>\n",
       "      <th>CS</th>\n",
       "      <td>1.488679</td>\n",
       "      <td>1.488679</td>\n",
       "      <td>1.488679</td>\n",
       "      <td>1.488679</td>\n",
       "      <td>1.488679</td>\n",
       "      <td>1.488679</td>\n",
       "      <td>1.488679</td>\n",
       "      <td>1.272018</td>\n",
       "      <td>8.208542</td>\n",
       "      <td>14.001227</td>\n",
       "    </tr>\n",
       "    <tr>\n",
       "      <th>MDH</th>\n",
       "      <td>0.000000</td>\n",
       "      <td>0.000000</td>\n",
       "      <td>0.000000</td>\n",
       "      <td>0.000000</td>\n",
       "      <td>0.000000</td>\n",
       "      <td>0.000000</td>\n",
       "      <td>0.000000</td>\n",
       "      <td>1.233687</td>\n",
       "      <td>8.182274</td>\n",
       "      <td>13.987367</td>\n",
       "    </tr>\n",
       "    <tr>\n",
       "      <th>FUM</th>\n",
       "      <td>1.443818</td>\n",
       "      <td>1.443818</td>\n",
       "      <td>1.443818</td>\n",
       "      <td>1.443818</td>\n",
       "      <td>1.443818</td>\n",
       "      <td>1.443818</td>\n",
       "      <td>1.443818</td>\n",
       "      <td>1.233687</td>\n",
       "      <td>8.182274</td>\n",
       "      <td>13.987367</td>\n",
       "    </tr>\n",
       "    <tr>\n",
       "      <th>AKGDH</th>\n",
       "      <td>0.000000</td>\n",
       "      <td>0.000000</td>\n",
       "      <td>0.000000</td>\n",
       "      <td>0.000000</td>\n",
       "      <td>0.000000</td>\n",
       "      <td>0.000000</td>\n",
       "      <td>0.000000</td>\n",
       "      <td>0.000000</td>\n",
       "      <td>7.336831</td>\n",
       "      <td>13.541271</td>\n",
       "    </tr>\n",
       "    <tr>\n",
       "      <th>GLCptspp</th>\n",
       "      <td>0.000000</td>\n",
       "      <td>0.000000</td>\n",
       "      <td>0.000000</td>\n",
       "      <td>0.000000</td>\n",
       "      <td>0.000000</td>\n",
       "      <td>0.000000</td>\n",
       "      <td>0.000000</td>\n",
       "      <td>8.506401</td>\n",
       "      <td>10.000000</td>\n",
       "      <td>10.000000</td>\n",
       "    </tr>\n",
       "    <tr>\n",
       "      <th>PFK_3</th>\n",
       "      <td>0.263534</td>\n",
       "      <td>0.263534</td>\n",
       "      <td>0.263534</td>\n",
       "      <td>0.263534</td>\n",
       "      <td>0.263534</td>\n",
       "      <td>0.263534</td>\n",
       "      <td>0.263534</td>\n",
       "      <td>6.768180</td>\n",
       "      <td>5.705730</td>\n",
       "      <td>9.627761</td>\n",
       "    </tr>\n",
       "  </tbody>\n",
       "</table>\n",
       "</div>"
      ],
      "text/plain": [
       "                     1            2            3            4            5   \\\n",
       "PItpp       1000.000000  1000.000000  1000.000000  1000.000000  1000.000000   \n",
       "H2Otex       961.603136   961.603136   961.603136   961.603136   961.603136   \n",
       "H2Otpp       961.218148   961.218148   961.218148   961.218148   961.218148   \n",
       "BaPRS        500.667782   500.667782   500.667782   500.667782   500.667782   \n",
       "PPA           50.126185    94.251470   138.376754   182.502039   226.627323   \n",
       "NAMPT         44.128439    88.253723   132.379008   176.504292   220.629577   \n",
       "NMNN          44.125285    88.250569   132.375854   176.501138   220.626423   \n",
       "SUCDi          0.457873     0.457873     0.457873     0.457873     0.457873   \n",
       "CYTBO3_4pp     0.000000     0.000000     0.000000     0.000000     0.000000   \n",
       "FRD2           0.458009     0.458009     0.458009     0.458009     0.458009   \n",
       "NADH17pp       0.000000     0.000000     0.000000     0.000000     0.000000   \n",
       "O2tex          0.232411     0.232411     0.232411     0.232411     0.232411   \n",
       "O2tpp          0.232411     0.232411     0.232411     0.232411     0.232411   \n",
       "GAPD          16.135868    16.135868    16.135868    16.135868    16.135868   \n",
       "ENO           15.198485    15.198485    15.198485    15.198485    15.198485   \n",
       "PDH            3.140822     3.140822     3.140822     3.140822     3.140822   \n",
       "ICDHyr         1.488679     1.488679     1.488679     1.488679     1.488679   \n",
       "ACONTb         1.488679     1.488679     1.488679     1.488679     1.488679   \n",
       "ACONTa         1.488679     1.488679     1.488679     1.488679     1.488679   \n",
       "CS             1.488679     1.488679     1.488679     1.488679     1.488679   \n",
       "MDH            0.000000     0.000000     0.000000     0.000000     0.000000   \n",
       "FUM            1.443818     1.443818     1.443818     1.443818     1.443818   \n",
       "AKGDH          0.000000     0.000000     0.000000     0.000000     0.000000   \n",
       "GLCptspp       0.000000     0.000000     0.000000     0.000000     0.000000   \n",
       "PFK_3          0.263534     0.263534     0.263534     0.263534     0.263534   \n",
       "\n",
       "                     6            7            8            9            10  \n",
       "PItpp       1000.000000  1000.000000  1000.000000  1000.000000  1000.000000  \n",
       "H2Otex       961.603136   961.603136   958.459042   952.649945   946.674709  \n",
       "H2Otpp       961.218148   961.218148   958.459042   952.649945   946.674709  \n",
       "BaPRS        500.667782   500.667782   500.570594   500.391027   500.206324  \n",
       "PPA          270.752608   314.877892   357.142604   399.965912   442.740790  \n",
       "NAMPT        264.754861   308.880146   353.005430   397.130715   441.256000  \n",
       "NMNN         264.751707   308.876992   353.002735   397.128868   441.255025  \n",
       "SUCDi          0.457873     0.457873    17.856682    50.001385    83.065423  \n",
       "CYTBO3_4pp     0.000000     0.000000    17.852064    49.998220    83.063753  \n",
       "FRD2           0.458009     0.458009    17.856007    42.664091    69.523908  \n",
       "NADH17pp       0.000000     0.000000    17.464656    42.395899    69.382397  \n",
       "O2tex          0.232411     0.232411     8.930914    25.002456    41.533642  \n",
       "O2tpp          0.232411     0.232411     8.930914    25.002456    41.533642  \n",
       "GAPD          16.135868    16.135868    14.954687    17.629198    18.972010  \n",
       "ENO           15.198485    15.198485    12.986516    16.236465    18.237138  \n",
       "PDH            3.140822     3.140822     4.889475    10.775478    15.389972  \n",
       "ICDHyr         1.488679     1.488679     1.272018     8.208542    14.001227  \n",
       "ACONTb         1.488679     1.488679     1.272018     8.208542    14.001227  \n",
       "ACONTa         1.488679     1.488679     1.272018     8.208542    14.001227  \n",
       "CS             1.488679     1.488679     1.272018     8.208542    14.001227  \n",
       "MDH            0.000000     0.000000     1.233687     8.182274    13.987367  \n",
       "FUM            1.443818     1.443818     1.233687     8.182274    13.987367  \n",
       "AKGDH          0.000000     0.000000     0.000000     7.336831    13.541271  \n",
       "GLCptspp       0.000000     0.000000     8.506401    10.000000    10.000000  \n",
       "PFK_3          0.263534     0.263534     6.768180     5.705730     9.627761  "
      ]
     },
     "execution_count": 30,
     "metadata": {},
     "output_type": "execute_result"
    }
   ],
   "source": [
    "# Table with ordered positive flux reactions\n",
    "df = df.sort_values([10], ascending = False)\n",
    "df[:25]"
   ]
  },
  {
   "cell_type": "code",
   "execution_count": 28,
   "metadata": {},
   "outputs": [],
   "source": [
    "from cameo.flux_analysis.analysis import phenotypic_phase_plane\n",
    "from cameo.strain_design.deterministic import DifferentialFVA"
   ]
  },
  {
   "cell_type": "code",
   "execution_count": 34,
   "metadata": {},
   "outputs": [
    {
     "name": "stderr",
     "output_type": "stream",
     "text": [
      "/Users/shengbaowang/opt/anaconda3/lib/python3.9/site-packages/cameo/flux_analysis/analysis.py:816: FutureWarning:\n",
      "\n",
      "The frame.append method is deprecated and will be removed from pandas in a future version. Use pandas.concat instead.\n",
      "\n",
      "/Users/shengbaowang/opt/anaconda3/lib/python3.9/site-packages/cameo/flux_analysis/analysis.py:816: FutureWarning:\n",
      "\n",
      "The frame.append method is deprecated and will be removed from pandas in a future version. Use pandas.concat instead.\n",
      "\n",
      "/Users/shengbaowang/opt/anaconda3/lib/python3.9/site-packages/cameo/flux_analysis/analysis.py:816: FutureWarning:\n",
      "\n",
      "The frame.append method is deprecated and will be removed from pandas in a future version. Use pandas.concat instead.\n",
      "\n",
      "/Users/shengbaowang/opt/anaconda3/lib/python3.9/site-packages/cameo/flux_analysis/analysis.py:816: FutureWarning:\n",
      "\n",
      "The frame.append method is deprecated and will be removed from pandas in a future version. Use pandas.concat instead.\n",
      "\n",
      "/Users/shengbaowang/opt/anaconda3/lib/python3.9/site-packages/cameo/flux_analysis/analysis.py:816: FutureWarning:\n",
      "\n",
      "The frame.append method is deprecated and will be removed from pandas in a future version. Use pandas.concat instead.\n",
      "\n",
      "/Users/shengbaowang/opt/anaconda3/lib/python3.9/site-packages/cameo/flux_analysis/analysis.py:816: FutureWarning:\n",
      "\n",
      "The frame.append method is deprecated and will be removed from pandas in a future version. Use pandas.concat instead.\n",
      "\n",
      "/Users/shengbaowang/opt/anaconda3/lib/python3.9/site-packages/cameo/flux_analysis/analysis.py:816: FutureWarning:\n",
      "\n",
      "The frame.append method is deprecated and will be removed from pandas in a future version. Use pandas.concat instead.\n",
      "\n",
      "/Users/shengbaowang/opt/anaconda3/lib/python3.9/site-packages/cameo/flux_analysis/analysis.py:816: FutureWarning:\n",
      "\n",
      "The frame.append method is deprecated and will be removed from pandas in a future version. Use pandas.concat instead.\n",
      "\n",
      "/Users/shengbaowang/opt/anaconda3/lib/python3.9/site-packages/cameo/flux_analysis/analysis.py:816: FutureWarning:\n",
      "\n",
      "The frame.append method is deprecated and will be removed from pandas in a future version. Use pandas.concat instead.\n",
      "\n",
      "/Users/shengbaowang/opt/anaconda3/lib/python3.9/site-packages/cameo/flux_analysis/analysis.py:816: FutureWarning:\n",
      "\n",
      "The frame.append method is deprecated and will be removed from pandas in a future version. Use pandas.concat instead.\n",
      "\n",
      "/Users/shengbaowang/opt/anaconda3/lib/python3.9/site-packages/cameo/flux_analysis/analysis.py:816: FutureWarning:\n",
      "\n",
      "The frame.append method is deprecated and will be removed from pandas in a future version. Use pandas.concat instead.\n",
      "\n",
      "/Users/shengbaowang/opt/anaconda3/lib/python3.9/site-packages/cameo/flux_analysis/analysis.py:816: FutureWarning:\n",
      "\n",
      "The frame.append method is deprecated and will be removed from pandas in a future version. Use pandas.concat instead.\n",
      "\n",
      "/Users/shengbaowang/opt/anaconda3/lib/python3.9/site-packages/cameo/flux_analysis/analysis.py:816: FutureWarning:\n",
      "\n",
      "The frame.append method is deprecated and will be removed from pandas in a future version. Use pandas.concat instead.\n",
      "\n",
      "/Users/shengbaowang/opt/anaconda3/lib/python3.9/site-packages/cameo/flux_analysis/analysis.py:816: FutureWarning:\n",
      "\n",
      "The frame.append method is deprecated and will be removed from pandas in a future version. Use pandas.concat instead.\n",
      "\n",
      "/Users/shengbaowang/opt/anaconda3/lib/python3.9/site-packages/cameo/flux_analysis/analysis.py:816: FutureWarning:\n",
      "\n",
      "The frame.append method is deprecated and will be removed from pandas in a future version. Use pandas.concat instead.\n",
      "\n",
      "/Users/shengbaowang/opt/anaconda3/lib/python3.9/site-packages/cameo/flux_analysis/analysis.py:816: FutureWarning:\n",
      "\n",
      "The frame.append method is deprecated and will be removed from pandas in a future version. Use pandas.concat instead.\n",
      "\n",
      "/Users/shengbaowang/opt/anaconda3/lib/python3.9/site-packages/cameo/flux_analysis/analysis.py:816: FutureWarning:\n",
      "\n",
      "The frame.append method is deprecated and will be removed from pandas in a future version. Use pandas.concat instead.\n",
      "\n",
      "/Users/shengbaowang/opt/anaconda3/lib/python3.9/site-packages/cameo/flux_analysis/analysis.py:816: FutureWarning:\n",
      "\n",
      "The frame.append method is deprecated and will be removed from pandas in a future version. Use pandas.concat instead.\n",
      "\n",
      "/Users/shengbaowang/opt/anaconda3/lib/python3.9/site-packages/cameo/flux_analysis/analysis.py:816: FutureWarning:\n",
      "\n",
      "The frame.append method is deprecated and will be removed from pandas in a future version. Use pandas.concat instead.\n",
      "\n",
      "/Users/shengbaowang/opt/anaconda3/lib/python3.9/site-packages/cameo/flux_analysis/analysis.py:816: FutureWarning:\n",
      "\n",
      "The frame.append method is deprecated and will be removed from pandas in a future version. Use pandas.concat instead.\n",
      "\n"
     ]
    },
    {
     "data": {
      "application/vnd.plotly.v1+json": {
       "config": {
        "linkText": "Export to plot.ly",
        "plotlyServerURL": "https://plot.ly",
        "showLink": false
       },
       "data": [
        {
         "fill": "toself",
         "fillcolor": "#B3E2CD",
         "hoverinfo": "none",
         "marker": {
          "line": {
           "color": "#B3E2CD"
          },
          "opacity": 0.3
         },
         "mode": "lines",
         "name": "WT",
         "opacity": 0.3,
         "type": "scatter",
         "x": [
          0,
          25.804444444444446,
          51.60888888888889,
          77.41333333333334,
          103.21777777777778,
          129.02222222222224,
          154.82666666666668,
          180.63111111111112,
          206.43555555555557,
          232.24,
          258.0444444444445,
          283.8488888888889,
          309.65333333333336,
          335.4577777777778,
          361.26222222222225,
          387.06666666666666,
          412.87111111111113,
          438.6755555555556,
          464.48,
          490.2844444444445,
          490.2844444444445,
          464.48,
          438.6755555555556,
          412.87111111111113,
          387.06666666666666,
          361.26222222222225,
          335.4577777777778,
          309.65333333333336,
          283.8488888888889,
          258.0444444444445,
          232.24,
          206.43555555555557,
          180.63111111111112,
          154.82666666666668,
          129.02222222222224,
          103.21777777777778,
          77.41333333333334,
          51.60888888888889,
          25.804444444444446,
          0,
          0,
          0
         ],
         "y": [
          0,
          0,
          0,
          0,
          0,
          0,
          0,
          0,
          0,
          0,
          0,
          0,
          0,
          0,
          0,
          0,
          0,
          0,
          0,
          0,
          1000,
          1000,
          1000,
          1000,
          1000,
          1000,
          1000,
          1000,
          1000,
          1000,
          1000,
          1000,
          1000,
          1000,
          1000,
          1000,
          1000,
          1000,
          1000,
          1000,
          0,
          1000
         ]
        }
       ],
       "layout": {
        "height": 400,
        "template": {
         "data": {
          "bar": [
           {
            "error_x": {
             "color": "#2a3f5f"
            },
            "error_y": {
             "color": "#2a3f5f"
            },
            "marker": {
             "line": {
              "color": "#E5ECF6",
              "width": 0.5
             },
             "pattern": {
              "fillmode": "overlay",
              "size": 10,
              "solidity": 0.2
             }
            },
            "type": "bar"
           }
          ],
          "barpolar": [
           {
            "marker": {
             "line": {
              "color": "#E5ECF6",
              "width": 0.5
             },
             "pattern": {
              "fillmode": "overlay",
              "size": 10,
              "solidity": 0.2
             }
            },
            "type": "barpolar"
           }
          ],
          "carpet": [
           {
            "aaxis": {
             "endlinecolor": "#2a3f5f",
             "gridcolor": "white",
             "linecolor": "white",
             "minorgridcolor": "white",
             "startlinecolor": "#2a3f5f"
            },
            "baxis": {
             "endlinecolor": "#2a3f5f",
             "gridcolor": "white",
             "linecolor": "white",
             "minorgridcolor": "white",
             "startlinecolor": "#2a3f5f"
            },
            "type": "carpet"
           }
          ],
          "choropleth": [
           {
            "colorbar": {
             "outlinewidth": 0,
             "ticks": ""
            },
            "type": "choropleth"
           }
          ],
          "contour": [
           {
            "colorbar": {
             "outlinewidth": 0,
             "ticks": ""
            },
            "colorscale": [
             [
              0,
              "#0d0887"
             ],
             [
              0.1111111111111111,
              "#46039f"
             ],
             [
              0.2222222222222222,
              "#7201a8"
             ],
             [
              0.3333333333333333,
              "#9c179e"
             ],
             [
              0.4444444444444444,
              "#bd3786"
             ],
             [
              0.5555555555555556,
              "#d8576b"
             ],
             [
              0.6666666666666666,
              "#ed7953"
             ],
             [
              0.7777777777777778,
              "#fb9f3a"
             ],
             [
              0.8888888888888888,
              "#fdca26"
             ],
             [
              1,
              "#f0f921"
             ]
            ],
            "type": "contour"
           }
          ],
          "contourcarpet": [
           {
            "colorbar": {
             "outlinewidth": 0,
             "ticks": ""
            },
            "type": "contourcarpet"
           }
          ],
          "heatmap": [
           {
            "colorbar": {
             "outlinewidth": 0,
             "ticks": ""
            },
            "colorscale": [
             [
              0,
              "#0d0887"
             ],
             [
              0.1111111111111111,
              "#46039f"
             ],
             [
              0.2222222222222222,
              "#7201a8"
             ],
             [
              0.3333333333333333,
              "#9c179e"
             ],
             [
              0.4444444444444444,
              "#bd3786"
             ],
             [
              0.5555555555555556,
              "#d8576b"
             ],
             [
              0.6666666666666666,
              "#ed7953"
             ],
             [
              0.7777777777777778,
              "#fb9f3a"
             ],
             [
              0.8888888888888888,
              "#fdca26"
             ],
             [
              1,
              "#f0f921"
             ]
            ],
            "type": "heatmap"
           }
          ],
          "heatmapgl": [
           {
            "colorbar": {
             "outlinewidth": 0,
             "ticks": ""
            },
            "colorscale": [
             [
              0,
              "#0d0887"
             ],
             [
              0.1111111111111111,
              "#46039f"
             ],
             [
              0.2222222222222222,
              "#7201a8"
             ],
             [
              0.3333333333333333,
              "#9c179e"
             ],
             [
              0.4444444444444444,
              "#bd3786"
             ],
             [
              0.5555555555555556,
              "#d8576b"
             ],
             [
              0.6666666666666666,
              "#ed7953"
             ],
             [
              0.7777777777777778,
              "#fb9f3a"
             ],
             [
              0.8888888888888888,
              "#fdca26"
             ],
             [
              1,
              "#f0f921"
             ]
            ],
            "type": "heatmapgl"
           }
          ],
          "histogram": [
           {
            "marker": {
             "pattern": {
              "fillmode": "overlay",
              "size": 10,
              "solidity": 0.2
             }
            },
            "type": "histogram"
           }
          ],
          "histogram2d": [
           {
            "colorbar": {
             "outlinewidth": 0,
             "ticks": ""
            },
            "colorscale": [
             [
              0,
              "#0d0887"
             ],
             [
              0.1111111111111111,
              "#46039f"
             ],
             [
              0.2222222222222222,
              "#7201a8"
             ],
             [
              0.3333333333333333,
              "#9c179e"
             ],
             [
              0.4444444444444444,
              "#bd3786"
             ],
             [
              0.5555555555555556,
              "#d8576b"
             ],
             [
              0.6666666666666666,
              "#ed7953"
             ],
             [
              0.7777777777777778,
              "#fb9f3a"
             ],
             [
              0.8888888888888888,
              "#fdca26"
             ],
             [
              1,
              "#f0f921"
             ]
            ],
            "type": "histogram2d"
           }
          ],
          "histogram2dcontour": [
           {
            "colorbar": {
             "outlinewidth": 0,
             "ticks": ""
            },
            "colorscale": [
             [
              0,
              "#0d0887"
             ],
             [
              0.1111111111111111,
              "#46039f"
             ],
             [
              0.2222222222222222,
              "#7201a8"
             ],
             [
              0.3333333333333333,
              "#9c179e"
             ],
             [
              0.4444444444444444,
              "#bd3786"
             ],
             [
              0.5555555555555556,
              "#d8576b"
             ],
             [
              0.6666666666666666,
              "#ed7953"
             ],
             [
              0.7777777777777778,
              "#fb9f3a"
             ],
             [
              0.8888888888888888,
              "#fdca26"
             ],
             [
              1,
              "#f0f921"
             ]
            ],
            "type": "histogram2dcontour"
           }
          ],
          "mesh3d": [
           {
            "colorbar": {
             "outlinewidth": 0,
             "ticks": ""
            },
            "type": "mesh3d"
           }
          ],
          "parcoords": [
           {
            "line": {
             "colorbar": {
              "outlinewidth": 0,
              "ticks": ""
             }
            },
            "type": "parcoords"
           }
          ],
          "pie": [
           {
            "automargin": true,
            "type": "pie"
           }
          ],
          "scatter": [
           {
            "marker": {
             "colorbar": {
              "outlinewidth": 0,
              "ticks": ""
             }
            },
            "type": "scatter"
           }
          ],
          "scatter3d": [
           {
            "line": {
             "colorbar": {
              "outlinewidth": 0,
              "ticks": ""
             }
            },
            "marker": {
             "colorbar": {
              "outlinewidth": 0,
              "ticks": ""
             }
            },
            "type": "scatter3d"
           }
          ],
          "scattercarpet": [
           {
            "marker": {
             "colorbar": {
              "outlinewidth": 0,
              "ticks": ""
             }
            },
            "type": "scattercarpet"
           }
          ],
          "scattergeo": [
           {
            "marker": {
             "colorbar": {
              "outlinewidth": 0,
              "ticks": ""
             }
            },
            "type": "scattergeo"
           }
          ],
          "scattergl": [
           {
            "marker": {
             "colorbar": {
              "outlinewidth": 0,
              "ticks": ""
             }
            },
            "type": "scattergl"
           }
          ],
          "scattermapbox": [
           {
            "marker": {
             "colorbar": {
              "outlinewidth": 0,
              "ticks": ""
             }
            },
            "type": "scattermapbox"
           }
          ],
          "scatterpolar": [
           {
            "marker": {
             "colorbar": {
              "outlinewidth": 0,
              "ticks": ""
             }
            },
            "type": "scatterpolar"
           }
          ],
          "scatterpolargl": [
           {
            "marker": {
             "colorbar": {
              "outlinewidth": 0,
              "ticks": ""
             }
            },
            "type": "scatterpolargl"
           }
          ],
          "scatterternary": [
           {
            "marker": {
             "colorbar": {
              "outlinewidth": 0,
              "ticks": ""
             }
            },
            "type": "scatterternary"
           }
          ],
          "surface": [
           {
            "colorbar": {
             "outlinewidth": 0,
             "ticks": ""
            },
            "colorscale": [
             [
              0,
              "#0d0887"
             ],
             [
              0.1111111111111111,
              "#46039f"
             ],
             [
              0.2222222222222222,
              "#7201a8"
             ],
             [
              0.3333333333333333,
              "#9c179e"
             ],
             [
              0.4444444444444444,
              "#bd3786"
             ],
             [
              0.5555555555555556,
              "#d8576b"
             ],
             [
              0.6666666666666666,
              "#ed7953"
             ],
             [
              0.7777777777777778,
              "#fb9f3a"
             ],
             [
              0.8888888888888888,
              "#fdca26"
             ],
             [
              1,
              "#f0f921"
             ]
            ],
            "type": "surface"
           }
          ],
          "table": [
           {
            "cells": {
             "fill": {
              "color": "#EBF0F8"
             },
             "line": {
              "color": "white"
             }
            },
            "header": {
             "fill": {
              "color": "#C8D4E3"
             },
             "line": {
              "color": "white"
             }
            },
            "type": "table"
           }
          ]
         },
         "layout": {
          "annotationdefaults": {
           "arrowcolor": "#2a3f5f",
           "arrowhead": 0,
           "arrowwidth": 1
          },
          "autotypenumbers": "strict",
          "coloraxis": {
           "colorbar": {
            "outlinewidth": 0,
            "ticks": ""
           }
          },
          "colorscale": {
           "diverging": [
            [
             0,
             "#8e0152"
            ],
            [
             0.1,
             "#c51b7d"
            ],
            [
             0.2,
             "#de77ae"
            ],
            [
             0.3,
             "#f1b6da"
            ],
            [
             0.4,
             "#fde0ef"
            ],
            [
             0.5,
             "#f7f7f7"
            ],
            [
             0.6,
             "#e6f5d0"
            ],
            [
             0.7,
             "#b8e186"
            ],
            [
             0.8,
             "#7fbc41"
            ],
            [
             0.9,
             "#4d9221"
            ],
            [
             1,
             "#276419"
            ]
           ],
           "sequential": [
            [
             0,
             "#0d0887"
            ],
            [
             0.1111111111111111,
             "#46039f"
            ],
            [
             0.2222222222222222,
             "#7201a8"
            ],
            [
             0.3333333333333333,
             "#9c179e"
            ],
            [
             0.4444444444444444,
             "#bd3786"
            ],
            [
             0.5555555555555556,
             "#d8576b"
            ],
            [
             0.6666666666666666,
             "#ed7953"
            ],
            [
             0.7777777777777778,
             "#fb9f3a"
            ],
            [
             0.8888888888888888,
             "#fdca26"
            ],
            [
             1,
             "#f0f921"
            ]
           ],
           "sequentialminus": [
            [
             0,
             "#0d0887"
            ],
            [
             0.1111111111111111,
             "#46039f"
            ],
            [
             0.2222222222222222,
             "#7201a8"
            ],
            [
             0.3333333333333333,
             "#9c179e"
            ],
            [
             0.4444444444444444,
             "#bd3786"
            ],
            [
             0.5555555555555556,
             "#d8576b"
            ],
            [
             0.6666666666666666,
             "#ed7953"
            ],
            [
             0.7777777777777778,
             "#fb9f3a"
            ],
            [
             0.8888888888888888,
             "#fdca26"
            ],
            [
             1,
             "#f0f921"
            ]
           ]
          },
          "colorway": [
           "#636efa",
           "#EF553B",
           "#00cc96",
           "#ab63fa",
           "#FFA15A",
           "#19d3f3",
           "#FF6692",
           "#B6E880",
           "#FF97FF",
           "#FECB52"
          ],
          "font": {
           "color": "#2a3f5f"
          },
          "geo": {
           "bgcolor": "white",
           "lakecolor": "white",
           "landcolor": "#E5ECF6",
           "showlakes": true,
           "showland": true,
           "subunitcolor": "white"
          },
          "hoverlabel": {
           "align": "left"
          },
          "hovermode": "closest",
          "mapbox": {
           "style": "light"
          },
          "paper_bgcolor": "white",
          "plot_bgcolor": "#E5ECF6",
          "polar": {
           "angularaxis": {
            "gridcolor": "white",
            "linecolor": "white",
            "ticks": ""
           },
           "bgcolor": "#E5ECF6",
           "radialaxis": {
            "gridcolor": "white",
            "linecolor": "white",
            "ticks": ""
           }
          },
          "scene": {
           "xaxis": {
            "backgroundcolor": "#E5ECF6",
            "gridcolor": "white",
            "gridwidth": 2,
            "linecolor": "white",
            "showbackground": true,
            "ticks": "",
            "zerolinecolor": "white"
           },
           "yaxis": {
            "backgroundcolor": "#E5ECF6",
            "gridcolor": "white",
            "gridwidth": 2,
            "linecolor": "white",
            "showbackground": true,
            "ticks": "",
            "zerolinecolor": "white"
           },
           "zaxis": {
            "backgroundcolor": "#E5ECF6",
            "gridcolor": "white",
            "gridwidth": 2,
            "linecolor": "white",
            "showbackground": true,
            "ticks": "",
            "zerolinecolor": "white"
           }
          },
          "shapedefaults": {
           "line": {
            "color": "#2a3f5f"
           }
          },
          "ternary": {
           "aaxis": {
            "gridcolor": "white",
            "linecolor": "white",
            "ticks": ""
           },
           "baxis": {
            "gridcolor": "white",
            "linecolor": "white",
            "ticks": ""
           },
           "bgcolor": "#E5ECF6",
           "caxis": {
            "gridcolor": "white",
            "linecolor": "white",
            "ticks": ""
           }
          },
          "title": {
           "x": 0.05
          },
          "xaxis": {
           "automargin": true,
           "gridcolor": "white",
           "linecolor": "white",
           "ticks": "",
           "title": {
            "standoff": 15
           },
           "zerolinecolor": "white",
           "zerolinewidth": 2
          },
          "yaxis": {
           "automargin": true,
           "gridcolor": "white",
           "linecolor": "white",
           "ticks": "",
           "title": {
            "standoff": 15
           },
           "zerolinecolor": "white",
           "zerolinewidth": 2
          }
         }
        },
        "title": {
         "text": "Phenotypic Phase Plane (flux)"
        },
        "width": 700,
        "xaxis": {
         "autorange": true,
         "range": [
          0,
          490.2844444444445
         ],
         "title": {
          "text": "NAMPT: ncam_c + prpp_c --> nmn_c + ppi_c [mmol gDW^-1 h^-1]"
         },
         "type": "linear"
        },
        "yaxis": {
         "autorange": true,
         "range": [
          -55.55555555555555,
          1055.5555555555557
         ],
         "title": {
          "text": "DM_ncam_c: ncam_c -->  [mmol gDW^-1 h^-1]"
         },
         "type": "linear"
        }
       }
      },
      "image/png": "[encoded data removed]",
      "text/html": [
       "<div>                            <div id=\"225e0c41-d687-45fe-baf4-63a672b27190\" class=\"plotly-graph-div\" style=\"height:400px; width:700px;\"></div>            <script type=\"text/javascript\">                require([\"plotly\"], function(Plotly) {                    window.PLOTLYENV=window.PLOTLYENV || {};                                    if (document.getElementById(\"225e0c41-d687-45fe-baf4-63a672b27190\")) {                    Plotly.newPlot(                        \"225e0c41-d687-45fe-baf4-63a672b27190\",                        [{\"fill\":\"toself\",\"fillcolor\":\"#B3E2CD\",\"hoverinfo\":\"none\",\"marker\":{\"line\":{\"color\":\"#B3E2CD\"},\"opacity\":0.3},\"mode\":\"lines\",\"name\":\"WT\",\"opacity\":0.3,\"x\":[0.0,25.804444444444446,51.60888888888889,77.41333333333334,103.21777777777778,129.02222222222224,154.82666666666668,180.63111111111112,206.43555555555557,232.24,258.0444444444445,283.8488888888889,309.65333333333336,335.4577777777778,361.26222222222225,387.06666666666666,412.87111111111113,438.6755555555556,464.48,490.2844444444445,490.2844444444445,464.48,438.6755555555556,412.87111111111113,387.06666666666666,361.26222222222225,335.4577777777778,309.65333333333336,283.8488888888889,258.0444444444445,232.24,206.43555555555557,180.63111111111112,154.82666666666668,129.02222222222224,103.21777777777778,77.41333333333334,51.60888888888889,25.804444444444446,0.0,0.0,0.0],\"y\":[0.0,0.0,0.0,0.0,0.0,0.0,0.0,0.0,0.0,0.0,0.0,0.0,0.0,0.0,0.0,0.0,0.0,0.0,0.0,0.0,1000.0,1000.0,1000.0,1000.0,1000.0,1000.0,1000.0,1000.0,1000.0,1000.0,1000.0,1000.0,1000.0,1000.0,1000.0,1000.0,1000.0,1000.0,1000.0,1000.0,0.0,1000.0],\"type\":\"scatter\"}],                        {\"height\":400,\"template\":{\"data\":{\"barpolar\":[{\"marker\":{\"line\":{\"color\":\"#E5ECF6\",\"width\":0.5},\"pattern\":{\"fillmode\":\"overlay\",\"size\":10,\"solidity\":0.2}},\"type\":\"barpolar\"}],\"bar\":[{\"error_x\":{\"color\":\"#2a3f5f\"},\"error_y\":{\"color\":\"#2a3f5f\"},\"marker\":{\"line\":{\"color\":\"#E5ECF6\",\"width\":0.5},\"pattern\":{\"fillmode\":\"overlay\",\"size\":10,\"solidity\":0.2}},\"type\":\"bar\"}],\"carpet\":[{\"aaxis\":{\"endlinecolor\":\"#2a3f5f\",\"gridcolor\":\"white\",\"linecolor\":\"white\",\"minorgridcolor\":\"white\",\"startlinecolor\":\"#2a3f5f\"},\"baxis\":{\"endlinecolor\":\"#2a3f5f\",\"gridcolor\":\"white\",\"linecolor\":\"white\",\"minorgridcolor\":\"white\",\"startlinecolor\":\"#2a3f5f\"},\"type\":\"carpet\"}],\"choropleth\":[{\"colorbar\":{\"outlinewidth\":0,\"ticks\":\"\"},\"type\":\"choropleth\"}],\"contourcarpet\":[{\"colorbar\":{\"outlinewidth\":0,\"ticks\":\"\"},\"type\":\"contourcarpet\"}],\"contour\":[{\"colorbar\":{\"outlinewidth\":0,\"ticks\":\"\"},\"colorscale\":[[0.0,\"#0d0887\"],[0.1111111111111111,\"#46039f\"],[0.2222222222222222,\"#7201a8\"],[0.3333333333333333,\"#9c179e\"],[0.4444444444444444,\"#bd3786\"],[0.5555555555555556,\"#d8576b\"],[0.6666666666666666,\"#ed7953\"],[0.7777777777777778,\"#fb9f3a\"],[0.8888888888888888,\"#fdca26\"],[1.0,\"#f0f921\"]],\"type\":\"contour\"}],\"heatmapgl\":[{\"colorbar\":{\"outlinewidth\":0,\"ticks\":\"\"},\"colorscale\":[[0.0,\"#0d0887\"],[0.1111111111111111,\"#46039f\"],[0.2222222222222222,\"#7201a8\"],[0.3333333333333333,\"#9c179e\"],[0.4444444444444444,\"#bd3786\"],[0.5555555555555556,\"#d8576b\"],[0.6666666666666666,\"#ed7953\"],[0.7777777777777778,\"#fb9f3a\"],[0.8888888888888888,\"#fdca26\"],[1.0,\"#f0f921\"]],\"type\":\"heatmapgl\"}],\"heatmap\":[{\"colorbar\":{\"outlinewidth\":0,\"ticks\":\"\"},\"colorscale\":[[0.0,\"#0d0887\"],[0.1111111111111111,\"#46039f\"],[0.2222222222222222,\"#7201a8\"],[0.3333333333333333,\"#9c179e\"],[0.4444444444444444,\"#bd3786\"],[0.5555555555555556,\"#d8576b\"],[0.6666666666666666,\"#ed7953\"],[0.7777777777777778,\"#fb9f3a\"],[0.8888888888888888,\"#fdca26\"],[1.0,\"#f0f921\"]],\"type\":\"heatmap\"}],\"histogram2dcontour\":[{\"colorbar\":{\"outlinewidth\":0,\"ticks\":\"\"},\"colorscale\":[[0.0,\"#0d0887\"],[0.1111111111111111,\"#46039f\"],[0.2222222222222222,\"#7201a8\"],[0.3333333333333333,\"#9c179e\"],[0.4444444444444444,\"#bd3786\"],[0.5555555555555556,\"#d8576b\"],[0.6666666666666666,\"#ed7953\"],[0.7777777777777778,\"#fb9f3a\"],[0.8888888888888888,\"#fdca26\"],[1.0,\"#f0f921\"]],\"type\":\"histogram2dcontour\"}],\"histogram2d\":[{\"colorbar\":{\"outlinewidth\":0,\"ticks\":\"\"},\"colorscale\":[[0.0,\"#0d0887\"],[0.1111111111111111,\"#46039f\"],[0.2222222222222222,\"#7201a8\"],[0.3333333333333333,\"#9c179e\"],[0.4444444444444444,\"#bd3786\"],[0.5555555555555556,\"#d8576b\"],[0.6666666666666666,\"#ed7953\"],[0.7777777777777778,\"#fb9f3a\"],[0.8888888888888888,\"#fdca26\"],[1.0,\"#f0f921\"]],\"type\":\"histogram2d\"}],\"histogram\":[{\"marker\":{\"pattern\":{\"fillmode\":\"overlay\",\"size\":10,\"solidity\":0.2}},\"type\":\"histogram\"}],\"mesh3d\":[{\"colorbar\":{\"outlinewidth\":0,\"ticks\":\"\"},\"type\":\"mesh3d\"}],\"parcoords\":[{\"line\":{\"colorbar\":{\"outlinewidth\":0,\"ticks\":\"\"}},\"type\":\"parcoords\"}],\"pie\":[{\"automargin\":true,\"type\":\"pie\"}],\"scatter3d\":[{\"line\":{\"colorbar\":{\"outlinewidth\":0,\"ticks\":\"\"}},\"marker\":{\"colorbar\":{\"outlinewidth\":0,\"ticks\":\"\"}},\"type\":\"scatter3d\"}],\"scattercarpet\":[{\"marker\":{\"colorbar\":{\"outlinewidth\":0,\"ticks\":\"\"}},\"type\":\"scattercarpet\"}],\"scattergeo\":[{\"marker\":{\"colorbar\":{\"outlinewidth\":0,\"ticks\":\"\"}},\"type\":\"scattergeo\"}],\"scattergl\":[{\"marker\":{\"colorbar\":{\"outlinewidth\":0,\"ticks\":\"\"}},\"type\":\"scattergl\"}],\"scattermapbox\":[{\"marker\":{\"colorbar\":{\"outlinewidth\":0,\"ticks\":\"\"}},\"type\":\"scattermapbox\"}],\"scatterpolargl\":[{\"marker\":{\"colorbar\":{\"outlinewidth\":0,\"ticks\":\"\"}},\"type\":\"scatterpolargl\"}],\"scatterpolar\":[{\"marker\":{\"colorbar\":{\"outlinewidth\":0,\"ticks\":\"\"}},\"type\":\"scatterpolar\"}],\"scatter\":[{\"marker\":{\"colorbar\":{\"outlinewidth\":0,\"ticks\":\"\"}},\"type\":\"scatter\"}],\"scatterternary\":[{\"marker\":{\"colorbar\":{\"outlinewidth\":0,\"ticks\":\"\"}},\"type\":\"scatterternary\"}],\"surface\":[{\"colorbar\":{\"outlinewidth\":0,\"ticks\":\"\"},\"colorscale\":[[0.0,\"#0d0887\"],[0.1111111111111111,\"#46039f\"],[0.2222222222222222,\"#7201a8\"],[0.3333333333333333,\"#9c179e\"],[0.4444444444444444,\"#bd3786\"],[0.5555555555555556,\"#d8576b\"],[0.6666666666666666,\"#ed7953\"],[0.7777777777777778,\"#fb9f3a\"],[0.8888888888888888,\"#fdca26\"],[1.0,\"#f0f921\"]],\"type\":\"surface\"}],\"table\":[{\"cells\":{\"fill\":{\"color\":\"#EBF0F8\"},\"line\":{\"color\":\"white\"}},\"header\":{\"fill\":{\"color\":\"#C8D4E3\"},\"line\":{\"color\":\"white\"}},\"type\":\"table\"}]},\"layout\":{\"annotationdefaults\":{\"arrowcolor\":\"#2a3f5f\",\"arrowhead\":0,\"arrowwidth\":1},\"autotypenumbers\":\"strict\",\"coloraxis\":{\"colorbar\":{\"outlinewidth\":0,\"ticks\":\"\"}},\"colorscale\":{\"diverging\":[[0,\"#8e0152\"],[0.1,\"#c51b7d\"],[0.2,\"#de77ae\"],[0.3,\"#f1b6da\"],[0.4,\"#fde0ef\"],[0.5,\"#f7f7f7\"],[0.6,\"#e6f5d0\"],[0.7,\"#b8e186\"],[0.8,\"#7fbc41\"],[0.9,\"#4d9221\"],[1,\"#276419\"]],\"sequential\":[[0.0,\"#0d0887\"],[0.1111111111111111,\"#46039f\"],[0.2222222222222222,\"#7201a8\"],[0.3333333333333333,\"#9c179e\"],[0.4444444444444444,\"#bd3786\"],[0.5555555555555556,\"#d8576b\"],[0.6666666666666666,\"#ed7953\"],[0.7777777777777778,\"#fb9f3a\"],[0.8888888888888888,\"#fdca26\"],[1.0,\"#f0f921\"]],\"sequentialminus\":[[0.0,\"#0d0887\"],[0.1111111111111111,\"#46039f\"],[0.2222222222222222,\"#7201a8\"],[0.3333333333333333,\"#9c179e\"],[0.4444444444444444,\"#bd3786\"],[0.5555555555555556,\"#d8576b\"],[0.6666666666666666,\"#ed7953\"],[0.7777777777777778,\"#fb9f3a\"],[0.8888888888888888,\"#fdca26\"],[1.0,\"#f0f921\"]]},\"colorway\":[\"#636efa\",\"#EF553B\",\"#00cc96\",\"#ab63fa\",\"#FFA15A\",\"#19d3f3\",\"#FF6692\",\"#B6E880\",\"#FF97FF\",\"#FECB52\"],\"font\":{\"color\":\"#2a3f5f\"},\"geo\":{\"bgcolor\":\"white\",\"lakecolor\":\"white\",\"landcolor\":\"#E5ECF6\",\"showlakes\":true,\"showland\":true,\"subunitcolor\":\"white\"},\"hoverlabel\":{\"align\":\"left\"},\"hovermode\":\"closest\",\"mapbox\":{\"style\":\"light\"},\"paper_bgcolor\":\"white\",\"plot_bgcolor\":\"#E5ECF6\",\"polar\":{\"angularaxis\":{\"gridcolor\":\"white\",\"linecolor\":\"white\",\"ticks\":\"\"},\"bgcolor\":\"#E5ECF6\",\"radialaxis\":{\"gridcolor\":\"white\",\"linecolor\":\"white\",\"ticks\":\"\"}},\"scene\":{\"xaxis\":{\"backgroundcolor\":\"#E5ECF6\",\"gridcolor\":\"white\",\"gridwidth\":2,\"linecolor\":\"white\",\"showbackground\":true,\"ticks\":\"\",\"zerolinecolor\":\"white\"},\"yaxis\":{\"backgroundcolor\":\"#E5ECF6\",\"gridcolor\":\"white\",\"gridwidth\":2,\"linecolor\":\"white\",\"showbackground\":true,\"ticks\":\"\",\"zerolinecolor\":\"white\"},\"zaxis\":{\"backgroundcolor\":\"#E5ECF6\",\"gridcolor\":\"white\",\"gridwidth\":2,\"linecolor\":\"white\",\"showbackground\":true,\"ticks\":\"\",\"zerolinecolor\":\"white\"}},\"shapedefaults\":{\"line\":{\"color\":\"#2a3f5f\"}},\"ternary\":{\"aaxis\":{\"gridcolor\":\"white\",\"linecolor\":\"white\",\"ticks\":\"\"},\"baxis\":{\"gridcolor\":\"white\",\"linecolor\":\"white\",\"ticks\":\"\"},\"bgcolor\":\"#E5ECF6\",\"caxis\":{\"gridcolor\":\"white\",\"linecolor\":\"white\",\"ticks\":\"\"}},\"title\":{\"x\":0.05},\"xaxis\":{\"automargin\":true,\"gridcolor\":\"white\",\"linecolor\":\"white\",\"ticks\":\"\",\"title\":{\"standoff\":15},\"zerolinecolor\":\"white\",\"zerolinewidth\":2},\"yaxis\":{\"automargin\":true,\"gridcolor\":\"white\",\"linecolor\":\"white\",\"ticks\":\"\",\"title\":{\"standoff\":15},\"zerolinecolor\":\"white\",\"zerolinewidth\":2}}},\"title\":{\"text\":\"Phenotypic Phase Plane (flux)\"},\"width\":700,\"xaxis\":{\"title\":{\"text\":\"NAMPT: ncam_c + prpp_c --> nmn_c + ppi_c [mmol gDW^-1 h^-1]\"}},\"yaxis\":{\"title\":{\"text\":\"DM_ncam_c: ncam_c -->  [mmol gDW^-1 h^-1]\"}}},                        {\"responsive\": true}                    ).then(function(){\n",
       "                            \n",
       "var gd = document.getElementById('225e0c41-d687-45fe-baf4-63a672b27190');\n",
       "var x = new MutationObserver(function (mutations, observer) {{\n",
       "        var display = window.getComputedStyle(gd).display;\n",
       "        if (!display || display === 'none') {{\n",
       "            console.log([gd, 'removed!']);\n",
       "            Plotly.purge(gd);\n",
       "            observer.disconnect();\n",
       "        }}\n",
       "}});\n",
       "\n",
       "// Listen for the removal of the full notebook cells\n",
       "var notebookContainer = gd.closest('#notebook-container');\n",
       "if (notebookContainer) {{\n",
       "    x.observe(notebookContainer, {childList: true});\n",
       "}}\n",
       "\n",
       "// Listen for the clearing of the current output cell\n",
       "var outputEl = gd.closest('.output');\n",
       "if (outputEl) {{\n",
       "    x.observe(outputEl, {childList: true});\n",
       "}}\n",
       "\n",
       "                        })                };                });            </script>        </div>"
      ]
     },
     "metadata": {},
     "output_type": "display_data"
    }
   ],
   "source": [
    "production_envelope = phenotypic_phase_plane(nam_model,\n",
    "                                             variables=[nam_model.reactions.NAMPT],\n",
    "                                             objective=nam_model.metabolites.ncam_c)\n",
    "production_envelope.plot(plotter, height=400)"
   ]
  },
  {
   "cell_type": "code",
   "execution_count": null,
   "metadata": {},
   "outputs": [],
   "source": []
  }
 ],
 "metadata": {
  "kernelspec": {
   "display_name": "Python 3 (ipykernel)",
   "language": "python",
   "name": "python3"
  },
  "language_info": {
   "codemirror_mode": {
    "name": "ipython",
    "version": 3
   },
   "file_extension": ".py",
   "mimetype": "text/x-python",
   "name": "python",
   "nbconvert_exporter": "python",
   "pygments_lexer": "ipython3",
   "version": "3.9.12"
  }
 },
 "nbformat": 4,
 "nbformat_minor": 4
}
