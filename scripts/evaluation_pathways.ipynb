{
 "cells": [
  {
   "cell_type": "markdown",
   "metadata": {},
   "source": [
    "# Pathway Evaluation\n",
    "The goal is to analyse the behaviour of the different pathway when they are fed with the chosen substrate Methanol. They are judged by their maximum production and the maximum MA flux in relation to the biomass growth rate."
   ]
  },
  {
   "cell_type": "code",
   "execution_count": 1,
   "metadata": {
    "tags": []
   },
   "outputs": [
    {
     "data": {
      "text/plain": [
       "'done'"
      ]
     },
     "execution_count": 1,
     "metadata": {},
     "output_type": "execute_result"
    }
   ],
   "source": [
    "# Importing used packages and model\n",
    "from cobra.io import read_sbml_model\n",
    "from cobra import Reaction, Metabolite\n",
    "import pandas as pd\n",
    "import matplotlib.pyplot as plt\n",
    "model = read_sbml_model('iML1515.xml')\n",
    "%run -i create_pathway.ipynb\n",
    "# flux unit is mmol / [gDW h]\n",
    "'done'"
   ]
  },
  {
   "cell_type": "code",
   "execution_count": 2,
   "metadata": {},
   "outputs": [
    {
     "data": {
      "text/plain": [
       "'done'"
      ]
     },
     "execution_count": 2,
     "metadata": {},
     "output_type": "execute_result"
    }
   ],
   "source": [
    "#Defining media\n",
    "model.add_boundary(model.metabolites.get_by_id(\"ncam_e\"), type=\"exchange\")\n",
    "model.add_boundary(model.metabolites.get_by_id(\"nr_e\"), type=\"exchange\")\n",
    "model.add_boundary(model.metabolites.get_by_id(\"na_e\"), type=\"exchange\")\n",
    "\n",
    "#And NMN secretion\n",
    "\n",
    "'done'"
   ]
  },
  {
   "cell_type": "code",
   "execution_count": 3,
   "metadata": {},
   "outputs": [
    {
     "name": "stdout",
     "output_type": "stream",
     "text": [
      "Table 2: Medium composition\n"
     ]
    },
    {
     "data": {
      "text/html": [
       "<div>\n",
       "<style scoped>\n",
       "    .dataframe tbody tr th:only-of-type {\n",
       "        vertical-align: middle;\n",
       "    }\n",
       "\n",
       "    .dataframe tbody tr th {\n",
       "        vertical-align: top;\n",
       "    }\n",
       "\n",
       "    .dataframe thead th {\n",
       "        text-align: right;\n",
       "    }\n",
       "</style>\n",
       "<table border=\"1\" class=\"dataframe\">\n",
       "  <thead>\n",
       "    <tr style=\"text-align: right;\">\n",
       "      <th></th>\n",
       "      <th>EX_pi_e</th>\n",
       "      <th>EX_co2_e</th>\n",
       "      <th>EX_fe3_e</th>\n",
       "      <th>EX_h_e</th>\n",
       "      <th>EX_mn2_e</th>\n",
       "      <th>EX_fe2_e</th>\n",
       "      <th>EX_glc__D_e</th>\n",
       "      <th>EX_zn2_e</th>\n",
       "      <th>EX_mg2_e</th>\n",
       "      <th>EX_ca2_e</th>\n",
       "      <th>...</th>\n",
       "      <th>EX_nh4_e</th>\n",
       "      <th>EX_k_e</th>\n",
       "      <th>EX_na1_e</th>\n",
       "      <th>EX_cl_e</th>\n",
       "      <th>EX_o2_e</th>\n",
       "      <th>EX_tungs_e</th>\n",
       "      <th>EX_slnt_e</th>\n",
       "      <th>EX_ncam_e</th>\n",
       "      <th>EX_nr_e</th>\n",
       "      <th>EX_na_e</th>\n",
       "    </tr>\n",
       "  </thead>\n",
       "  <tbody>\n",
       "    <tr>\n",
       "      <th>name</th>\n",
       "      <td>Phosphate</td>\n",
       "      <td>CO2 CO2</td>\n",
       "      <td>Iron (Fe3+)</td>\n",
       "      <td>H+</td>\n",
       "      <td>Manganese</td>\n",
       "      <td>Fe2+ mitochondria</td>\n",
       "      <td>D-Glucose</td>\n",
       "      <td>Zinc</td>\n",
       "      <td>Magnesium</td>\n",
       "      <td>Calcium</td>\n",
       "      <td>...</td>\n",
       "      <td>Ammonium</td>\n",
       "      <td>Potassium</td>\n",
       "      <td>Sodium</td>\n",
       "      <td>Chloride</td>\n",
       "      <td>O2 O2</td>\n",
       "      <td>Tungstate</td>\n",
       "      <td>Selenite</td>\n",
       "      <td>nicotineamide</td>\n",
       "      <td>nicotineamide riboside</td>\n",
       "      <td>Nicotinic acid</td>\n",
       "    </tr>\n",
       "    <tr>\n",
       "      <th>uptake</th>\n",
       "      <td>1000.0</td>\n",
       "      <td>1000.0</td>\n",
       "      <td>1000.0</td>\n",
       "      <td>1000.0</td>\n",
       "      <td>1000.0</td>\n",
       "      <td>1000.0</td>\n",
       "      <td>10.0</td>\n",
       "      <td>1000.0</td>\n",
       "      <td>1000.0</td>\n",
       "      <td>1000.0</td>\n",
       "      <td>...</td>\n",
       "      <td>1000.0</td>\n",
       "      <td>1000.0</td>\n",
       "      <td>1000.0</td>\n",
       "      <td>1000.0</td>\n",
       "      <td>1000.0</td>\n",
       "      <td>1000.0</td>\n",
       "      <td>1000.0</td>\n",
       "      <td>1000</td>\n",
       "      <td>1000</td>\n",
       "      <td>1000</td>\n",
       "    </tr>\n",
       "  </tbody>\n",
       "</table>\n",
       "<p>2 rows × 27 columns</p>\n",
       "</div>"
      ],
      "text/plain": [
       "          EX_pi_e EX_co2_e     EX_fe3_e  EX_h_e   EX_mn2_e           EX_fe2_e  \\\n",
       "name    Phosphate  CO2 CO2  Iron (Fe3+)      H+  Manganese  Fe2+ mitochondria   \n",
       "uptake     1000.0   1000.0       1000.0  1000.0     1000.0             1000.0   \n",
       "\n",
       "       EX_glc__D_e EX_zn2_e   EX_mg2_e EX_ca2_e  ...  EX_nh4_e     EX_k_e  \\\n",
       "name     D-Glucose     Zinc  Magnesium  Calcium  ...  Ammonium  Potassium   \n",
       "uptake        10.0   1000.0     1000.0   1000.0  ...    1000.0     1000.0   \n",
       "\n",
       "       EX_na1_e   EX_cl_e EX_o2_e EX_tungs_e EX_slnt_e      EX_ncam_e  \\\n",
       "name     Sodium  Chloride   O2 O2  Tungstate  Selenite  nicotineamide   \n",
       "uptake   1000.0    1000.0  1000.0     1000.0    1000.0           1000   \n",
       "\n",
       "                       EX_nr_e         EX_na_e  \n",
       "name    nicotineamide riboside  Nicotinic acid  \n",
       "uptake                    1000            1000  \n",
       "\n",
       "[2 rows x 27 columns]"
      ]
     },
     "metadata": {},
     "output_type": "display_data"
    }
   ],
   "source": [
    "#Choosing uptake rates\n",
    "medium=model.medium\n",
    "medium['EX_ncam_e'] = 1000\n",
    "medium['EX_nr_e'] = 1000\n",
    "medium[\"EX_na_e\"] = 1000\n",
    "print('Table 2: Medium composition')\n",
    "# create a data frame to plot a table\n",
    "med_names = dict()\n",
    "for flux in medium:\n",
    "    meta = model.reactions.get_by_id(flux).metabolites\n",
    "    for element in meta:\n",
    "        med_names[flux] = element.name\n",
    "df_med = pd.DataFrame(medium, index=['uptake'])\n",
    "df_names = pd.DataFrame(med_names, index=['name'])\n",
    "display(pd.concat([df_names,df_med]))"
   ]
  },
  {
   "cell_type": "code",
   "execution_count": 4,
   "metadata": {
    "tags": []
   },
   "outputs": [
    {
     "data": {
      "text/plain": [
       "'done'"
      ]
     },
     "execution_count": 4,
     "metadata": {},
     "output_type": "execute_result"
    }
   ],
   "source": [
    "# creating the models with the respective pathways\n",
    "\n",
    "# path_selector legend\n",
    "# 0 -> no additional reactions\n",
    "#1 -> nicotinamid pathway  \n",
    "#2 -> nicotinic acid pathway  \n",
    "#3 -> nicotinamid riboside pathway\n",
    "\n",
    "nam_model = create_pathway(model.copy(),1)\n",
    "na_model = create_pathway(model.copy(),2)\n",
    "nr_model = create_pathway(model.copy(),3)\n",
    "models = [model, (nam_model,'NAMPT'),(na_model,'NMN Synthetase'),(nr_model,'DeoD')]\n",
    "'done'"
   ]
  },
  {
   "cell_type": "code",
   "execution_count": 8,
   "metadata": {},
   "outputs": [
    {
     "name": "stdout",
     "output_type": "stream",
     "text": [
      "0.2988826661275632\n",
      "0.0\n"
     ]
    },
    {
     "name": "stderr",
     "output_type": "stream",
     "text": [
      "C:\\Users\\Aljosha\\anaconda3\\lib\\site-packages\\cobra\\util\\solver.py:554: UserWarning: Solver status is 'infeasible'.\n",
      "  warn(f\"Solver status is '{status}'.\", UserWarning)\n"
     ]
    }
   ],
   "source": [
    "with nam_model:\n",
    "    nam_model.reactions.BIOMASS_Ec_iML1515_WT_75p37M.lower_bound=0.2\n",
    "    nam_model.obective=nam_model.reactions.BMpnuC\n",
    "    print(nam_model.optimize().objective_value)\n",
    "    print(model.optimize().fluxes['BIOMASS_Ec_iML1515_WT_75p37M'])\n"
   ]
  },
  {
   "cell_type": "code",
   "execution_count": null,
   "metadata": {},
   "outputs": [],
   "source": []
  },
  {
   "cell_type": "code",
   "execution_count": null,
   "metadata": {},
   "outputs": [],
   "source": []
  },
  {
   "cell_type": "markdown",
   "metadata": {},
   "source": [
    "## Simulating pathways and visualizing results\n",
    "The pathways are one by one simulated with the set medium flux. They are analyzed for maximum NMN production in relation to the biomass growth. The phenotypic phase planes show the relation of the carbon yield for malonic acid on methanol as a function of the growth rate."
   ]
  },
  {
   "cell_type": "code",
   "execution_count": null,
   "metadata": {},
   "outputs": [],
   "source": []
  },
  {
   "cell_type": "markdown",
   "metadata": {},
   "source": [
    "### Discussion"
   ]
  },
  {
   "cell_type": "markdown",
   "metadata": {},
   "source": [
    "# Evaluating optimal O2 uptake"
   ]
  },
  {
   "cell_type": "code",
   "execution_count": null,
   "metadata": {},
   "outputs": [],
   "source": []
  }
 ],
 "metadata": {
  "kernelspec": {
   "display_name": "Python 3 (ipykernel)",
   "language": "python",
   "name": "python3"
  },
  "language_info": {
   "codemirror_mode": {
    "name": "ipython",
    "version": 3
   },
   "file_extension": ".py",
   "mimetype": "text/x-python",
   "name": "python",
   "nbconvert_exporter": "python",
   "pygments_lexer": "ipython3",
   "version": "3.9.12"
  }
 },
 "nbformat": 4,
 "nbformat_minor": 4
}
