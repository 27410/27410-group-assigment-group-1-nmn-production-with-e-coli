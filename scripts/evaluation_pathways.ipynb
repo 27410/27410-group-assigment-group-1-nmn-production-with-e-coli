{
 "cells": [
  {
   "cell_type": "markdown",
   "metadata": {},
   "source": [
    "# Pathway Evaluation\n",
    "The goal is to analyse the behaviour of the different pathway when they are fed with the chosen substrate Methanol. They are judged by their maximum production and the maximum MA flux in relation to the biomass growth rate."
   ]
  },
  {
   "cell_type": "code",
   "execution_count": 10,
   "metadata": {
    "tags": []
   },
   "outputs": [],
   "source": [
    "# Importing used packages and model\n",
    "from cobra.io import read_sbml_model\n",
    "from cobra import Reaction, Metabolite\n",
    "import pandas as pd\n",
    "import matplotlib.pyplot as plt\n",
    "model = read_sbml_model('iML1515.xml')\n",
    "%run -i create_pathway.ipynb\n",
    "# flux unit is mmol / [gDW h]"
   ]
  },
  {
   "cell_type": "code",
   "execution_count": 8,
   "metadata": {
    "tags": []
   },
   "outputs": [
    {
     "name": "stdout",
     "output_type": "stream",
     "text": [
      "Added NAM Pathway\n",
      "Added NA Pathway\n",
      "Added NR Pathway\n"
     ]
    }
   ],
   "source": [
    "# creating the models with the respective pathways\n",
    "\n",
    "# path_selector legend\n",
    "# 0 -> no additional reactions\n",
    "#1 -> nicotinamid pathway  \n",
    "#2 -> nicotinic acid pathway  \n",
    "#3 -> nicotinamid riboside pathway\n",
    "\n",
    "nam_model = create_pathway(model.copy(),1)\n",
    "na_model = create_pathway(model.copy(),2)\n",
    "nr_model = create_pathway(model.copy(),3)\n",
    "models = [(nam_model,'NAMPT'),(na_model,'NMN Synthetase'),(nr_model,'DeoD')]"
   ]
  },
  {
   "cell_type": "code",
   "execution_count": 16,
   "metadata": {},
   "outputs": [
    {
     "data": {
      "text/html": [
       "\n",
       "        <table>\n",
       "            <tr>\n",
       "                <td><strong>Reaction identifier</strong></td><td>EX_ncam_e</td>\n",
       "            </tr><tr>\n",
       "                <td><strong>Name</strong></td><td>exchange</td>\n",
       "            </tr><tr>\n",
       "                <td><strong>Memory address</strong></td>\n",
       "                <td>0x20fc751bd00</td>\n",
       "            </tr><tr>\n",
       "                <td><strong>Stoichiometry</strong></td>\n",
       "                <td>\n",
       "                    <p style='text-align:right'>ncam_e <=></p>\n",
       "                    <p style='text-align:right'><=></p>\n",
       "                </td>\n",
       "            </tr><tr>\n",
       "                <td><strong>GPR</strong></td><td></td>\n",
       "            </tr><tr>\n",
       "                <td><strong>Lower bound</strong></td><td>-1000.0</td>\n",
       "            </tr><tr>\n",
       "                <td><strong>Upper bound</strong></td><td>1000.0</td>\n",
       "            </tr>\n",
       "        </table>\n",
       "        "
      ],
      "text/plain": [
       "<Reaction EX_ncam_e at 0x20fc751bd00>"
      ]
     },
     "execution_count": 16,
     "metadata": {},
     "output_type": "execute_result"
    }
   ],
   "source": [
    "medium = model.medium\n",
    "# create exchange reaction\n",
    "\n",
    "model.add_boundary(Metabolite (id='ncam_e', compartment = 'e'), type='exchange')"
   ]
  },
  {
   "cell_type": "markdown",
   "metadata": {},
   "source": [
    "## Simulating pathways and visualizing results\n",
    "The pathways are one by one simulated with the set medium flux. They are analyzed for maximum NMN production in relation to the biomass growth. The phenotypic phase planes show the relation of the carbon yield for malonic acid on methanol as a function of the growth rate."
   ]
  },
  {
   "cell_type": "code",
   "execution_count": 4,
   "metadata": {},
   "outputs": [
    {
     "ename": "SyntaxError",
     "evalue": "EOL while scanning string literal (<ipython-input-4-f7e66beb4c32>, line 25)",
     "output_type": "error",
     "traceback": [
      "\u001b[0;36m  File \u001b[0;32m\"<ipython-input-4-f7e66beb4c32>\"\u001b[0;36m, line \u001b[0;32m25\u001b[0m\n\u001b[0;31m    df_yields.plot(x='Ex_biomass', y=[pairing[1] for pairing in models], title='Pathway car\u001b[0m\n\u001b[0m                                                                                           ^\u001b[0m\n\u001b[0;31mSyntaxError\u001b[0m\u001b[0;31m:\u001b[0m EOL while scanning string literal\n"
     ]
    }
   ],
   "source": [
    "from cobra.flux_analysis.phenotype_phase_plane import production_envelope\n",
    "import pandas as pd\n",
    "\n",
    "model.medium = medium\n",
    "model.objective = model.reactions.get_by_id('Ex_biomass')\n",
    "\n",
    "df_yields = pd.DataFrame()\n",
    "df_max = pd.DataFrame(index=['max carbon yield','max production'])\n",
    "max_growth = model.slim_optimize()\n",
    "print('General maximum biomass growth',max_growth)\n",
    "\n",
    "for pairing in models:\n",
    "    pathway_model = pairing[0]\n",
    "    with pathway_model:\n",
    "        pathway_model.medium = medium\n",
    "        pathway_model.objective = pathway_model.reactions.get_by_id('Ex_mln')\n",
    "        ppp = production_envelope(pathway_model,\n",
    "                    reactions='Ex_biomass',\n",
    "                    objective='Ex_mln')\n",
    "        df_yields[pairing[1]]=ppp.carbon_yield_maximum\n",
    "        df_max[pairing[1]]=[ppp.carbon_yield_maximum.max(),ppp.flux_maximum.max()]\n",
    "\n",
    "display(df_max)\n",
    "df_yields['Ex_biomass'] = ppp.Ex_biomass\n",
    "df_yields.plot(x='Ex_biomass', y=[pairing[1] for pairing in models], title='Pathway car"
   ]
  },
  {
   "cell_type": "markdown",
   "metadata": {},
   "source": [
    "### Discussion"
   ]
  },
  {
   "cell_type": "markdown",
   "metadata": {},
   "source": [
    "# Evaluating optimal O2 uptake"
   ]
  },
  {
   "cell_type": "code",
   "execution_count": null,
   "metadata": {},
   "outputs": [],
   "source": []
  }
 ],
 "metadata": {
  "kernelspec": {
   "display_name": "Python 3 (ipykernel)",
   "language": "python",
   "name": "python3"
  },
  "language_info": {
   "codemirror_mode": {
    "name": "ipython",
    "version": 3
   },
   "file_extension": ".py",
   "mimetype": "text/x-python",
   "name": "python",
   "nbconvert_exporter": "python",
   "pygments_lexer": "ipython3",
   "version": "3.9.12"
  }
 },
 "nbformat": 4,
 "nbformat_minor": 4
}
