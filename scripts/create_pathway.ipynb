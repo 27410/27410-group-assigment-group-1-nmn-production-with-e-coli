{
 "cells": [
  {
   "cell_type": "markdown",
   "metadata": {},
   "source": [
    "Compact pathway creator function\n",
    "\n",
    "Defines all pathways and returns a model with the selected pathway added.\n",
    "The function can be called alone or get assigned to a new variable, but it always alters the handed model. In order to not touch manipulate the existing model work within with model: or create a copy of your model with model.copy() before handing that copy to this function.\n",
    "\n",
    "Function\n",
    "\n",
    "create_pathway(model,path_selector)\n",
    "\n",
    "model ... needs to be handed a model, since it doesnt import it itself to save time when function if called multiple times\n",
    "path_selector ... determines which path is added\n",
    "Import the function into your script with the following code, thic function script has to be in the same folder.\n",
    "\n",
    "%run -i create_pathway.ipynb\n",
    "\n",
    "Pathway legend\n",
    "\n",
    "0 -> no additional reactions\n",
    "1 -> beta alanine pathway\n",
    "2 -> transferase malonyl-CoA pathway\n",
    "3 -> oxidoreductive malonyl-CoA pathway\n",
    "4 -> lactate pathway\n"
   ]
  },
  {
   "cell_type": "code",
   "execution_count": null,
   "metadata": {},
   "outputs": [],
   "source": [
    "path_name = ['no additional reactions','route1', 'route2' ]"
   ]
  }
 ],
 "metadata": {
  "kernelspec": {
   "display_name": "Python 3",
   "language": "python",
   "name": "python3"
  },
  "language_info": {
   "codemirror_mode": {
    "name": "ipython",
    "version": 3
   },
   "file_extension": ".py",
   "mimetype": "text/x-python",
   "name": "python",
   "nbconvert_exporter": "python",
   "pygments_lexer": "ipython3",
   "version": "3.8.5"
  }
 },
 "nbformat": 4,
 "nbformat_minor": 4
}
