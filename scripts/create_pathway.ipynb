{
 "cells": [
  {
   "cell_type": "markdown",
   "metadata": {},
   "source": [
    "Compact pathway creator function\n",
    "\n",
    "Defines all pathways and returns a model with the selected pathway added.\n",
    "The function can be called alone or get assigned to a new variable, but it always alters the handed model. In order to not touch manipulate the existing model work within with model: or create a copy of your model with model.copy() before handing that copy to this function.\n",
    "\n",
    "Function\n",
    "\n",
    "create_pathway(model,path_selector)\n",
    "\n",
    "model ... needs to be handed a model, since it doesnt import it itself to save time when function if called multiple times\n",
    "path_selector ... determines which path is added\n",
    "Import the function into your script with the following code, thic function script has to be in the same folder.\n",
    "\n",
    "%run -i create_pathway.ipynb\n",
    "\n",
    "Pathway legend\n",
    "\n",
    "0 -> no additional reactions\n",
    "1 -> NAM pathway\n",
    "2 -> NA pathway\n",
    "3 -> NR pathway"
   ]
  },
  {
   "cell_type": "markdown",
   "metadata": {},
   "source": [
    "path_name = ['no additional reactions','NAM Pathway','NA Pathway','NR Pathway']"
   ]
  },
  {
   "cell_type": "markdown",
   "metadata": {},
   "source": [
    "Huang, Zhongshi, et al. describes 3 different pathways to produce NMN in *E.coli*, which can be seen in figure 2. The 3 pathways generate MNM accumulatively mainly through the two metabolites NaMN (nicotinic acid mononucleotide) and (NAM: nicotinamide), which are direct precursors for NMN. The reactions, enzymes as well as corresponding metabolites or cofactors were investigated using the Kyoto Encyclopedia of Genes and Genomes KEGG database. To receive a similar strain like Huang, Zhongshi, et al. the regulatory genes nadR, pncC, ushA, and purR must be knocked out. This is especially important for route 3."
   ]
  },
  {
   "cell_type": "markdown",
   "metadata": {},
   "source": [
    "NAM Pathway\n",
    "\n",
    "This pathway contains out of 3 steps: one transportation and two reactions. First, the precursor NAM will be transported into the cell through the NiaP transporter. Secondly Ribose-5-phosphate is converted through the PRPP synthase to PRPP. Thirdly the heterologous nicotinamide phosphoribosyl transferase will use the precursor PRPP and NAM and produce the compound NMN.\n"
   ]
  },
  {
   "cell_type": "code",
   "execution_count": 2,
   "metadata": {},
   "outputs": [],
   "source": [
    "# Importing used packages and model\n",
    "from cobra.io import read_sbml_model\n",
    "from cobra import Reaction, Metabolite\n",
    "model = read_sbml_model('iML1515.xml')\n",
    "\n",
    "# Add metabolite\n",
    "model.add_metabolites([\n",
    "    Metabolite('ncam_e', name='nicotineamide', compartment='e', formula = 'C6H6N2O'  ),\n",
    "    Metabolite('na_c', name='Nicotinic acid',  compartment='c', formula = 'C6H5NO2' ),\n",
    "    Metabolite('namn_c', name='nicotinic acid mononucleotide',  compartment='c', formula = 'C11H14NO9P' ),\n",
    "    Metabolite('nr_c', name='nicotineamide riboside',  compartment='c', formula = 'C11H15N2O5' ),\n",
    "    Metabolite('nr_e', name='nicotineamide riboside',  compartment='e',formula = 'C11H15N2O5' ),\n",
    "    Metabolite('na_e', name='Nicotinic acid',  compartment='e', formula = 'C6H5NO2' ),\n",
    "])"
   ]
  },
  {
   "cell_type": "code",
   "execution_count": 3,
   "metadata": {},
   "outputs": [],
   "source": [
    "# NAM Pathway\n",
    "nico_phos_trans = Reaction('NAMPT')\n",
    "nico_phos_trans.name = 'nicotinamide-phosphoribosyl transferase'\n",
    "# NAM + PRPP <=> NMN + PPi\n",
    "# NMN = Metabolite (id='nmn_c', compartment = 'c')\n",
    "# NMN.name = 'Nicotinamide mononucleotide'\n",
    "# NMN.formula = 'C11H15N2O8P'\n",
    "\n",
    "nico_phos_trans.add_metabolites (({model.metabolites.prpp_c: -1, \n",
    "                                 model.metabolites.ncam_c: -1,\n",
    "                                 model.metabolites.nmn_c: 1,\n",
    "                                 model.metabolites.ppi_c: 1}))\n",
    "\n",
    "R5P_prpp=Reaction('BaPRS')\n",
    "R5P_prpp.name= ('Ribose 5 phosphate to PRPP')\n",
    "R5P_prpp.add_metabolites (({model.metabolites.prpp_c: 1, \n",
    "                                 model.metabolites.r5p_c: -1}))\n",
    "\n",
    "# Ex_NAM -> NAM\n",
    "nicotine_trans = Reaction('NiaP')\n",
    "nicotine_trans.name = 'nicotine transporter'\n",
    "\n",
    "nicotine_trans.add_metabolites (({model.metabolites.ncam_c: 1, \n",
    "                                  model.metabolites.ncam_e: -1}))"
   ]
  },
  {
   "cell_type": "code",
   "execution_count": 4,
   "metadata": {},
   "outputs": [],
   "source": [
    "# Set up pathway\n",
    "nam_path = [nico_phos_trans,nicotine_trans,R5P_prpp]"
   ]
  },
  {
   "cell_type": "markdown",
   "metadata": {},
   "source": [
    "The second pathway simply starts with nicotinic acid as a substrate, which is then converted by the homogenous nicotinic acid phosphoribosyl transferase (EcpncB) to NaMN. The heterologous NMN synthase (FtNadE) translates NAMN afterwards to NMN. "
   ]
  },
  {
   "cell_type": "code",
   "execution_count": 5,
   "metadata": {},
   "outputs": [],
   "source": [
    "# NA Pathway\n",
    "\n",
    "# NA <=> NAMN \n",
    "nico_acid_phosp_trans = Reaction ('PNCB')\n",
    "nico_acid_phosp_trans.name = 'nicotinicacid-phosphoribosyl transferase'\n",
    "\n",
    "nico_acid_phosp_trans.add_metabolites  (({model.metabolites.na_c: -1,\n",
    "                                          model.metabolites.namn_c: 1})) \n",
    "#NAMN <=> NMN \n",
    "nico_syntase= Reaction ('FtNadE')\n",
    "nico_syntase.name = 'nicotineamide mononucleotide synthetase'\n",
    "                                        \n",
    "nico_syntase.add_metabolites (({model.metabolites.namn_c:-1,\n",
    "                                model.metabolites.nmn_c: 1})) \n",
    "#EX_NA -> NA\n",
    "nicotinic_acid_trans = Reaction('NiaP2')\n",
    "nicotinic_acid_trans.name = 'nicotinic acid transporter'\n",
    "\n",
    "nicotinic_acid_trans.add_metabolites (({model.metabolites.na_c: 1, \n",
    "                                  model.metabolites.na_e: -1}))"
   ]
  },
  {
   "cell_type": "code",
   "execution_count": 6,
   "metadata": {},
   "outputs": [],
   "source": [
    "# set up pathway \n",
    "na_path = [nico_acid_phosp_trans,nico_syntase,nicotinic_acid_trans ]\n"
   ]
  },
  {
   "cell_type": "markdown",
   "metadata": {},
   "source": [
    "NR Pathway \n",
    "The third pathway requires the most steps and is considered as the most expensive one, due to the cost of the substrate nicotinamide riboside (NR). As soon NR enters the cell it is converted by 2 enzymes named purine-nucleoside phosphorylase and pncA to NAM. From there it follows the same path as described in route 2.\n"
   ]
  },
  {
   "cell_type": "code",
   "execution_count": 7,
   "metadata": {},
   "outputs": [],
   "source": [
    "# NR Pathway\n",
    "#NR to NAM \n",
    "Pur_nuc_phosph = Reaction ('DeoD')\n",
    "Pur_nuc_phosph.name = 'purine-nucleoside phosphorylase'\n",
    "\n",
    "Pur_nuc_phosph.add_metabolites  (({model.metabolites.nr_c: -1,\n",
    "                                 model.metabolites.ncam_c: 1})) \n",
    "\n",
    "# NAM to NA \n",
    "Pyr_dase = Reaction ('PncA')\n",
    "Pyr_dase.name = 'Pyrazinamidease' \n",
    "\n",
    "Pyr_dase.add_metabolites  (({model.metabolites.ncam_c: -1,\n",
    "                                model.metabolites.na_c: 1})) \n",
    "\n",
    "#EX_NR -> NR\n",
    "nicotineamide_riboside_trans = Reaction('PnuC')\n",
    "nicotineamide_riboside_trans.name = 'nicotineamide riboside transporter'\n",
    "\n",
    "nicotineamide_riboside_trans.add_metabolites (({model.metabolites.nr_c: 1, \n",
    "                                  model.metabolites.nr_e: -1}))"
   ]
  },
  {
   "cell_type": "code",
   "execution_count": 8,
   "metadata": {},
   "outputs": [],
   "source": [
    "nr_path = [Pur_nuc_phosph,Pyr_dase,nicotineamide_riboside_trans]"
   ]
  },
  {
   "cell_type": "markdown",
   "metadata": {},
   "source": [
    "Transport for NMN \n",
    "\n",
    "bla bla bla "
   ]
  },
  {
   "cell_type": "code",
   "execution_count": 9,
   "metadata": {},
   "outputs": [],
   "source": [
    "# Transport reaction cytosol -> extracellular \n",
    "\n",
    "nmn_ctoe = Reaction('BMpnuC')\n",
    "nmn_ctoe.name = 'NMN transporter'\n",
    "nmn_ctoe.add_metabolites({ model.metabolites.nmn_c: -1,\n",
    "                          model.metabolites.nmn_e: 1})\n",
    "# Removal reaction -> alernativ implementation as boundary within the create_pathway function\n",
    "\n",
    "# set up transport path\n",
    "transport = [nmn_ctoe]\n",
    "\n",
    "#model.add_boundary(model.metabolites.nmn_c, type='demand')"
   ]
  },
  {
   "cell_type": "markdown",
   "metadata": {},
   "source": [
    "### Adding selected pathway to model"
   ]
  },
  {
   "cell_type": "code",
   "execution_count": 10,
   "metadata": {},
   "outputs": [],
   "source": [
    "pathways = [[], nam_path, na_path, nr_path]"
   ]
  },
  {
   "cell_type": "code",
   "execution_count": 11,
   "metadata": {},
   "outputs": [],
   "source": [
    "def create_pathway(model, path_selector=0):\n",
    "    model.add_reactions(pathways[path_selector])\n",
    "    model.add_reactions(transport)\n",
    "    return model"
   ]
  },
  {
   "cell_type": "code",
   "execution_count": null,
   "metadata": {},
   "outputs": [],
   "source": []
  }
 ],
 "metadata": {
  "kernelspec": {
   "display_name": "Python 3 (ipykernel)",
   "language": "python",
   "name": "python3"
  },
  "language_info": {
   "codemirror_mode": {
    "name": "ipython",
    "version": 3
   },
   "file_extension": ".py",
   "mimetype": "text/x-python",
   "name": "python",
   "nbconvert_exporter": "python",
   "pygments_lexer": "ipython3",
   "version": "3.9.12"
  }
 },
 "nbformat": 4,
 "nbformat_minor": 4
}
