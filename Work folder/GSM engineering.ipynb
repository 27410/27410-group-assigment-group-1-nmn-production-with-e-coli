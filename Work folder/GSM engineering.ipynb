{
 "cells": [
  {
   "cell_type": "code",
   "execution_count": 12,
   "metadata": {},
   "outputs": [],
   "source": [
    "# This is just importing of the model and some tools to work with the GSM.\n",
    "import numpy as np\n",
    "from cobra.io import read_sbml_model\n",
    "from cobra.util import create_stoichiometric_matrix\n",
    "from cobra import Reaction, Metabolite\n",
    "import pandas as pd\n",
    "# Read model (central metabolism model of Escherichia coli)\n",
    "model = read_sbml_model(\"iML1515.xml\")"
   ]
  },
  {
   "cell_type": "code",
   "execution_count": 6,
   "metadata": {},
   "outputs": [
    {
     "name": "stdout",
     "output_type": "stream",
     "text": [
      "Table 2: Medium composition\n"
     ]
    },
    {
     "data": {
      "text/html": [
       "<div>\n",
       "<style scoped>\n",
       "    .dataframe tbody tr th:only-of-type {\n",
       "        vertical-align: middle;\n",
       "    }\n",
       "\n",
       "    .dataframe tbody tr th {\n",
       "        vertical-align: top;\n",
       "    }\n",
       "\n",
       "    .dataframe thead th {\n",
       "        text-align: right;\n",
       "    }\n",
       "</style>\n",
       "<table border=\"1\" class=\"dataframe\">\n",
       "  <thead>\n",
       "    <tr style=\"text-align: right;\">\n",
       "      <th></th>\n",
       "      <th>EX_pi_e</th>\n",
       "      <th>EX_co2_e</th>\n",
       "      <th>EX_fe3_e</th>\n",
       "      <th>EX_h_e</th>\n",
       "      <th>EX_mn2_e</th>\n",
       "      <th>EX_fe2_e</th>\n",
       "      <th>EX_glc__D_e</th>\n",
       "      <th>EX_zn2_e</th>\n",
       "      <th>EX_mg2_e</th>\n",
       "      <th>EX_ca2_e</th>\n",
       "      <th>...</th>\n",
       "      <th>EX_h2o_e</th>\n",
       "      <th>EX_mobd_e</th>\n",
       "      <th>EX_so4_e</th>\n",
       "      <th>EX_nh4_e</th>\n",
       "      <th>EX_k_e</th>\n",
       "      <th>EX_na1_e</th>\n",
       "      <th>EX_cl_e</th>\n",
       "      <th>EX_o2_e</th>\n",
       "      <th>EX_tungs_e</th>\n",
       "      <th>EX_slnt_e</th>\n",
       "    </tr>\n",
       "  </thead>\n",
       "  <tbody>\n",
       "    <tr>\n",
       "      <th>name</th>\n",
       "      <td>Phosphate</td>\n",
       "      <td>CO2 CO2</td>\n",
       "      <td>Iron (Fe3+)</td>\n",
       "      <td>H+</td>\n",
       "      <td>Manganese</td>\n",
       "      <td>Fe2+ mitochondria</td>\n",
       "      <td>D-Glucose</td>\n",
       "      <td>Zinc</td>\n",
       "      <td>Magnesium</td>\n",
       "      <td>Calcium</td>\n",
       "      <td>...</td>\n",
       "      <td>H2O H2O</td>\n",
       "      <td>Molybdate</td>\n",
       "      <td>Sulfate</td>\n",
       "      <td>Ammonium</td>\n",
       "      <td>Potassium</td>\n",
       "      <td>Sodium</td>\n",
       "      <td>Chloride</td>\n",
       "      <td>O2 O2</td>\n",
       "      <td>Tungstate</td>\n",
       "      <td>Selenite</td>\n",
       "    </tr>\n",
       "    <tr>\n",
       "      <th>uptake</th>\n",
       "      <td>1000.0</td>\n",
       "      <td>1000.0</td>\n",
       "      <td>1000.0</td>\n",
       "      <td>1000.0</td>\n",
       "      <td>1000.0</td>\n",
       "      <td>1000.0</td>\n",
       "      <td>10.0</td>\n",
       "      <td>1000.0</td>\n",
       "      <td>1000.0</td>\n",
       "      <td>1000.0</td>\n",
       "      <td>...</td>\n",
       "      <td>1000.0</td>\n",
       "      <td>1000.0</td>\n",
       "      <td>1000.0</td>\n",
       "      <td>1000.0</td>\n",
       "      <td>1000.0</td>\n",
       "      <td>1000.0</td>\n",
       "      <td>1000.0</td>\n",
       "      <td>1000.0</td>\n",
       "      <td>1000.0</td>\n",
       "      <td>1000.0</td>\n",
       "    </tr>\n",
       "  </tbody>\n",
       "</table>\n",
       "<p>2 rows × 24 columns</p>\n",
       "</div>"
      ],
      "text/plain": [
       "          EX_pi_e EX_co2_e     EX_fe3_e  EX_h_e   EX_mn2_e           EX_fe2_e  \\\n",
       "name    Phosphate  CO2 CO2  Iron (Fe3+)      H+  Manganese  Fe2+ mitochondria   \n",
       "uptake     1000.0   1000.0       1000.0  1000.0     1000.0             1000.0   \n",
       "\n",
       "       EX_glc__D_e EX_zn2_e   EX_mg2_e EX_ca2_e  ... EX_h2o_e  EX_mobd_e  \\\n",
       "name     D-Glucose     Zinc  Magnesium  Calcium  ...  H2O H2O  Molybdate   \n",
       "uptake        10.0   1000.0     1000.0   1000.0  ...   1000.0     1000.0   \n",
       "\n",
       "       EX_so4_e  EX_nh4_e     EX_k_e EX_na1_e   EX_cl_e EX_o2_e EX_tungs_e  \\\n",
       "name    Sulfate  Ammonium  Potassium   Sodium  Chloride   O2 O2  Tungstate   \n",
       "uptake   1000.0    1000.0     1000.0   1000.0    1000.0  1000.0     1000.0   \n",
       "\n",
       "       EX_slnt_e  \n",
       "name    Selenite  \n",
       "uptake    1000.0  \n",
       "\n",
       "[2 rows x 24 columns]"
      ]
     },
     "metadata": {},
     "output_type": "display_data"
    }
   ],
   "source": [
    "# This a test from another assignment from earlier years to see if i could get the medium composition.\n",
    "medium = model.medium\n",
    "print('Table 2: Medium composition')\n",
    "# create a data frame to plot a table\n",
    "med_names = dict()\n",
    "for flux in medium:\n",
    "    meta = model.reactions.get_by_id(flux).metabolites\n",
    "    for element in meta:\n",
    "        med_names[flux] = element.name\n",
    "df_med = pd.DataFrame(medium, index=['uptake'])\n",
    "df_names = pd.DataFrame(med_names, index=['name'])\n",
    "display(pd.concat([df_names,df_med]))"
   ]
  },
  {
   "cell_type": "code",
   "execution_count": 22,
   "metadata": {},
   "outputs": [
    {
     "data": {
      "text/plain": [
       "'test'"
      ]
     },
     "execution_count": 22,
     "metadata": {},
     "output_type": "execute_result"
    }
   ],
   "source": [
    "model.metabolites.nmn_e\n",
    "'test'"
   ]
  },
  {
   "cell_type": "code",
   "execution_count": 18,
   "metadata": {},
   "outputs": [],
   "source": [
    "#\n",
    "\n",
    "# nicotinamide phosphoribosyltransferase\n",
    "nicotinamide_phosphoribosyltransferase = Reaction(\"NAMPT\")\n",
    "\n",
    "# nicotinamide D-ribonucleotide + diphosphate = nicotinamide + 5-phospho-alpha-D-ribose 1-diphosphate\n",
    "\n",
    "nicotinamide_phosphoribosyltransferase.add_metabolites({model.metabolites.prpp_c: -1, \n",
    "                                 model.metabolites.ncam_c: -1,\n",
    "                                 model.metabolites.nmn_c: 1,\n",
    "                                 model.metabolites.ppi_c: 1})"
   ]
  },
  {
   "cell_type": "code",
   "execution_count": 8,
   "metadata": {},
   "outputs": [],
   "source": [
    "model.add_reactions([nicotinamide_phosphoribosyltransferase])"
   ]
  },
  {
   "cell_type": "code",
   "execution_count": 9,
   "metadata": {},
   "outputs": [
    {
     "data": {
      "text/html": [
       "\n",
       "        <table>\n",
       "            <tr>\n",
       "                <td><strong>Reaction identifier</strong></td><td>NAMPT</td>\n",
       "            </tr><tr>\n",
       "                <td><strong>Name</strong></td><td></td>\n",
       "            </tr><tr>\n",
       "                <td><strong>Memory address</strong></td>\n",
       "                <td>0x13bbac819d0</td>\n",
       "            </tr><tr>\n",
       "                <td><strong>Stoichiometry</strong></td>\n",
       "                <td>\n",
       "                    <p style='text-align:right'>ncam_c + prpp_c --> nmn_c + ppi_c</p>\n",
       "                    <p style='text-align:right'>Nicotinamide + 5-Phospho-alpha-D-ribose 1-diphosphate --> NMN C11H14N2O8P + Diphosphate</p>\n",
       "                </td>\n",
       "            </tr><tr>\n",
       "                <td><strong>GPR</strong></td><td></td>\n",
       "            </tr><tr>\n",
       "                <td><strong>Lower bound</strong></td><td>0.0</td>\n",
       "            </tr><tr>\n",
       "                <td><strong>Upper bound</strong></td><td>1000.0</td>\n",
       "            </tr>\n",
       "        </table>\n",
       "        "
      ],
      "text/plain": [
       "<Reaction NAMPT at 0x13bbac819d0>"
      ]
     },
     "execution_count": 9,
     "metadata": {},
     "output_type": "execute_result"
    }
   ],
   "source": [
    "model.reactions.NAMPT"
   ]
  },
  {
   "cell_type": "code",
   "execution_count": null,
   "metadata": {},
   "outputs": [],
   "source": []
  }
 ],
 "metadata": {
  "kernelspec": {
   "display_name": "Python 3 (ipykernel)",
   "language": "python",
   "name": "python3"
  },
  "language_info": {
   "codemirror_mode": {
    "name": "ipython",
    "version": 3
   },
   "file_extension": ".py",
   "mimetype": "text/x-python",
   "name": "python",
   "nbconvert_exporter": "python",
   "pygments_lexer": "ipython3",
   "version": "3.9.12"
  }
 },
 "nbformat": 4,
 "nbformat_minor": 4
}
